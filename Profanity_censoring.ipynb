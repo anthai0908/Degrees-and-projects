{
 "cells": [
  {
   "cell_type": "code",
   "execution_count": 2,
   "metadata": {},
   "outputs": [],
   "source": [
    "\n",
    "from transformers import T5Config, T5ForConditionalGeneration, T5Tokenizer, Seq2SeqTrainer, Seq2SeqTrainingArguments, AdamW, DataCollatorForSeq2Seq,  TrainingArguments, Trainer, DataCollatorForLanguageModeling\n",
    "import sacrebleu\n",
    "import numpy as np\n",
    "import tensorboard\n",
    "import evaluate\n",
    "from safetensors.torch import load_file\n",
    "from adapters import AdapterConfig, T5AdapterModel\n",
    "import torch\n",
    "import pandas as pd\n",
    "from datasets import Dataset"
   ]
  },
  {
   "cell_type": "code",
   "execution_count": 3,
   "metadata": {},
   "outputs": [],
   "source": [
    "def preprocess_function(examples, tokenizer, input_length=512):\n",
    "    # Access 'profanity' and 'non_profanity' as lists\n",
    "    inputs = ['Translate from profanity to non-profanity: ' + text for text in examples['profanity']]\n",
    "    targets = examples['non_profanity']\n",
    "    \n",
    "    # Tokenize inputs and targets\n",
    "    model_inputs = tokenizer(inputs, max_length=input_length, truncation=True)\n",
    "    with tokenizer.as_target_tokenizer():\n",
    "        labels = tokenizer(targets, max_length=input_length, truncation=True)\n",
    "        \n",
    "    model_inputs['labels'] = labels['input_ids']\n",
    "    return model_inputs\n"
   ]
  },
  {
   "cell_type": "code",
   "execution_count": 4,
   "metadata": {},
   "outputs": [
    {
     "name": "stdout",
     "output_type": "stream",
     "text": [
      "1598\n"
     ]
    }
   ],
   "source": [
    "with open('profanity.csv', 'r') as file:\n",
    "    stripped_lines = [line.strip() for line in file]\n",
    "    print(len(stripped_lines))\n",
    "dataset1 = pd.DataFrame(stripped_lines, columns= ['profanity'])"
   ]
  },
  {
   "cell_type": "code",
   "execution_count": 5,
   "metadata": {},
   "outputs": [
    {
     "name": "stdout",
     "output_type": "stream",
     "text": [
      "1598\n"
     ]
    }
   ],
   "source": [
    "with open('non_profanity.csv', 'r') as file:\n",
    "    stripped_lines = [line.strip() for line in file]\n",
    "    print(len(stripped_lines))\n",
    "dataset2 = pd.DataFrame(stripped_lines, columns= ['non_profanity'])"
   ]
  },
  {
   "cell_type": "code",
   "execution_count": 6,
   "metadata": {},
   "outputs": [
    {
     "name": "stdout",
     "output_type": "stream",
     "text": [
      "<class 'pandas.core.frame.DataFrame'>\n",
      "RangeIndex: 1598 entries, 0 to 1597\n",
      "Data columns (total 1 columns):\n",
      " #   Column     Non-Null Count  Dtype \n",
      "---  ------     --------------  ----- \n",
      " 0   profanity  1598 non-null   object\n",
      "dtypes: object(1)\n",
      "memory usage: 12.6+ KB\n"
     ]
    }
   ],
   "source": [
    "dataset1.info()"
   ]
  },
  {
   "cell_type": "code",
   "execution_count": 7,
   "metadata": {},
   "outputs": [
    {
     "name": "stdout",
     "output_type": "stream",
     "text": [
      "<class 'pandas.core.frame.DataFrame'>\n",
      "RangeIndex: 1598 entries, 0 to 1597\n",
      "Data columns (total 1 columns):\n",
      " #   Column         Non-Null Count  Dtype \n",
      "---  ------         --------------  ----- \n",
      " 0   non_profanity  1598 non-null   object\n",
      "dtypes: object(1)\n",
      "memory usage: 12.6+ KB\n"
     ]
    }
   ],
   "source": [
    "dataset2.info()"
   ]
  },
  {
   "cell_type": "code",
   "execution_count": 8,
   "metadata": {},
   "outputs": [],
   "source": [
    "\n",
    "dataset1[\"non_profanity\"] = dataset2[\"non_profanity\"]\n"
   ]
  },
  {
   "cell_type": "code",
   "execution_count": 9,
   "metadata": {},
   "outputs": [
    {
     "name": "stdout",
     "output_type": "stream",
     "text": [
      "   profanity         non_profanity\n",
      "0         69   mutual satisfaction\n",
      "1        @55                bottom\n",
      "2   @ssfcker     unpleasant person\n",
      "3  @ssfucker  offensive individual\n",
      "4  @ssfvcker  disrespectful person\n",
      "5    @sshole                  jerk\n",
      "6  0ral seks         oral activity\n",
      "7   0ral sex         oral intimacy\n",
      "8     0rg@sm                climax\n",
      "9    0rgasms              climaxes\n"
     ]
    }
   ],
   "source": [
    "print(dataset1.head(10))"
   ]
  },
  {
   "cell_type": "code",
   "execution_count": 10,
   "metadata": {},
   "outputs": [],
   "source": [
    "dataset = Dataset.from_pandas(dataset1)"
   ]
  },
  {
   "cell_type": "code",
   "execution_count": 11,
   "metadata": {},
   "outputs": [
    {
     "name": "stdout",
     "output_type": "stream",
     "text": [
      "Dataset({\n",
      "    features: ['profanity', 'non_profanity'],\n",
      "    num_rows: 1598\n",
      "})\n"
     ]
    }
   ],
   "source": [
    "print(dataset)\n",
    "train_dataset = dataset.train_test_split(test_size=0.2, shuffle= True)"
   ]
  },
  {
   "cell_type": "code",
   "execution_count": 12,
   "metadata": {},
   "outputs": [
    {
     "name": "stdout",
     "output_type": "stream",
     "text": [
      "{'train': (1278, 2), 'test': (320, 2)}\n"
     ]
    }
   ],
   "source": [
    "print(train_dataset.shape)"
   ]
  },
  {
   "cell_type": "code",
   "execution_count": 13,
   "metadata": {},
   "outputs": [
    {
     "name": "stderr",
     "output_type": "stream",
     "text": [
      "You are using the default legacy behaviour of the <class 'transformers.models.t5.tokenization_t5.T5Tokenizer'>. This is expected, and simply means that the `legacy` (previous) behavior will be used so nothing changes for you. If you want to use the new behaviour, set `legacy=False`. This should only be set if you understand what it means, and thoroughly read the reason why this was added as explained in https://github.com/huggingface/transformers/pull/24565\n"
     ]
    }
   ],
   "source": [
    "config = T5Config.from_pretrained('t5-base')\n",
    "model = T5ForConditionalGeneration(config)\n",
    "tokenizer = T5Tokenizer.from_pretrained('T5-base')\n",
    "data_collator = DataCollatorForSeq2Seq(tokenizer= tokenizer, model = model)"
   ]
  },
  {
   "cell_type": "code",
   "execution_count": 14,
   "metadata": {},
   "outputs": [
    {
     "name": "stdout",
     "output_type": "stream",
     "text": [
      "{'profanity': 'f0ckers', 'non_profanity': 'bothersome individuals'}\n",
      "{'profanity': 'mofuccers', 'non_profanity': 'bothersome individuals'}\n",
      "{'profanity': 'fuck y0u', 'non_profanity': 'expression of frustration'}\n",
      "{'profanity': 'timber nigger', 'non_profanity': 'informal term for female anatomy'}\n",
      "{'profanity': 'shitfacefuck', 'non_profanity': 'bothersome individual'}\n",
      "{'profanity': 'scumfucker', 'non_profanity': 'informal term for a bothersome individual'}\n",
      "{'profanity': 'cunt', 'non_profanity': 'offensive term for a woman'}\n",
      "{'profanity': 'shemal3', 'non_profanity': 'informal term for a transgender woman'}\n",
      "{'profanity': 'blacky', 'non_profanity': 'informal term for oral stimulation'}\n",
      "{'profanity': 'motherfuckingshit', 'non_profanity': 'inappropriate behavior'}\n",
      "{'profanity': 'jigger', 'non_profanity': 'informal term for a Black person'}\n",
      "{'profanity': 'analplug', 'non_profanity': 'anal toy'}\n",
      "{'profanity': 'fvckbunny', 'non_profanity': 'playful term for a troublesome person'}\n",
      "{'profanity': 'faggot', 'non_profanity': 'derogatory term for a person'}\n",
      "{'profanity': 'arsefucker', 'non_profanity': 'derogatory term for an individual'}\n",
      "{'profanity': 'cuntlick', 'non_profanity': 'informal term for oral activity'}\n",
      "{'profanity': 'molester', 'non_profanity': 'inappropriate term for a person who exploits others'}\n",
      "{'profanity': 'bugger off', 'non_profanity': 'go away'}\n",
      "{'profanity': 'fucs', 'non_profanity': 'bothersome individuals'}\n",
      "{'profanity': 'fatasses', 'non_profanity': 'overweight individuals'}\n",
      "{'profanity': 'knob gobbler', 'non_profanity': 'bothersome individual'}\n",
      "{'profanity': 'homo', 'non_profanity': 'informal term for a homosexual person'}\n",
      "{'profanity': 'wanked', 'non_profanity': 'informal term for having engaged in masturbation'}\n",
      "{'profanity': 'shitbag', 'non_profanity': 'bothersome individual'}\n",
      "{'profanity': 'arsefuck', 'non_profanity': 'derogatory term for an act'}\n",
      "{'profanity': 'injun', 'non_profanity': 'offensive term for a Native American (not recommended)'}\n",
      "{'profanity': 'nikkas', 'non_profanity': 'informal term for a Black individual'}\n",
      "{'profanity': 'shtfuk', 'non_profanity': 'informal term for inappropriate behavior'}\n",
      "{'profanity': 'faget', 'non_profanity': 'bothersome individual'}\n",
      "{'profanity': 'f@ggot', 'non_profanity': 'offensive term for a person (not recommended)'}\n",
      "{'profanity': 'phaggot', 'non_profanity': 'offensive term for a person'}\n",
      "{'profanity': 'knobd', 'non_profanity': 'bothersome individual'}\n",
      "{'profanity': 'pole smoker', 'non_profanity': 'informal term for someone engaging in oral activity'}\n",
      "{'profanity': 'faggs', 'non_profanity': 'bothersome individuals'}\n",
      "{'profanity': 'assfuckers', 'non_profanity': 'bothersome individuals'}\n",
      "{'profanity': 'aboe', 'non_profanity': 'above'}\n",
      "{'profanity': 'soab', 'non_profanity': 'offensive term for a bothersome individual'}\n",
      "{'profanity': 'schlong', 'non_profanity': 'informal term for male genitalia'}\n",
      "{'profanity': 'cumdumpster', 'non_profanity': 'disrespectful term for someone promiscuous'}\n",
      "{'profanity': 'abeed', 'non_profanity': 'naive person'}\n",
      "{'profanity': 'queers', 'non_profanity': 'informal term for individuals'}\n",
      "{'profanity': 'fckin', 'non_profanity': 'informal term for emphasis'}\n",
      "{'profanity': 'focker', 'non_profanity': 'bothersome individual'}\n",
      "{'profanity': 'polesmoker', 'non_profanity': 'informal term for someone engaging in oral activity'}\n",
      "{'profanity': 'cockless', 'non_profanity': 'lacking male genitalia'}\n",
      "{'profanity': 'gook', 'non_profanity': 'offensive term for a person'}\n",
      "{'profanity': 'coot coot', 'non_profanity': 'informal term for someone silly'}\n",
      "{'profanity': 'cock-face', 'non_profanity': 'foolish individual'}\n",
      "{'profanity': 'fkker', 'non_profanity': 'bothersome individual'}\n",
      "{'profanity': 'shitehead', 'non_profanity': 'foolish individual'}\n",
      "{'profanity': 'fkings', 'non_profanity': 'informal term for emphasis'}\n",
      "{'profanity': 'cunnilingus', 'non_profanity': 'oral stimulation'}\n",
      "{'profanity': 'sonna bitch', 'non_profanity': 'bothersome individual'}\n",
      "{'profanity': 'tard', 'non_profanity': 'offensive term for a person with a disability'}\n",
      "{'profanity': 'sissy', 'non_profanity': 'derogatory term for a person lacking masculinity'}\n",
      "{'profanity': 'fuks', 'non_profanity': 'bothersome individuals'}\n",
      "{'profanity': 'throat yogurt', 'non_profanity': 'informal term for bodily fluid'}\n",
      "{'profanity': 'jackoffs', 'non_profanity': 'individuals who engage in self-pleasure'}\n",
      "{'profanity': 'shitting', 'non_profanity': 'informal term for the act of producing feces'}\n",
      "{'profanity': 'j-offs', 'non_profanity': 'informal term for masturbation'}\n",
      "{'profanity': 'c*nts', 'non_profanity': 'offensive individuals'}\n",
      "{'profanity': 'son o bitch', 'non_profanity': 'informal term for a bothersome individual'}\n",
      "{'profanity': 'dump a load', 'non_profanity': 'release bodily fluids'}\n",
      "{'profanity': 'shit-ass', 'non_profanity': 'bothersome individual'}\n",
      "{'profanity': 'bi+ch', 'non_profanity': 'informal term for a woman (often derogatory)'}\n",
      "{'profanity': 'fuckstar', 'non_profanity': 'bothersome person'}\n",
      "{'profanity': 'fagg0t', 'non_profanity': 'derogatory term for a person'}\n",
      "{'profanity': 'spicshit', 'non_profanity': 'informal term for feces'}\n",
      "{'profanity': 'arse gobbler', 'non_profanity': 'derogatory term for an individual'}\n",
      "{'profanity': 'fuckster', 'non_profanity': 'troublesome individual'}\n",
      "{'profanity': 'slantfreak', 'non_profanity': 'informal term for a bothersome individual'}\n",
      "{'profanity': 'mindfuck', 'non_profanity': 'confusing situation'}\n",
      "{'profanity': 'faggo', 'non_profanity': 'bothersome individual'}\n",
      "{'profanity': 'spix', 'non_profanity': 'offensive term for a Hispanic person'}\n",
      "{'profanity': 'motherfuckka', 'non_profanity': 'bothersome individual'}\n",
      "{'profanity': 'bassturd', 'non_profanity': 'troublesome individual'}\n",
      "{'profanity': 'dogsh1t', 'non_profanity': 'excrement'}\n",
      "{'profanity': 'piggyfuck', 'non_profanity': 'informal term for inappropriate behavior'}\n",
      "{'profanity': 'sheeeet', 'non_profanity': 'informal term for feces'}\n",
      "{'profanity': 'fuckaz', 'non_profanity': 'troublesome individuals'}\n",
      "{'profanity': 'assfukker', 'non_profanity': 'bothersome individual'}\n",
      "{'profanity': 'muthafuckings', 'non_profanity': 'informal term for emphasis'}\n",
      "{'profanity': 'what the fuck', 'non_profanity': 'expression of frustration'}\n",
      "{'profanity': 'bitchers', 'non_profanity': 'individuals who complain'}\n",
      "{'profanity': 'b1tchez', 'non_profanity': 'difficult people'}\n",
      "{'profanity': 'mothafucced', 'non_profanity': 'bothersome individual'}\n",
      "{'profanity': 'fked', 'non_profanity': 'bothersome individual'}\n",
      "{'profanity': 'hoes', 'non_profanity': 'informal term for women'}\n",
      "{'profanity': 'cocksuck', 'non_profanity': 'disrespectful term for oral activity'}\n",
      "{'profanity': 'dogsh1ts', 'non_profanity': 'excrement (plural)'}\n",
      "{'profanity': 'cockheads', 'non_profanity': 'bothersome individuals'}\n",
      "{'profanity': 'fack', 'non_profanity': 'informal variation of an inappropriate term'}\n",
      "{'profanity': 'n1gga', 'non_profanity': 'informal term for a Black individual'}\n",
      "{'profanity': 'fuk1ng', 'non_profanity': 'informal term for emphasis'}\n",
      "{'profanity': 'niggah', 'non_profanity': 'informal term for a Black individual'}\n",
      "{'profanity': 'Mothafucc', 'non_profanity': 'bothersome individual'}\n",
      "{'profanity': 'biotchez', 'non_profanity': 'playful term for women'}\n",
      "{'profanity': 'bitchy ass', 'non_profanity': 'difficult behavior'}\n",
      "{'profanity': 'dicksmoker', 'non_profanity': 'bothersome individual'}\n",
      "{'profanity': 'cuntless', 'non_profanity': 'lacking unpleasant qualities'}\n",
      "{'profanity': 'bitch', 'non_profanity': 'unpleasant person'}\n",
      "{'profanity': 'wigger', 'non_profanity': 'offensive term for a white person who adopts characteristics of Black culture'}\n",
      "{'profanity': 'shitfaced', 'non_profanity': 'intoxicated individual'}\n",
      "{'profanity': 'finger fuck', 'non_profanity': 'engage in inappropriate sexual activity'}\n",
      "{'profanity': 'we1back', 'non_profanity': 'offensive term for a person of Latin American descent'}\n",
      "{'profanity': 'g@ylord', 'non_profanity': 'informal term for a gay person (not recommended)'}\n",
      "{'profanity': 'motherfuckers', 'non_profanity': 'bothersome individuals'}\n",
      "{'profanity': 'spicfuck', 'non_profanity': 'offensive term for a Hispanic individual'}\n",
      "{'profanity': 'fvck', 'non_profanity': 'informal term for emphasis'}\n",
      "{'profanity': 'raghead', 'non_profanity': 'offensive term for a person of Middle Eastern descent'}\n",
      "{'profanity': 'spook', 'non_profanity': 'offensive term for a Black person'}\n",
      "{'profanity': 'cocksucker', 'non_profanity': 'bothersome individual'}\n",
      "{'profanity': 'dlcks', 'non_profanity': 'male genitalia (plural)'}\n",
      "{'profanity': 'fag hag', 'non_profanity': 'derogatory term for a person (not recommended)'}\n",
      "{'profanity': 'ass eating boiolas', 'non_profanity': 'disruptive individuals'}\n",
      "{'profanity': 'pussy fucker', 'non_profanity': 'informal term for someone engaging in sexual activity'}\n",
      "{'profanity': 'porch monkey', 'non_profanity': 'offensive term for a Black person (not recommended)'}\n",
      "{'profanity': 'w4nker', 'non_profanity': 'informal term for someone who acts obnoxiously'}\n",
      "{'profanity': 'sk@nks', 'non_profanity': 'derogatory term for individuals'}\n",
      "{'profanity': 'phuking', 'non_profanity': 'informal term for emphasis'}\n",
      "{'profanity': 'boobs', 'non_profanity': 'humorous reference to breasts'}\n",
      "{'profanity': 'fcukker', 'non_profanity': 'bothersome individual'}\n",
      "{'profanity': 'niccer', 'non_profanity': 'offensive term for a Black person'}\n",
      "{'profanity': 'loose woman', 'non_profanity': 'promiscuous individual'}\n",
      "{'profanity': 'caca', 'non_profanity': 'feces'}\n",
      "{'profanity': 'l3i+ch', 'non_profanity': 'informal term for a woman'}\n",
      "{'profanity': 'arse-bandits', 'non_profanity': 'derogatory term for individuals'}\n",
      "{'profanity': 'pussy licking', 'non_profanity': 'informal term for the act of oral activity'}\n",
      "{'profanity': 'mothfck', 'non_profanity': 'bothersome individual'}\n",
      "{'profanity': 'faggot nob jokeys', 'non_profanity': 'troublesome individuals'}\n",
      "{'profanity': 'fcktard', 'non_profanity': 'foolish individual'}\n",
      "{'profanity': 'bastardish', 'non_profanity': 'difficult or unkind'}\n",
      "{'profanity': 'jizz-jockey', 'non_profanity': 'informal term for someone engaging in oral activity'}\n",
      "{'profanity': 'kneegrows', 'non_profanity': 'offensive term for Black individuals'}\n",
      "{'profanity': 'trasherbitchs', 'non_profanity': 'bothersome individuals'}\n",
      "{'profanity': 'jiggas', 'non_profanity': 'informal term for Black individuals'}\n",
      "{'profanity': 'jizzsacks', 'non_profanity': 'bothersome individuals'}\n",
      "{'profanity': 'nobjocky', 'non_profanity': 'informal term for a person'}\n",
      "{'profanity': 'bastard', 'non_profanity': 'unpleasant person'}\n",
      "{'profanity': 'n0bj0cky', 'non_profanity': 'bothersome individual'}\n",
      "{'profanity': 'dickz', 'non_profanity': 'male genitalia (informal)'}\n",
      "{'profanity': 'fux', 'non_profanity': 'troublesome individual'}\n",
      "{'profanity': 'b0llock', 'non_profanity': 'bothersome individual'}\n",
      "{'profanity': 'asswhole', 'non_profanity': 'annoying individual'}\n",
      "{'profanity': 'jizzing', 'non_profanity': 'engaging in the act of releasing bodily fluid'}\n",
      "{'profanity': 'fuker', 'non_profanity': 'bothersome individual'}\n",
      "{'profanity': 'gobshite', 'non_profanity': 'bothersome individual'}\n",
      "{'profanity': 'doggo style', 'non_profanity': 'informal term for a sexual position'}\n",
      "{'profanity': 'phukings', 'non_profanity': 'informal term for emphasis'}\n",
      "{'profanity': 'fucker off', 'non_profanity': 'go away'}\n",
      "{'profanity': 'cawksucker', 'non_profanity': 'bothersome individual'}\n",
      "{'profanity': 'sack', 'non_profanity': 'informal term for a bag or pouch'}\n",
      "{'profanity': 'jiggaboo', 'non_profanity': 'offensive term for a Black person'}\n",
      "{'profanity': 'mofucckers', 'non_profanity': 'bothersome individuals'}\n",
      "{'profanity': 'prick-gobbler', 'non_profanity': 'informal term for someone engaging in oral activity'}\n",
      "{'profanity': 'redskin', 'non_profanity': 'offensive term for a Native American'}\n",
      "{'profanity': 'cock knocker', 'non_profanity': 'bothersome person'}\n",
      "{'profanity': 'swine', 'non_profanity': 'informal term for a contemptible person'}\n",
      "{'profanity': 'fvck you', 'non_profanity': 'expression of frustration'}\n",
      "{'profanity': 'motha fuckers', 'non_profanity': 'bothersome individuals'}\n",
      "{'profanity': 'cock sucking nob jokeys', 'non_profanity': 'troublesome individuals'}\n",
      "{'profanity': 'jagoff', 'non_profanity': 'foolish individual'}\n",
      "{'profanity': 'beat your meat', 'non_profanity': 'engage in self-pleasure'}\n",
      "{'profanity': 'jerk-off', 'non_profanity': 'informal term for self-pleasure'}\n",
      "{'profanity': 'dumbass fucker', 'non_profanity': 'bothersome individual'}\n",
      "{'profanity': 'ladyb0i', 'non_profanity': 'flamboyant individual'}\n",
      "{'profanity': 'bollox', 'non_profanity': 'erection'}\n",
      "{'profanity': 'mothafuckin', 'non_profanity': 'informal term for emphasis'}\n",
      "{'profanity': 'k!ke', 'non_profanity': 'offensive term for a Jewish person'}\n",
      "{'profanity': 'god-dam', 'non_profanity': 'informal term for frustration'}\n",
      "{'profanity': 'wise ass', 'non_profanity': 'informal term for a person who is overly sarcastic'}\n",
      "{'profanity': 'shitti', 'non_profanity': 'informal term for something unpleasant'}\n",
      "{'profanity': 'mothafuccing', 'non_profanity': 'informal term for emphasis'}\n",
      "{'profanity': 'f@gs', 'non_profanity': 'offensive term for individuals (not recommended)'}\n",
      "{'profanity': 'shitfvck', 'non_profanity': 'informal term for inappropriate behavior'}\n",
      "{'profanity': 'motherfucked', 'non_profanity': 'confused or chaotic'}\n",
      "{'profanity': 'ladboyz', 'non_profanity': 'informal term for a flamboyant individual'}\n",
      "{'profanity': 'towelheads', 'non_profanity': 'offensive term for individuals of Middle Eastern descent'}\n",
      "{'profanity': 'niglet', 'non_profanity': 'offensive term for a young Black person'}\n",
      "{'profanity': 'nigger', 'non_profanity': 'offensive term for a Black person'}\n",
      "{'profanity': 'basterd', 'non_profanity': 'difficult person'}\n",
      "{'profanity': 'palm jockey', 'non_profanity': 'derogatory term for a person'}\n",
      "{'profanity': 'dipstick', 'non_profanity': 'troublesome person'}\n",
      "{'profanity': 'dyke', 'non_profanity': 'informal term for a lesbian woman'}\n",
      "{'profanity': 'faggot mofoes', 'non_profanity': 'bothersome individuals'}\n",
      "{'profanity': 'mothafuckasses', 'non_profanity': 'bothersome individuals'}\n",
      "{'profanity': 'fugger', 'non_profanity': 'bothersome individual'}\n",
      "{'profanity': 'fag queen', 'non_profanity': 'derogatory term for a person (not recommended)'}\n",
      "{'profanity': 'phucked', 'non_profanity': 'confused or chaotic'}\n",
      "{'profanity': 'ch1nk', 'non_profanity': 'offensive term for a racial group'}\n",
      "{'profanity': 'peter puffer', 'non_profanity': 'informal term for someone engaging in sexual activity'}\n",
      "{'profanity': 'p3nisfcukers', 'non_profanity': 'informal term for individuals engaging in inappropriate behavior'}\n",
      "{'profanity': 'chink', 'non_profanity': 'offensive term for a person'}\n",
      "{'profanity': 'ass kisser', 'non_profanity': 'flatterer'}\n",
      "{'profanity': 'nigra', 'non_profanity': 'informal term for a Black person'}\n",
      "{'profanity': 'darky', 'non_profanity': 'informal term for a person (not recommended)'}\n",
      "{'profanity': 'bastid', 'non_profanity': 'rude individual'}\n",
      "{'profanity': 'fookuh', 'non_profanity': 'informal term for a person (context-dependent)'}\n",
      "{'profanity': 'm0ngoloid', 'non_profanity': 'offensive term for an individual (not recommended)'}\n",
      "{'profanity': 'cunt fart', 'non_profanity': 'embarrassing situation'}\n",
      "{'profanity': 'nigers', 'non_profanity': 'informal term for a Black person'}\n",
      "{'profanity': 'butt fuck', 'non_profanity': 'inappropriate act'}\n",
      "{'profanity': 'cyberfucks', 'non_profanity': 'disrespectful terms for virtual interactions'}\n",
      "{'profanity': 'spik', 'non_profanity': 'offensive term for a Hispanic person'}\n",
      "{'profanity': 'fag0t', 'non_profanity': 'offensive term for a person (not recommended)'}\n",
      "{'profanity': 'spics', 'non_profanity': 'offensive term for Hispanic individuals'}\n",
      "{'profanity': 'fuckem', 'non_profanity': 'informal term for annoyance'}\n",
      "{'profanity': '0ral seks', 'non_profanity': 'oral activity'}\n",
      "{'profanity': 'vajayjay', 'non_profanity': 'anatomical term for female genitalia'}\n",
      "{'profanity': 'dick-head', 'non_profanity': 'foolish person'}\n",
      "{'profanity': 'shitdicks', 'non_profanity': 'bothersome individuals'}\n",
      "{'profanity': 'turdcutter', 'non_profanity': 'informal term for someone who causes problems'}\n",
      "{'profanity': 'pussylickers', 'non_profanity': 'informal term for individuals engaging in oral activity'}\n",
      "{'profanity': 'cockmonger', 'non_profanity': 'troublesome individual'}\n",
      "{'profanity': 'fuck face', 'non_profanity': 'foolish individual'}\n",
      "{'profanity': 'nonce', 'non_profanity': 'offensive term for a person'}\n",
      "{'profanity': 'shitedick', 'non_profanity': 'bothersome individual'}\n",
      "{'profanity': 'fags', 'non_profanity': 'bothersome individuals'}\n",
      "{'profanity': 'jerks off', 'non_profanity': 'engaging in self-pleasure'}\n",
      "{'profanity': 'cuntz', 'non_profanity': 'informal term for individuals'}\n",
      "{'profanity': 'gay wad', 'non_profanity': 'informal term for a person'}\n",
      "{'profanity': 'pussies', 'non_profanity': 'informal term for female genitalia'}\n",
      "{'profanity': 'fukkings', 'non_profanity': 'informal term for emphasis'}\n",
      "{'profanity': 'wh0r3', 'non_profanity': 'derogatory term for a promiscuous woman'}\n",
      "{'profanity': 'jigaboo', 'non_profanity': 'offensive term for a Black person'}\n",
      "{'profanity': 'wank3rs', 'non_profanity': 'informal term for bothersome individuals'}\n",
      "{'profanity': 'fuckshithead', 'non_profanity': 'foolish individual'}\n",
      "{'profanity': 'douche', 'non_profanity': 'bothersome individual'}\n",
      "{'profanity': 'fvckers', 'non_profanity': 'bothersome individuals'}\n",
      "{'profanity': 'bater', 'non_profanity': 'someone who engages in self-pleasure'}\n",
      "{'profanity': 'niggas', 'non_profanity': 'informal term for Black individuals'}\n",
      "{'profanity': 'fuking', 'non_profanity': 'informal term for emphasis'}\n",
      "{'profanity': 'shiat', 'non_profanity': 'informal term for feces'}\n",
      "{'profanity': 'spig', 'non_profanity': 'offensive term for a Hispanic person'}\n",
      "{'profanity': 'dickslapper', 'non_profanity': 'bothersome individual'}\n",
      "{'profanity': 'fcuk', 'non_profanity': 'inappropriate term for sexual activity'}\n",
      "{'profanity': 'choad nectar', 'non_profanity': 'humorous reference to male bodily fluids'}\n",
      "{'profanity': 'l3i + ch', 'non_profanity': 'informal term for a woman'}\n",
      "{'profanity': 'skankz', 'non_profanity': 'informal term for promiscuous individuals'}\n",
      "{'profanity': 'anus', 'non_profanity': 'rear opening'}\n",
      "{'profanity': 'assfuckerz', 'non_profanity': 'irritating people'}\n",
      "{'profanity': 'bitchasses', 'non_profanity': 'cowardly individuals'}\n",
      "{'profanity': 'goddamned', 'non_profanity': 'characterized by annoyance'}\n",
      "{'profanity': 'shit stain', 'non_profanity': 'informal term for feces mark'}\n",
      "{'profanity': 'g@yshit', 'non_profanity': 'disrespectful behavior'}\n",
      "{'profanity': 'dickless', 'non_profanity': 'lacking male genitalia'}\n",
      "{'profanity': 'shites', 'non_profanity': 'informal term for feces'}\n",
      "{'profanity': 'beaners', 'non_profanity': 'plural of derogatory term for Hispanic individuals (not recommended)'}\n",
      "{'profanity': 'Phukking', 'non_profanity': 'informal term for emphasis'}\n",
      "{'profanity': 'c0cks', 'non_profanity': 'male genitalia (plural)'}\n",
      "{'profanity': 'double dicking', 'non_profanity': 'engaging in a specific sexual act'}\n",
      "{'profanity': 'jizzstain', 'non_profanity': 'bodily fluid stain'}\n",
      "{'profanity': 'c0cksucker', 'non_profanity': 'bothersome individual'}\n",
      "{'profanity': 'a_s_s', 'non_profanity': 'rear'}\n",
      "{'profanity': 'higg@', 'non_profanity': 'derogatory term for an individual'}\n",
      "{'profanity': 'dog shit', 'non_profanity': 'excrement'}\n",
      "{'profanity': 'bullshit', 'non_profanity': 'nonsense'}\n",
      "{'profanity': 'double pen', 'non_profanity': 'informal term for a sexual act'}\n",
      "{'profanity': 'cock smoker', 'non_profanity': 'informal term for a bothersome person'}\n",
      "{'profanity': 'arse-hole', 'non_profanity': 'unpleasant person'}\n",
      "{'profanity': 'fuckshitface', 'non_profanity': 'bothersome individual'}\n",
      "{'profanity': 'b1+ch', 'non_profanity': 'foolish person'}\n",
      "{'profanity': 'mothafuckers', 'non_profanity': 'bothersome individuals'}\n",
      "{'profanity': 'penisfcker', 'non_profanity': 'informal term for someone engaging in inappropriate behavior'}\n",
      "{'profanity': 'cocksuccer', 'non_profanity': 'bothersome individual'}\n",
      "{'profanity': 'ramrod', 'non_profanity': 'informal term for a stiff object'}\n",
      "{'profanity': 'cockshit', 'non_profanity': 'nonsense or inappropriate behavior'}\n",
      "{'profanity': 'tramp', 'non_profanity': 'informal term for a promiscuous woman'}\n",
      "{'profanity': 'fvcka', 'non_profanity': 'bothersome individual'}\n",
      "{'profanity': 'c0ckhead', 'non_profanity': 'foolish individual'}\n",
      "{'profanity': 'phuc', 'non_profanity': 'informal term for an inappropriate action'}\n",
      "{'profanity': 'shit', 'non_profanity': 'informal term for feces'}\n",
      "{'profanity': 'clusterfucks', 'non_profanity': 'problematic situations'}\n",
      "{'profanity': 'phuqs', 'non_profanity': 'bothersome individuals'}\n",
      "{'profanity': 'nob jockey', 'non_profanity': 'bothersome individual'}\n",
      "{'profanity': 'punani', 'non_profanity': 'informal term for female genitalia'}\n",
      "{'profanity': 'piss face', 'non_profanity': 'informal term for a foolish individual'}\n",
      "{'profanity': 'motherfvckers', 'non_profanity': 'bothersome individuals'}\n",
      "{'profanity': 'man chowder', 'non_profanity': 'informal term for male genitalia'}\n",
      "{'profanity': 'trouser snake', 'non_profanity': 'informal term for male genitalia'}\n",
      "{'profanity': 'kkk', 'non_profanity': 'abbreviation for a hate group'}\n",
      "{'profanity': 'motherf@kka', 'non_profanity': 'bothersome individual'}\n",
      "{'profanity': 'motherfucker', 'non_profanity': 'bothersome individual'}\n",
      "{'profanity': 'shemales', 'non_profanity': 'informal term for transgender individuals'}\n",
      "{'profanity': 'fxcker', 'non_profanity': 'bothersome individual'}\n",
      "{'profanity': 'wankies', 'non_profanity': 'informal term for bothersome individuals'}\n",
      "{'profanity': 'jailba!t', 'non_profanity': 'informal term for someone underage who attracts attention'}\n",
      "{'profanity': 'abbie', 'non_profanity': 'nickname or informal term'}\n",
      "{'profanity': 'bastards', 'non_profanity': 'unpleasant individuals'}\n",
      "{'profanity': 'jiggs', 'non_profanity': 'informal term for a person'}\n",
      "{'profanity': 'geebag', 'non_profanity': 'bothersome individual'}\n",
      "{'profanity': 'assfcker', 'non_profanity': 'bothersome individual'}\n",
      "{'profanity': 'homo asses', 'non_profanity': 'derogatory term for individuals'}\n",
      "{'profanity': 'n1ggazes', 'non_profanity': 'Black individuals'}\n",
      "{'profanity': 'shitdip', 'non_profanity': 'informal term for a troublesome person'}\n",
      "{'profanity': 'nigs', 'non_profanity': 'informal term for Black individuals'}\n",
      "{'profanity': 'pecker', 'non_profanity': 'informal term for male genitalia'}\n",
      "{'profanity': 'cocksukka', 'non_profanity': 'bothersome individual'}\n",
      "{'profanity': 'sh3male', 'non_profanity': 'informal term for a transgender individual'}\n",
      "{'profanity': 'groid', 'non_profanity': 'offensive term for a person'}\n",
      "{'profanity': 'baby batter', 'non_profanity': 'semen'}\n",
      "{'profanity': 'fucking A', 'non_profanity': 'expression of enthusiasm'}\n",
      "{'profanity': 'fuck up', 'non_profanity': 'make a mistake'}\n",
      "{'profanity': 'mofo ass', 'non_profanity': 'bothersome individual'}\n",
      "{'profanity': 'trashbtch', 'non_profanity': 'bothersome individual'}\n",
      "{'profanity': 'bitches', 'non_profanity': 'rude individuals'}\n",
      "{'profanity': 'bumhole', 'non_profanity': 'rear opening'}\n",
      "{'profanity': 'dipshitty', 'non_profanity': 'bothersome behavior'}\n",
      "{'profanity': 'kyke', 'non_profanity': 'offensive term for a Jewish person'}\n",
      "{'profanity': 'weenie', 'non_profanity': 'informal term for a small or weak person'}\n",
      "{'profanity': 'mofos', 'non_profanity': 'bothersome individuals'}\n",
      "{'profanity': 'c0xux0r', 'non_profanity': 'troublesome individual'}\n",
      "{'profanity': 'snatch licker', 'non_profanity': 'informal term for someone engaging in oral activity'}\n",
      "{'profanity': 'w@nkers', 'non_profanity': 'informal term for a bothersome individual'}\n",
      "{'profanity': 'negga', 'non_profanity': 'informal term for a Black individual'}\n",
      "{'profanity': 'darkfuck', 'non_profanity': 'offensive behavior'}\n",
      "{'profanity': 'dick-face', 'non_profanity': 'foolish individual'}\n",
      "{'profanity': 'cokmuncher', 'non_profanity': 'bothersome individual'}\n",
      "{'profanity': 'biches', 'non_profanity': 'playful term for women'}\n",
      "{'profanity': 'man seed', 'non_profanity': 'informal term for semen'}\n",
      "{'profanity': 'knobjockies', 'non_profanity': 'bothersome individuals'}\n",
      "{'profanity': 'knob-gobbler', 'non_profanity': 'bothersome individual'}\n",
      "{'profanity': 'dumbshit', 'non_profanity': 'foolish individual'}\n",
      "{'profanity': 'mother fucker', 'non_profanity': 'bothersome individuals'}\n",
      "{'profanity': 'ass licking', 'non_profanity': 'sycophancy'}\n",
      "{'profanity': 'n1gger', 'non_profanity': 'Black person'}\n",
      "{'profanity': 'fuckbag', 'non_profanity': 'bothersome person'}\n",
      "{'profanity': 'chinavirus', 'non_profanity': 'derogatory term for a virus'}\n",
      "{'profanity': 'dlck', 'non_profanity': 'informal term for male genitalia'}\n",
      "{'profanity': 'cawkmuncher', 'non_profanity': 'troublesome individual'}\n",
      "{'profanity': 'fatass', 'non_profanity': 'overweight person'}\n",
      "{'profanity': 'shiteblimps', 'non_profanity': 'informal term for troublesome individuals'}\n",
      "{'profanity': 'gaylord', 'non_profanity': 'playful term for a flamboyant individual'}\n",
      "{'profanity': 'bitchass', 'non_profanity': 'cowardly person'}\n",
      "{'profanity': 'ass-fuckers', 'non_profanity': 'annoying individuals'}\n",
      "{'profanity': 'spic', 'non_profanity': 'offensive term for a Hispanic person'}\n",
      "{'profanity': 'knobheads', 'non_profanity': 'foolish individuals'}\n",
      "{'profanity': 'twatt', 'non_profanity': 'informal term for a bothersome individual'}\n",
      "{'profanity': 'fukkers', 'non_profanity': 'bothersome individuals'}\n",
      "{'profanity': 'motherfuccas', 'non_profanity': 'bothersome individuals'}\n",
      "{'profanity': 'shittydick', 'non_profanity': 'bothersome individual'}\n",
      "{'profanity': 'breasts', 'non_profanity': 'breasts'}\n",
      "{'profanity': 'pigfucker', 'non_profanity': 'bothersome individual'}\n",
      "{'profanity': 'dumbass mofoes', 'non_profanity': 'troublesome individuals'}\n",
      "{'profanity': '5h17', 'non_profanity': 'excrement'}\n",
      "{'profanity': 'fugged', 'non_profanity': 'confused or chaotic'}\n",
      "{'profanity': 'ass-fucker', 'non_profanity': 'irritating person'}\n",
      "{'profanity': 'S&M', 'non_profanity': 'informal term for sadomasochism'}\n",
      "{'profanity': 'jackarse', 'non_profanity': 'foolish individual'}\n",
      "{'profanity': 'prick-face', 'non_profanity': 'informal term for a foolish individual'}\n",
      "{'profanity': 'peen', 'non_profanity': 'informal term for male genitalia'}\n",
      "{'profanity': 'clusterfucking', 'non_profanity': 'chaotic behavior'}\n",
      "{'profanity': 'jizzfucker', 'non_profanity': 'bothersome individual'}\n",
      "{'profanity': 'fecker', 'non_profanity': 'informal term for a person'}\n",
      "{'profanity': 'stupid fucker', 'non_profanity': 'bothersome individual'}\n",
      "{'profanity': 'taking the piss', 'non_profanity': 'informal term for teasing or mocking'}\n",
      "{'profanity': 'douche canoe', 'non_profanity': 'bothersome individual'}\n",
      "{'profanity': 'c0x', 'non_profanity': 'male genitalia'}\n",
      "{'profanity': 'phucc', 'non_profanity': 'informal term for an inappropriate action'}\n",
      "{'profanity': 'darkshit', 'non_profanity': 'nonsense'}\n",
      "{'profanity': 'bitched', 'non_profanity': 'complained'}\n",
      "{'profanity': 'bitchness', 'non_profanity': 'quality of being difficult'}\n",
      "{'profanity': 'packerfudgehead', 'non_profanity': 'humorous phrase for engaging in sexual activity'}\n",
      "{'profanity': 'wh0re', 'non_profanity': 'derogatory term for a promiscuous woman'}\n",
      "{'profanity': 'fucking bastard', 'non_profanity': 'bothersome individual'}\n",
      "{'profanity': 'double-dong', 'non_profanity': 'dual-ended adult toy'}\n",
      "{'profanity': 'shit fuck', 'non_profanity': 'bothersome individual'}\n",
      "{'profanity': 'phuck', 'non_profanity': 'informal term for an inappropriate action'}\n",
      "{'profanity': 'biotches', 'non_profanity': 'playful term for women'}\n",
      "{'profanity': 'cuntits', 'non_profanity': 'informal term for breasts'}\n",
      "{'profanity': 'assfuccer', 'non_profanity': 'bothersome individual'}\n",
      "{'profanity': 'nig-nog', 'non_profanity': 'informal term for a Black individual'}\n",
      "{'profanity': 'gaylords', 'non_profanity': 'multiple flamboyant individuals'}\n",
      "{'profanity': 'darkie', 'non_profanity': 'derogatory term for a person (not recommended)'}\n",
      "{'profanity': 'get fucked', 'non_profanity': 'expression of frustration'}\n",
      "{'profanity': 'cocksucking', 'non_profanity': 'engaging in oral activity'}\n",
      "{'profanity': 'shit for brains', 'non_profanity': 'foolish individual'}\n",
      "{'profanity': 'god damned', 'non_profanity': 'characterized by annoyance'}\n",
      "{'profanity': 'dumbass mothafuckers', 'non_profanity': 'bothersome individuals'}\n",
      "{'profanity': 'shitefuck', 'non_profanity': 'bothersome individual'}\n",
      "{'profanity': \"dog's bollocks\", 'non_profanity': 'informal term for something excellent'}\n",
      "{'profanity': 'niga', 'non_profanity': 'informal term for a Black individual'}\n",
      "{'profanity': 'motherfukker', 'non_profanity': 'bothersome individual'}\n",
      "{'profanity': 'bonk juice', 'non_profanity': 'informal term for breasts'}\n",
      "{'profanity': 'knobends', 'non_profanity': 'bothersome individuals'}\n",
      "{'profanity': 'd1ck', 'non_profanity': 'male genitalia'}\n",
      "{'profanity': 'muffdivings', 'non_profanity': 'informal term for engaging in sexual activity'}\n",
      "{'profanity': 'pu$sy', 'non_profanity': 'informal term for female genitalia'}\n",
      "{'profanity': 'jerkoff', 'non_profanity': 'engage in self-pleasure'}\n",
      "{'profanity': 'shithole', 'non_profanity': 'undesirable place or situation'}\n",
      "{'profanity': 'mothafuckz', 'non_profanity': 'bothersome individuals'}\n",
      "{'profanity': 'twa+', 'non_profanity': 'informal term for a woman'}\n",
      "{'profanity': 'shi+', 'non_profanity': 'informal term for feces'}\n",
      "{'profanity': 'knobendz', 'non_profanity': 'bothersome individuals'}\n",
      "{'profanity': 'cocksuka', 'non_profanity': 'bothersome individual'}\n",
      "{'profanity': 'dipsh1tty', 'non_profanity': 'bothersome behavior'}\n",
      "{'profanity': 'f@gging', 'non_profanity': 'inappropriate term for a person (not recommended)'}\n",
      "{'profanity': 'weiner', 'non_profanity': 'informal term for male genitalia'}\n",
      "{'profanity': 'r3t@rd', 'non_profanity': 'offensive term for a person with disabilities'}\n",
      "{'profanity': 'cyberfucs', 'non_profanity': 'informal term for virtual interactions'}\n",
      "{'profanity': 'trashb1tch', 'non_profanity': 'bothersome individual'}\n",
      "{'profanity': 'dipshidiot', 'non_profanity': 'foolish individual'}\n",
      "{'profanity': 'nobjokey', 'non_profanity': 'informal term for a person'}\n",
      "{'profanity': 'fcuked', 'non_profanity': 'disordered situation'}\n",
      "{'profanity': 'cack', 'non_profanity': 'excrement'}\n",
      "{'profanity': 'm0thafucker', 'non_profanity': 'bothersome individual'}\n",
      "{'profanity': 'cooter', 'non_profanity': 'informal term for female anatomy'}\n",
      "{'profanity': 'coolie', 'non_profanity': 'informal term for a laborer (context-dependent)'}\n",
      "{'profanity': 'mothafucka', 'non_profanity': 'bothersome individual'}\n",
      "{'profanity': 'phucchead', 'non_profanity': 'foolish individual'}\n",
      "{'profanity': 'tard asses', 'non_profanity': 'informal term for bothersome individuals'}\n",
      "{'profanity': 'shited', 'non_profanity': 'informal term for someone who has been overwhelmed'}\n",
      "{'profanity': 'useless fucker', 'non_profanity': 'informal term for female genitalia'}\n",
      "{'profanity': 'futhamucka', 'non_profanity': 'bothersome individual'}\n",
      "{'profanity': 'bondage', 'non_profanity': 'playful or humorous liquid'}\n",
      "{'profanity': 'horseshit', 'non_profanity': 'nonsense or inappropriate behavior'}\n",
      "{'profanity': 'shitface', 'non_profanity': 'foolish individual'}\n",
      "{'profanity': 'axe wound', 'non_profanity': 'sensitive area'}\n",
      "{'profanity': 'blow a load', 'non_profanity': 'oral stimulation'}\n",
      "{'profanity': 'b！tch', 'non_profanity': 'difficult person'}\n",
      "{'profanity': 'retardo', 'non_profanity': 'informal term for a person with disabilities'}\n",
      "{'profanity': 'n3gro', 'non_profanity': 'Black individual'}\n",
      "{'profanity': 'whoar', 'non_profanity': 'derogatory term for a promiscuous woman'}\n",
      "{'profanity': 'jizz licker', 'non_profanity': 'bothersome individual'}\n",
      "{'profanity': 'slantard', 'non_profanity': 'offensive term for a person of Asian descent'}\n",
      "{'profanity': 'kike', 'non_profanity': 'offensive term for a Jewish person'}\n",
      "{'profanity': 'butt-fucking-bandit', 'non_profanity': 'troublemaker'}\n",
      "{'profanity': 'mothter fuck', 'non_profanity': 'bothersome individual'}\n",
      "{'profanity': 'bishes', 'non_profanity': 'playful term for women'}\n",
      "{'profanity': 'ass fucking nob jokeys', 'non_profanity': 'disruptive pranksters'}\n",
      "{'profanity': 'cyberfukk', 'non_profanity': 'humorous misspelling of an offensive term'}\n",
      "{'profanity': 'fxcked', 'non_profanity': 'confused or chaotic'}\n",
      "{'profanity': 'shitter', 'non_profanity': 'bothersome individual'}\n",
      "{'profanity': 'n1gg3r', 'non_profanity': 'Black person'}\n",
      "{'profanity': 'dick licker', 'non_profanity': 'bothersome individual'}\n",
      "{'profanity': 'basturd', 'non_profanity': 'troublesome individual'}\n",
      "{'profanity': 'cocksucks', 'non_profanity': 'bothersome individuals'}\n",
      "{'profanity': 'd1cks', 'non_profanity': 'male genitalia (plural)'}\n",
      "{'profanity': '0rg@sm', 'non_profanity': 'climax'}\n",
      "{'profanity': 'mofukkas', 'non_profanity': 'bothersome individuals'}\n",
      "{'profanity': 'k1ke', 'non_profanity': 'inappropriate term for a person who exploits children'}\n",
      "{'profanity': 'jerking off', 'non_profanity': 'engage in self-pleasure'}\n",
      "{'profanity': 'bullshite', 'non_profanity': 'foolishness'}\n",
      "{'profanity': 'apeshite', 'non_profanity': 'foolish behavior'}\n",
      "{'profanity': 'phaggots', 'non_profanity': 'offensive term for individuals'}\n",
      "{'profanity': 'coon1es', 'non_profanity': 'offensive term for individuals'}\n",
      "{'profanity': 'fuckheads', 'non_profanity': 'bothersome individuals'}\n",
      "{'profanity': 'knob-face', 'non_profanity': 'foolish individual'}\n",
      "{'profanity': 'funbags', 'non_profanity': 'informal term for breasts'}\n",
      "{'profanity': 'niggahs', 'non_profanity': 'informal term for Black individuals'}\n",
      "{'profanity': 'fuckers', 'non_profanity': 'bothersome individuals'}\n",
      "{'profanity': 'sonofbitches', 'non_profanity': 'bothersome individuals'}\n",
      "{'profanity': 'gaysian', 'non_profanity': 'individual of Asian descent with flamboyant traits'}\n",
      "{'profanity': 'dolt', 'non_profanity': 'foolish individual'}\n",
      "{'profanity': '4r5e', 'non_profanity': 'force'}\n",
      "{'profanity': 'skanks', 'non_profanity': 'informal term for promiscuous individuals'}\n",
      "{'profanity': 'nigga lover', 'non_profanity': 'supporter of Black individuals'}\n",
      "{'profanity': 'god damn', 'non_profanity': 'expression of annoyance'}\n",
      "{'profanity': 'bitchin', 'non_profanity': 'cool or impressive'}\n",
      "{'profanity': 'b1tching', 'non_profanity': 'complaining'}\n",
      "{'profanity': 'diks', 'non_profanity': 'male genitalia (plural)'}\n",
      "{'profanity': 'sonofabitch', 'non_profanity': 'bothersome individual'}\n",
      "{'profanity': 'doosh', 'non_profanity': 'bothersome individual'}\n",
      "{'profanity': 'beyotch', 'non_profanity': 'rude individual'}\n",
      "{'profanity': 'n1gg@', 'non_profanity': 'Black person'}\n",
      "{'profanity': 'diddle', 'non_profanity': 'engage in inappropriate touching'}\n",
      "{'profanity': 'mudderfuk', 'non_profanity': 'bothersome individual'}\n",
      "{'profanity': 'negr0', 'non_profanity': 'Black person'}\n",
      "{'profanity': 'jigro', 'non_profanity': 'informal term for a Black person'}\n",
      "{'profanity': 'bitch3s', 'non_profanity': 'troublesome individuals'}\n",
      "{'profanity': 'n1gg@hs', 'non_profanity': 'Black individuals'}\n",
      "{'profanity': 'l3itches', 'non_profanity': 'informal term for individuals'}\n",
      "{'profanity': 'shitd1ck', 'non_profanity': 'bothersome individual'}\n",
      "{'profanity': 'hoebag', 'non_profanity': 'derogatory term for a person'}\n",
      "{'profanity': 'fvcking', 'non_profanity': 'informal term for emphasis'}\n",
      "{'profanity': 'greaser', 'non_profanity': 'individual with a specific hairstyle'}\n",
      "{'profanity': 'w4nk3r', 'non_profanity': 'informal term for someone perceived as flamboyant'}\n",
      "{'profanity': 'ladyb0y', 'non_profanity': 'flamboyant individual'}\n",
      "{'profanity': 'jackasss', 'non_profanity': 'foolish individual'}\n",
      "{'profanity': 'shitterfucker', 'non_profanity': 'bothersome individual'}\n",
      "{'profanity': 'cagone', 'non_profanity': 'bothersome behavior'}\n",
      "{'profanity': 'muthafucka', 'non_profanity': 'bothersome individual'}\n",
      "{'profanity': 'turdhead', 'non_profanity': 'foolish individual'}\n",
      "{'profanity': 'cyberfck', 'non_profanity': 'disrespectful term for virtual interactions'}\n",
      "{'profanity': 'cajones', 'non_profanity': 'cowardly individual'}\n",
      "{'profanity': 'niggazzes', 'non_profanity': 'informal term for Black individuals'}\n",
      "{'profanity': 'BJ', 'non_profanity': 'oral stimulation'}\n",
      "{'profanity': 'wnker', 'non_profanity': 'informal term for someone who acts obnoxiously'}\n",
      "{'profanity': 'dogstyle', 'non_profanity': 'informal term for a sexual position'}\n",
      "{'profanity': 'mothafucker', 'non_profanity': 'bothersome individual'}\n",
      "{'profanity': 'mutha fucka', 'non_profanity': 'bothersome individual'}\n",
      "{'profanity': 'mother fuckers', 'non_profanity': 'informal term for emphasis'}\n",
      "{'profanity': 'sphincter', 'non_profanity': 'anatomical term for the muscle around the anus'}\n",
      "{'profanity': 'sh1t', 'non_profanity': 'informal term for feces'}\n",
      "{'profanity': 'shittyfuck', 'non_profanity': 'bothersome individual'}\n",
      "{'profanity': 'blumpkin boy', 'non_profanity': 'informal term for testicles'}\n",
      "{'profanity': 'ass fuck', 'non_profanity': 'inappropriate act'}\n",
      "{'profanity': 'cyberfuccs', 'non_profanity': 'informal term for virtual interactions'}\n",
      "{'profanity': 'sh1tdick', 'non_profanity': 'informal term for a bothersome individual'}\n",
      "{'profanity': 'fuck goblin', 'non_profanity': 'bothersome individual'}\n",
      "{'profanity': 'butt pirate', 'non_profanity': 'mischievous person'}\n",
      "{'profanity': 'niguh', 'non_profanity': 'informal term for a Black individual'}\n",
      "{'profanity': 'coonies', 'non_profanity': 'informal term for individuals'}\n",
      "{'profanity': 'trashybitches', 'non_profanity': 'informal term for male genitalia'}\n",
      "{'profanity': 'cock munch', 'non_profanity': 'informal term for a sexual act'}\n",
      "{'profanity': 'chinese-virus', 'non_profanity': 'derogatory term for a virus'}\n",
      "{'profanity': 'mtherfuker', 'non_profanity': 'bothersome individual'}\n",
      "{'profanity': 'spick', 'non_profanity': 'offensive term for a Hispanic person'}\n",
      "{'profanity': 'azzhole', 'non_profanity': 'unpleasant individual'}\n",
      "{'profanity': 'niggerz', 'non_profanity': 'informal term for Black individuals'}\n",
      "{'profanity': 'mother fuck you', 'non_profanity': 'expression of frustration'}\n",
      "{'profanity': 'stfu', 'non_profanity': 'expression to tell someone to be quiet'}\n",
      "{'profanity': 'phuked', 'non_profanity': 'confused or chaotic'}\n",
      "{'profanity': 'tickle the pickle', 'non_profanity': 'offensive term for a Black person'}\n",
      "{'profanity': 'mutherfucker', 'non_profanity': 'bothersome individual'}\n",
      "{'profanity': 'arseshit', 'non_profanity': 'foolish behavior'}\n",
      "{'profanity': 'assfukkerz', 'non_profanity': 'annoying individuals'}\n",
      "{'profanity': 'rim job', 'non_profanity': 'informal term for a sexual act'}\n",
      "{'profanity': 'fag bag', 'non_profanity': 'disrespectful term for a person (not recommended)'}\n",
      "{'profanity': 'knobe', 'non_profanity': 'bothersome individual'}\n",
      "{'profanity': 'phuks', 'non_profanity': 'bothersome individuals'}\n",
      "{'profanity': 'mof0es', 'non_profanity': 'bothersome individuals'}\n",
      "{'profanity': 'm0f0', 'non_profanity': 'bothersome individuals'}\n",
      "{'profanity': 'skanky', 'non_profanity': 'informal term for someone perceived as promiscuous'}\n",
      "{'profanity': 'goddammit', 'non_profanity': 'expression of annoyance'}\n",
      "{'profanity': 'pigfukker', 'non_profanity': 'bothersome individual'}\n",
      "{'profanity': 'stump chewer', 'non_profanity': 'bothersome individual'}\n",
      "{'profanity': 'pussywhipped', 'non_profanity': 'informal term for someone dominated by a partner'}\n",
      "{'profanity': 'carpetmuncher', 'non_profanity': 'offensive term for a person'}\n",
      "{'profanity': 'mutherfuckers', 'non_profanity': 'bothersome individuals'}\n",
      "{'profanity': 'asses', 'non_profanity': 'individuals'}\n",
      "{'profanity': 'fuku', 'non_profanity': 'bothersome individual'}\n",
      "{'profanity': 'darkass', 'non_profanity': 'unpleasant individual'}\n",
      "{'profanity': 'heeb', 'non_profanity': 'offensive term for a person'}\n",
      "{'profanity': 'mothafucks', 'non_profanity': 'bothersome individuals'}\n",
      "{'profanity': 'nut butter', 'non_profanity': 'humorous term for bodily fluids'}\n",
      "{'profanity': 'godd@mnit', 'non_profanity': 'expression of frustration'}\n",
      "{'profanity': 'dick face', 'non_profanity': 'foolish individual'}\n",
      "{'profanity': 'dicklicker', 'non_profanity': 'bothersome individual'}\n",
      "{'profanity': '@55', 'non_profanity': 'bottom'}\n",
      "{'profanity': 'butt hole', 'non_profanity': 'rear opening'}\n",
      "{'profanity': 'cocksuckers', 'non_profanity': 'bothersome individuals'}\n",
      "{'profanity': 'mfing', 'non_profanity': 'informal term for emphasis'}\n",
      "{'profanity': 'snatch', 'non_profanity': 'informal term for female genitalia'}\n",
      "{'profanity': 'azz', 'non_profanity': 'rear'}\n",
      "{'profanity': 'tongue fucker', 'non_profanity': 'informal term for someone engaging in oral activity'}\n",
      "{'profanity': 'fkbny', 'non_profanity': 'confused or disordered'}\n",
      "{'profanity': 'asshole', 'non_profanity': 'unpleasant person'}\n",
      "{'profanity': 'm0f0s', 'non_profanity': 'informal term for an individual'}\n",
      "{'profanity': 'sh1t3', 'non_profanity': 'informal term for feces'}\n",
      "{'profanity': 'scut', 'non_profanity': 'informal term for a bothersome individual'}\n",
      "{'profanity': 'retard', 'non_profanity': 'offensive term for a person with disabilities'}\n",
      "{'profanity': 'butt-munchers', 'non_profanity': 'troublesome individuals'}\n",
      "{'profanity': 'phuckin', 'non_profanity': 'informal term for emphasis'}\n",
      "{'profanity': 'bollock', 'non_profanity': 'informal term for testicles'}\n",
      "{'profanity': 'cunt ass', 'non_profanity': 'informal term for an unpleasant individual'}\n",
      "{'profanity': 'jailbait', 'non_profanity': 'informal term for someone underage who attracts attention'}\n",
      "{'profanity': 'n1gguh', 'non_profanity': 'informal term for a Black person'}\n",
      "{'profanity': 'sh1ts', 'non_profanity': 'informal term for feces'}\n",
      "{'profanity': 'motherfucking', 'non_profanity': 'informal term for emphasis'}\n",
      "{'profanity': 'beeotch', 'non_profanity': 'unpleasant person'}\n",
      "{'profanity': 'knobeds', 'non_profanity': 'bothersome individuals'}\n",
      "{'profanity': 'p3nisfcker', 'non_profanity': 'informal term for someone engaging in inappropriate behavior'}\n",
      "{'profanity': 'm@asterbated', 'non_profanity': 'informal term for self-pleasure'}\n",
      "{'profanity': 'cyberfvcks', 'non_profanity': 'informal term for inappropriate behavior'}\n",
      "{'profanity': 'tar-baby', 'non_profanity': 'offensive term for a Black person'}\n",
      "{'profanity': 'nigg3r', 'non_profanity': 'Black individual'}\n",
      "{'profanity': 'mothafucking', 'non_profanity': 'informal term for emphasis'}\n",
      "{'profanity': 'mother fuck', 'non_profanity': 'expression of frustration'}\n",
      "{'profanity': 'shemale', 'non_profanity': 'informal term for a transgender individual'}\n",
      "{'profanity': 'cockhead', 'non_profanity': 'bothersome person'}\n",
      "{'profanity': 'cockhed', 'non_profanity': 'bothersome individual'}\n",
      "{'profanity': 'fuck your', 'non_profanity': 'informal term for possession'}\n",
      "{'profanity': 'arse-fucker', 'non_profanity': 'derogatory term for an individual'}\n",
      "{'profanity': 'prick', 'non_profanity': 'bothersome individual'}\n",
      "{'profanity': 'fuggerz', 'non_profanity': 'bothersome individuals'}\n",
      "{'profanity': 'coot', 'non_profanity': 'foolish person'}\n",
      "{'profanity': 'jerkoff jerking off', 'non_profanity': 'engage in self-pleasure'}\n",
      "{'profanity': 'fugly', 'non_profanity': 'unattractive individual'}\n",
      "{'profanity': 'shitfreak', 'non_profanity': 'troublesome individual'}\n",
      "{'profanity': 'niggir', 'non_profanity': 'informal term for a Black individual'}\n",
      "{'profanity': 'lesbo', 'non_profanity': 'informal term for a lesbian'}\n",
      "{'profanity': 'motherfvckeds', 'non_profanity': 'confused or chaotic'}\n",
      "{'profanity': 'fuckk', 'non_profanity': 'informal term for emphasis'}\n",
      "{'profanity': 'sons of b1tches', 'non_profanity': 'bothersome individuals'}\n",
      "{'profanity': 'penisfucker', 'non_profanity': 'informal term for someone engaging in inappropriate behavior'}\n",
      "{'profanity': 'sh1tt', 'non_profanity': 'informal term for feces'}\n",
      "{'profanity': 'packsomefudgefucker', 'non_profanity': 'informal term for someone engaging in inappropriate behavior'}\n",
      "{'profanity': 'ragheads', 'non_profanity': 'offensive term for individuals of Middle Eastern descent'}\n",
      "{'profanity': 'higgers', 'non_profanity': 'derogatory term for individuals (not recommended)'}\n",
      "{'profanity': 'sh1theads', 'non_profanity': 'informal term for bothersome individuals'}\n",
      "{'profanity': 'crotch fiddler', 'non_profanity': 'troublesome individual'}\n",
      "{'profanity': 'mong', 'non_profanity': 'offensive term for a person'}\n",
      "{'profanity': 'fukker', 'non_profanity': 'bothersome individual'}\n",
      "{'profanity': 'shytfeisterfuck', 'non_profanity': 'bothersome individual'}\n",
      "{'profanity': 'nutsack', 'non_profanity': 'informal term for male genitalia'}\n",
      "{'profanity': 'puzzies', 'non_profanity': 'informal term for female genitalia'}\n",
      "{'profanity': 's_h_i_', 'non_profanity': 'informal term for feces'}\n",
      "{'profanity': 'n1g3r', 'non_profanity': 'Black person'}\n",
      "{'profanity': 'fucking', 'non_profanity': 'informal term for emphasis'}\n",
      "{'profanity': 'b1tchees', 'non_profanity': 'bothersome individuals'}\n",
      "{'profanity': 'ja!lbait', 'non_profanity': 'informal term for a person who attracts attention'}\n",
      "{'profanity': 'gaytard', 'non_profanity': 'offensive term for a person'}\n",
      "{'profanity': 'ragtard', 'non_profanity': 'offensive term for a person with disabilities'}\n",
      "{'profanity': 'dothead', 'non_profanity': 'offensive term for a person (not recommended)'}\n",
      "{'profanity': 'dogshits', 'non_profanity': 'excrement (plural)'}\n",
      "{'profanity': 'phucup', 'non_profanity': 'informal term for a troublesome situation'}\n",
      "{'profanity': 'anus plug', 'non_profanity': 'rear toy'}\n",
      "{'profanity': 'mthrfcker', 'non_profanity': 'bothersome individual'}\n",
      "{'profanity': 'l@dyb0y', 'non_profanity': 'flamboyant individual'}\n",
      "{'profanity': 'anal hore', 'non_profanity': 'disrespectful term for promiscuous individual'}\n",
      "{'profanity': 'stupidasses', 'non_profanity': 'informal term for someone who is foolish'}\n",
      "{'profanity': 'nicker', 'non_profanity': 'informal term for a Black person'}\n",
      "{'profanity': 'fukkuh', 'non_profanity': 'bothersome individual'}\n",
      "{'profanity': 'kiss ass', 'non_profanity': 'bothersome individual'}\n",
      "{'profanity': 'penisfvckers', 'non_profanity': 'informal term for individuals engaging in inappropriate behavior'}\n",
      "{'profanity': 'jiggaboos', 'non_profanity': 'offensive term for Black individuals'}\n",
      "{'profanity': 'fagshit', 'non_profanity': 'disrespectful behavior'}\n",
      "{'profanity': 'motherfk', 'non_profanity': 'bothersome individual'}\n",
      "{'profanity': 'dickmuncher', 'non_profanity': 'bothersome individual'}\n",
      "{'profanity': 'cock sucking boiolas', 'non_profanity': 'troublesome individuals'}\n",
      "{'profanity': 'nuggets', 'non_profanity': 'informal term for individuals'}\n",
      "{'profanity': 'rat baztad', 'non_profanity': 'informal term for a troublesome person'}\n",
      "{'profanity': 'gowl', 'non_profanity': 'informal term for a person'}\n",
      "{'profanity': 'assfuck3r', 'non_profanity': 'troublesome person'}\n",
      "{'profanity': 'fick', 'non_profanity': 'informal term for sexual activity'}\n",
      "{'profanity': 'wanking', 'non_profanity': 'informal term for the act of masturbation'}\n",
      "{'profanity': 'shitefulls', 'non_profanity': 'informal term for unpleasant individuals'}\n",
      "{'profanity': 'fingerpop', 'non_profanity': 'playful or informal reference to sexual activity'}\n",
      "{'profanity': 'ar5e', 'non_profanity': 'rear'}\n",
      "{'profanity': 'cock suck', 'non_profanity': 'disrespectful term for oral activity'}\n",
      "{'profanity': 'cholo', 'non_profanity': 'individual from a specific cultural background'}\n",
      "{'profanity': 'nymphomaniac', 'non_profanity': 'person with an excessive sexual appetite'}\n",
      "{'profanity': 'vulva', 'non_profanity': 'informal term for someone who acts obnoxiously'}\n",
      "{'profanity': 'shitties', 'non_profanity': 'informal term for unpleasant things'}\n",
      "{'profanity': 'f@gg0t', 'non_profanity': 'offensive term for a person (not recommended)'}\n",
      "{'profanity': 'buttfucker', 'non_profanity': 'bothersome individual'}\n",
      "{'profanity': 'bean queen', 'non_profanity': 'someone who is attracted to Hispanic males (context-specific)'}\n",
      "{'profanity': 'ass fucking boiolas', 'non_profanity': 'annoying troublemakers'}\n",
      "{'profanity': 'mofo', 'non_profanity': 'bothersome individual'}\n",
      "{'profanity': 'knob3d', 'non_profanity': 'bothersome individual'}\n",
      "{'profanity': 'mofuck', 'non_profanity': 'informal term for inappropriate behavior'}\n",
      "{'profanity': 'cock tease', 'non_profanity': 'flirtatious behavior'}\n",
      "{'profanity': 'fuckwhore', 'non_profanity': 'bothersome individual'}\n",
      "{'profanity': 'shitassfucker', 'non_profanity': 'bothersome individual'}\n",
      "{'profanity': 'sh1th3ad', 'non_profanity': 'informal term for a bothersome individual'}\n",
      "{'profanity': 'butthole', 'non_profanity': 'troublesome individuals'}\n",
      "{'profanity': 'nobj0key', 'non_profanity': 'informal term for an individual'}\n",
      "{'profanity': 'fcuking', 'non_profanity': 'informal term for emphasis'}\n",
      "{'profanity': 'shitfck', 'non_profanity': 'informal term for inappropriate behavior'}\n",
      "{'profanity': 'b1tches', 'non_profanity': 'rude individuals'}\n",
      "{'profanity': 'reacharound', 'non_profanity': 'informal term for a sexual act'}\n",
      "{'profanity': 'tacohead', 'non_profanity': 'informal term for a foolish person'}\n",
      "{'profanity': 'b00bz', 'non_profanity': 'informal term for breasts'}\n",
      "{'profanity': 'cocks', 'non_profanity': 'male genitalia (plural)'}\n",
      "{'profanity': 'muthafuckers', 'non_profanity': 'bothersome individuals'}\n",
      "{'profanity': 'dick breath', 'non_profanity': 'bothersome individual'}\n",
      "{'profanity': 'cuunt', 'non_profanity': 'humorous misspelling of an offensive term'}\n",
      "{'profanity': 'phvckings', 'non_profanity': 'informal term for emphasis'}\n",
      "{'profanity': 'b1tch1ng', 'non_profanity': 'complaining'}\n",
      "{'profanity': 'zip in the wire', 'non_profanity': 'informal term for a warning sign of trouble'}\n",
      "{'profanity': 'motherfxcking', 'non_profanity': 'informal term for emphasis'}\n",
      "{'profanity': 'nigg4h', 'non_profanity': 'informal term for a Black individual'}\n",
      "{'profanity': 'muffdiving', 'non_profanity': 'informal term for a sexual act'}\n",
      "{'profanity': 'fook', 'non_profanity': 'informal term for sexual activity'}\n",
      "{'profanity': 'f_u_c_k', 'non_profanity': 'inappropriate term for sexual activity'}\n",
      "{'profanity': 'cooterpuffing', 'non_profanity': 'informal term for engaging in sexual activity'}\n",
      "{'profanity': 'pusses', 'non_profanity': 'informal term for female genitalia'}\n",
      "{'profanity': 'd1cksukka', 'non_profanity': 'bothersome individual'}\n",
      "{'profanity': 'man meat', 'non_profanity': 'informal term for male genitalia'}\n",
      "{'profanity': 'dick milker', 'non_profanity': 'inappropriate behavior'}\n",
      "{'profanity': 'fcker', 'non_profanity': 'bothersome individual'}\n",
      "{'profanity': 'nigger lover', 'non_profanity': 'supporter of Black individuals'}\n",
      "{'profanity': 'shit-arse', 'non_profanity': 'bothersome individual'}\n",
      "{'profanity': 'fuckwad', 'non_profanity': 'bothersome individual'}\n",
      "{'profanity': 'fcked', 'non_profanity': 'confused or chaotic'}\n",
      "{'profanity': 'faggot nobjockies', 'non_profanity': 'offensive term for an individual'}\n",
      "{'profanity': \"mf'er\", 'non_profanity': 'bothersome individual'}\n",
      "{'profanity': 'mongrel', 'non_profanity': 'mixed breed'}\n",
      "{'profanity': 'clusterfucker', 'non_profanity': 'troublesome individual'}\n",
      "{'profanity': 'Fckk', 'non_profanity': 'bothersome individual'}\n",
      "{'profanity': 'twat waffle', 'non_profanity': 'informal term for a silly or foolish person'}\n",
      "{'profanity': 'fucx', 'non_profanity': 'informal term for emphasis'}\n",
      "{'profanity': 'fuck arse', 'non_profanity': 'bothersome individual'}\n",
      "{'profanity': 'fagging', 'non_profanity': 'engaging in a derogatory act'}\n",
      "{'profanity': 'wet back', 'non_profanity': 'offensive term for a person of Latin American descent'}\n",
      "{'profanity': 'b1tchs', 'non_profanity': 'annoying people'}\n",
      "{'profanity': 'goddamn son of a bitch', 'non_profanity': 'bothersome individual'}\n",
      "{'profanity': 'beat my meat', 'non_profanity': 'engage in self-pleasure'}\n",
      "{'profanity': 'niggahz', 'non_profanity': 'informal term for a Black individual'}\n",
      "{'profanity': 'slanteyeshit', 'non_profanity': 'informal term for inappropriate behavior'}\n",
      "{'profanity': 'nignigs', 'non_profanity': 'informal term for Black individuals'}\n",
      "{'profanity': 'breasticles', 'non_profanity': 'chest'}\n",
      "{'profanity': 'ladyboys', 'non_profanity': 'flamboyant individuals'}\n",
      "{'profanity': 'gayest', 'non_profanity': 'most flamboyant'}\n",
      "{'profanity': 'phuku', 'non_profanity': 'informal term for an inappropriate action'}\n",
      "{'profanity': 'phuk', 'non_profanity': 'informal term for an inappropriate action'}\n",
      "{'profanity': 'cocksucked', 'non_profanity': 'inappropriate behavior'}\n",
      "{'profanity': 'sluts', 'non_profanity': 'informal term for promiscuous women'}\n",
      "{'profanity': 'negro', 'non_profanity': 'Black person'}\n",
      "{'profanity': 'mufdive', 'non_profanity': 'informal term for engaging in sexual activity'}\n",
      "{'profanity': 'cunty', 'non_profanity': 'unpleasant or difficult'}\n",
      "{'profanity': 'tosser', 'non_profanity': 'bothersome individual'}\n",
      "{'profanity': 'shiesterfucks', 'non_profanity': 'bothersome individuals'}\n",
      "{'profanity': 'milf', 'non_profanity': 'attractive older woman'}\n",
      "{'profanity': 'fuck head', 'non_profanity': 'foolish individual'}\n",
      "{'profanity': 'dickskin', 'non_profanity': 'skin (informal reference)'}\n",
      "{'profanity': 'cock-gobbler', 'non_profanity': 'bothersome person'}\n",
      "{'profanity': 'pack my fudge', 'non_profanity': 'informal term for someone engaging in inappropriate behavior'}\n",
      "{'profanity': \"mf'ers\", 'non_profanity': 'bothersome individuals'}\n",
      "{'profanity': 'cums', 'non_profanity': 'bodily fluids (informal)'}\n",
      "{'profanity': 'fckked', 'non_profanity': 'confused or chaotic'}\n",
      "{'profanity': 'jack-offs', 'non_profanity': 'individuals who engage in masturbation'}\n",
      "{'profanity': 'analplugs', 'non_profanity': 'anal toys'}\n",
      "{'profanity': 'shittasticfuck', 'non_profanity': 'bothersome individual'}\n",
      "{'profanity': 'cock snot', 'non_profanity': 'informal term for a bothersome individual'}\n",
      "{'profanity': 'retardotron', 'non_profanity': 'informal term for a person with disabilities'}\n",
      "{'profanity': 'asshole fucker', 'non_profanity': 'disrespectful individual'}\n",
      "{'profanity': 'chinky', 'non_profanity': 'offensive term for a person'}\n",
      "{'profanity': 'm0fos', 'non_profanity': 'bothersome individuals'}\n",
      "{'profanity': 'fuckasses', 'non_profanity': 'bothersome individuals'}\n",
      "{'profanity': 'pissoffs', 'non_profanity': 'bothersome individual'}\n",
      "{'profanity': 'scumfvck', 'non_profanity': 'informal term for inappropriate behavior'}\n",
      "{'profanity': 'wank3r', 'non_profanity': 'informal term for someone who acts obnoxiously'}\n",
      "{'profanity': 'asswipe', 'non_profanity': 'bothersome behavior'}\n",
      "{'profanity': 'dick fucker', 'non_profanity': 'troublesome individual'}\n",
      "{'profanity': 'knobeads', 'non_profanity': 'bothersome individuals'}\n",
      "{'profanity': 'tits', 'non_profanity': 'informal term for female anatomy'}\n",
      "{'profanity': 'fucking shit', 'non_profanity': 'nonsense or inappropriate behavior'}\n",
      "{'profanity': 'fckedup', 'non_profanity': 'disordered situation'}\n",
      "{'profanity': 'peckerhead', 'non_profanity': 'informal term for a foolish individual'}\n",
      "{'profanity': 'assholes', 'non_profanity': 'rude individuals'}\n",
      "{'profanity': 'chingchong', 'non_profanity': 'offensive term for a person'}\n",
      "{'profanity': 'shiesterfuckhead', 'non_profanity': 'bothersome individual'}\n",
      "{'profanity': 'coons', 'non_profanity': 'offensive term for individuals'}\n",
      "{'profanity': 'fker', 'non_profanity': 'informal term for emphasis'}\n",
      "{'profanity': 'n1g3rz', 'non_profanity': 'Black individuals'}\n",
      "{'profanity': 'motherfuckkers', 'non_profanity': 'bothersome individuals'}\n",
      "{'profanity': 'w@nker', 'non_profanity': 'informal term for bothersome individuals'}\n",
      "{'profanity': 'fuck you', 'non_profanity': 'expression of frustration'}\n",
      "{'profanity': 'packing fudge', 'non_profanity': 'informal term for engaging in sexual activity'}\n",
      "{'profanity': 'shitasses', 'non_profanity': 'bothersome individuals'}\n",
      "{'profanity': 'bollockchops', 'non_profanity': 'testicle-related term'}\n",
      "{'profanity': 'batshit', 'non_profanity': 'crazy or irrational'}\n",
      "{'profanity': 'motherfuckin', 'non_profanity': 'informal term for emphasis'}\n",
      "{'profanity': 'muthafukka', 'non_profanity': 'bothersome individual'}\n",
      "{'profanity': 'Camel jockey', 'non_profanity': 'offensive term for a racial group'}\n",
      "{'profanity': 'jack-off', 'non_profanity': 'inappropriate term for masturbation'}\n",
      "{'profanity': 'crazy sob', 'non_profanity': 'eccentric individual'}\n",
      "{'profanity': 'nigg@s', 'non_profanity': 'informal term for Black individuals'}\n",
      "{'profanity': 'pillow biter', 'non_profanity': 'offensive term for a homosexual individual'}\n",
      "{'profanity': 'packingfudgefucker', 'non_profanity': 'informal term for someone engaging in inappropriate behavior'}\n",
      "{'profanity': 'cockh3ad', 'non_profanity': 'foolish individual'}\n",
      "{'profanity': 'b1tchin', 'non_profanity': 'whining'}\n",
      "{'profanity': 'suck my dick', 'non_profanity': 'informal term for oral activity'}\n",
      "{'profanity': 'ass-hole', 'non_profanity': 'rude individual'}\n",
      "{'profanity': 'knob jockey', 'non_profanity': 'bothersome individual'}\n",
      "{'profanity': 'arse-shagger', 'non_profanity': 'derogatory term for an individual'}\n",
      "{'profanity': 'dumbass', 'non_profanity': 'foolish person'}\n",
      "{'profanity': 'jewboy', 'non_profanity': 'derogatory term for a Jewish person'}\n",
      "{'profanity': 'cunt licker', 'non_profanity': 'bothersome individual'}\n",
      "{'profanity': 'bitchy', 'non_profanity': 'unpleasant or difficult'}\n",
      "{'profanity': 'fuckass', 'non_profanity': 'bothersome individual'}\n",
      "{'profanity': 'arse-fuckers', 'non_profanity': 'derogatory term for individuals'}\n",
      "{'profanity': 'kiss my ass', 'non_profanity': 'expression of dismissal'}\n",
      "{'profanity': 'window licker', 'non_profanity': 'offensive term for someone perceived as naive'}\n",
      "{'profanity': 'slit', 'non_profanity': 'informal term for female genitalia'}\n",
      "{'profanity': 'cock-sucker', 'non_profanity': 'bothersome individual'}\n",
      "{'profanity': 'god damn it', 'non_profanity': 'expression of frustration'}\n",
      "{'profanity': 'octopussy', 'non_profanity': 'playful term for female genitalia'}\n",
      "{'profanity': \"bitchin'\", 'non_profanity': 'cool or impressive (informal)'}\n",
      "{'profanity': 'mega fag', 'non_profanity': 'derogatory term for a person (not recommended)'}\n",
      "{'profanity': 'doggy_style', 'non_profanity': 'informal term for a sexual position'}\n",
      "{'profanity': 'erectoplasm', 'non_profanity': 'humorous reference to ghostly energy'}\n",
      "{'profanity': 'fart-fucker', 'non_profanity': 'bothersome individual'}\n",
      "{'profanity': 'jiggerboo', 'non_profanity': 'offensive term for Black individuals'}\n",
      "{'profanity': '0rgasms', 'non_profanity': 'climaxes'}\n",
      "{'profanity': 'cockboy', 'non_profanity': 'bothersome individual'}\n",
      "{'profanity': 'dumb fucker', 'non_profanity': 'foolish individual'}\n",
      "{'profanity': 'pancake face', 'non_profanity': 'informal term for a foolish individual'}\n",
      "{'profanity': '4r5ed', 'non_profanity': 'compelled'}\n",
      "{'profanity': 'chesticles', 'non_profanity': 'informal term for breasts'}\n",
      "{'profanity': 'pussy licker', 'non_profanity': 'informal term for someone engaging in oral activity'}\n",
      "{'profanity': 'f0ck', 'non_profanity': 'informal variation of an inappropriate term'}\n",
      "{'profanity': 'mothafcking', 'non_profanity': 'informal term for emphasis'}\n",
      "{'profanity': 'arse', 'non_profanity': 'rear'}\n",
      "{'profanity': 'shitfacefucker', 'non_profanity': 'bothersome individual'}\n",
      "{'profanity': 'slut hole', 'non_profanity': 'informal term for female genitalia'}\n",
      "{'profanity': 'shitfuck', 'non_profanity': 'bothersome individual'}\n",
      "{'profanity': 'cumz', 'non_profanity': 'playful term for bodily fluids'}\n",
      "{'profanity': 'bewbs', 'non_profanity': 'breasts (informal/slang)'}\n",
      "{'profanity': 'holy fuck', 'non_profanity': 'expression of surprise or frustration'}\n",
      "{'profanity': 'upskirts', 'non_profanity': 'bothersome individual'}\n",
      "{'profanity': 'tongue fucking', 'non_profanity': 'informal term for the act of oral activity'}\n",
      "{'profanity': 'rice monkey', 'non_profanity': 'offensive term for an Asian person'}\n",
      "{'profanity': 'd1ckhead', 'non_profanity': 'foolish individual'}\n",
      "{'profanity': '4skin', 'non_profanity': 'skin covering'}\n",
      "{'profanity': 'trashbitches', 'non_profanity': 'bothersome individuals'}\n",
      "{'profanity': 'shitfucks', 'non_profanity': 'bothersome individuals'}\n",
      "{'profanity': 'dick smoker', 'non_profanity': 'bothersome person'}\n",
      "{'profanity': \"f'er\", 'non_profanity': 'informal term for a person (context-dependent)'}\n",
      "{'profanity': 'fcuker', 'non_profanity': 'bothersome individual'}\n",
      "{'profanity': 'dogie style', 'non_profanity': 'informal term for a sexual position'}\n",
      "{'profanity': 'ladyboy', 'non_profanity': 'flamboyant individual'}\n",
      "{'profanity': 'cyberfcks', 'non_profanity': 'disrespectful terms for virtual interactions'}\n",
      "{'profanity': 'god damnit', 'non_profanity': 'expression of frustration'}\n",
      "{'profanity': '@ssfcker', 'non_profanity': 'unpleasant person'}\n",
      "{'profanity': 'nigguhs', 'non_profanity': 'informal term for Black individuals'}\n",
      "{'profanity': 'punk ass mofoes', 'non_profanity': 'informal term for bothersome individuals'}\n",
      "{'profanity': 'cumming', 'non_profanity': 'engaging in sexual activity'}\n",
      "{'profanity': 'ladyboyz', 'non_profanity': 'flamboyant individuals'}\n",
      "{'profanity': 'fuk', 'non_profanity': 'informal term for sexual activity'}\n",
      "{'profanity': 'g0ddamned', 'non_profanity': 'characterized by annoyance'}\n",
      "{'profanity': 'cawk muncher', 'non_profanity': 'troublesome individual'}\n",
      "{'profanity': 'shitassfuckface', 'non_profanity': 'bothersome individual'}\n",
      "{'profanity': 'flamers', 'non_profanity': 'bothersome individuals'}\n",
      "{'profanity': 'mothercker', 'non_profanity': 'bothersome individual'}\n",
      "{'profanity': 'gay shit', 'non_profanity': 'disrespectful behavior'}\n",
      "{'profanity': 'sh1td1ck', 'non_profanity': 'informal term for a bothersome individual'}\n",
      "{'profanity': 'sheister', 'non_profanity': 'deceptive person'}\n",
      "{'profanity': 'puss', 'non_profanity': 'informal term for female genitalia'}\n",
      "{'profanity': 'knober', 'non_profanity': 'bothersome individual'}\n",
      "{'profanity': 'shat', 'non_profanity': 'informal term for feces'}\n",
      "{'profanity': 'rectum', 'non_profanity': 'anatomical term for the rectum'}\n",
      "{'profanity': 'n1ggers', 'non_profanity': 'Black individuals'}\n",
      "{'profanity': 'shitheads', 'non_profanity': 'foolish individuals'}\n",
      "{'profanity': 'n1gg3rs', 'non_profanity': 'Black individuals'}\n",
      "{'profanity': 'douchebag', 'non_profanity': 'bothersome individual'}\n",
      "{'profanity': 'son-of-a-bitch', 'non_profanity': 'bothersome individual'}\n",
      "{'profanity': 'motherfucca', 'non_profanity': 'bothersome individual'}\n",
      "{'profanity': 'motherfuccers', 'non_profanity': 'bothersome individuals'}\n",
      "{'profanity': 'harry palms', 'non_profanity': 'humorous reference to hairy palms'}\n",
      "{'profanity': 's_h_i_s', 'non_profanity': 'informal term for feces'}\n",
      "{'profanity': 'ass hole', 'non_profanity': 'rude individual'}\n",
      "{'profanity': 'nip', 'non_profanity': 'informal term for a person'}\n",
      "{'profanity': 'MFer', 'non_profanity': 'bothersome individual'}\n",
      "{'profanity': 'cyberfukks', 'non_profanity': 'humorous misspelling of an offensive term'}\n",
      "{'profanity': 'nickas', 'non_profanity': 'informal term for Black individuals'}\n",
      "{'profanity': 'dafuq', 'non_profanity': 'expression of confusion or disbelief'}\n",
      "{'profanity': 'crotch', 'non_profanity': 'area between the legs'}\n",
      "{'profanity': 'cum goon', 'non_profanity': 'individual with a fixation'}\n",
      "{'profanity': 'assfvcker', 'non_profanity': 'bothersome person'}\n",
      "{'profanity': 'fk bunny', 'non_profanity': 'playful term for an individual (context-dependent)'}\n",
      "{'profanity': 'peener', 'non_profanity': 'informal term for male genitalia'}\n",
      "{'profanity': 'goddamn', 'non_profanity': 'expression of annoyance'}\n",
      "{'profanity': 'mothaf@cked', 'non_profanity': 'confused or chaotic'}\n",
      "{'profanity': \"horse's asses\", 'non_profanity': 'foolish individuals'}\n",
      "{'profanity': 'p3nisfvcker', 'non_profanity': 'informal term for individuals engaging in inappropriate behavior'}\n",
      "{'profanity': 'mothafvcked', 'non_profanity': 'confused or chaotic'}\n",
      "{'profanity': 'choke the chicken', 'non_profanity': 'engage in self-pleasure'}\n",
      "{'profanity': 'cockgobbler', 'non_profanity': 'bothersome individual'}\n",
      "{'profanity': 'cock jockey', 'non_profanity': 'troublesome individual'}\n",
      "{'profanity': 'sk@nkz', 'non_profanity': 'derogatory term for individuals'}\n",
      "{'profanity': 'jizzes', 'non_profanity': 'releases bodily fluid'}\n",
      "{'profanity': 'willy-whacker', 'non_profanity': 'informal term for someone with a crude sense of humor'}\n",
      "{'profanity': 'nigg@zzes', 'non_profanity': 'Black persons'}\n",
      "{'profanity': 'anal', 'non_profanity': 'relating to the rear'}\n",
      "{'profanity': 'd1cksucker', 'non_profanity': 'bothersome individual'}\n",
      "{'profanity': 'fudgepacker', 'non_profanity': 'bothersome individuals'}\n",
      "{'profanity': 'p3n1shead', 'non_profanity': 'informal term for male genitalia'}\n",
      "{'profanity': 'clitlickers', 'non_profanity': 'disrespectful term for a sexual act'}\n",
      "{'profanity': 'jerk-0ffs', 'non_profanity': 'individuals who engage in self-pleasure'}\n",
      "{'profanity': 'shitheadfucker', 'non_profanity': 'bothersome individual'}\n",
      "{'profanity': 'n0bhead', 'non_profanity': 'bothersome individual'}\n",
      "{'profanity': 'fucc', 'non_profanity': 'informal term for emphasis'}\n",
      "{'profanity': 'go fuck yourself', 'non_profanity': 'expression of frustration'}\n",
      "{'profanity': 'c0cksuccer', 'non_profanity': 'inappropriate term for oral sex'}\n",
      "{'profanity': 'pricks', 'non_profanity': 'bothersome individuals'}\n",
      "{'profanity': 'beat the meat', 'non_profanity': 'engage in self-pleasure'}\n",
      "{'profanity': 'motherfcks', 'non_profanity': 'bothersome individuals'}\n",
      "{'profanity': 'arse hole', 'non_profanity': 'unpleasant person'}\n",
      "{'profanity': 'fuq', 'non_profanity': 'informal term for emphasis'}\n",
      "{'profanity': 'sum of a bitch', 'non_profanity': 'bothersome individual'}\n",
      "{'profanity': 'mfckers', 'non_profanity': 'bothersome individuals'}\n",
      "{'profanity': 'buttermilk', 'non_profanity': 'informal term for milk'}\n",
      "{'profanity': 'crazy mofos', 'non_profanity': 'eccentric individuals'}\n",
      "{'profanity': 'assfkr', 'non_profanity': 'troublesome individual'}\n",
      "{'profanity': 'motherfecka', 'non_profanity': 'bothersome individual'}\n",
      "{'profanity': 'bizzach', 'non_profanity': 'informal term for a person'}\n",
      "{'profanity': 'motherfuckkas', 'non_profanity': 'bothersome individuals'}\n",
      "{'profanity': 'mother fucka', 'non_profanity': 'bothersome individual'}\n",
      "{'profanity': 'fukheads', 'non_profanity': 'foolish individuals'}\n",
      "{'profanity': 'towelhead', 'non_profanity': 'offensive term for a person of Middle Eastern descent'}\n",
      "{'profanity': 'cock licker', 'non_profanity': 'disrespectful term for oral activity'}\n",
      "{'profanity': 'fxcking', 'non_profanity': 'informal term for emphasis'}\n",
      "{'profanity': 'girly bits', 'non_profanity': 'informal term for female anatomy'}\n",
      "{'profanity': 'pedobear', 'non_profanity': 'informal reference to a character associated with inappropriate behavior'}\n",
      "{'profanity': 'fellator', 'non_profanity': 'informal term for sexual pleasure'}\n",
      "{'profanity': 'ar5ehole', 'non_profanity': 'unpleasant person'}\n",
      "{'profanity': 'suck off', 'non_profanity': 'informal term for engaging in sexual activity'}\n",
      "{'profanity': 'hustler', 'non_profanity': 'individual who engages in dubious activities'}\n",
      "{'profanity': 'wop', 'non_profanity': 'offensive term for a person of Italian descent'}\n",
      "{'profanity': 'fckyeah', 'non_profanity': 'enthusiastic affirmation'}\n",
      "{'profanity': 'muthafuckker', 'non_profanity': 'bothersome individual'}\n",
      "{'profanity': 'scummy', 'non_profanity': 'informal term for someone unpleasant'}\n",
      "{'profanity': 'shmale', 'non_profanity': 'informal term for a transgender woman'}\n",
      "{'profanity': 'mufdivin', 'non_profanity': 'informal term for engaging in sexual activity'}\n",
      "{'profanity': 'pole licker', 'non_profanity': 'informal term for someone engaging in oral activity'}\n",
      "{'profanity': 'shit-stuffers', 'non_profanity': 'bothersome individuals'}\n",
      "{'profanity': 'f@ck', 'non_profanity': 'inappropriate term for sexual activity'}\n",
      "{'profanity': 'motherfuckeds', 'non_profanity': 'confused or chaotic'}\n",
      "{'profanity': 'assfck', 'non_profanity': 'inappropriate act'}\n",
      "{'profanity': 'assfuck', 'non_profanity': 'inappropriate behavior'}\n",
      "{'profanity': 'pedos', 'non_profanity': 'individuals who exploit children'}\n",
      "{'profanity': 'trasherbitch', 'non_profanity': 'bothersome individual'}\n",
      "{'profanity': 'buttfuckers', 'non_profanity': 'troublesome individual'}\n",
      "{'profanity': 'n1ggahs', 'non_profanity': 'Black individuals'}\n",
      "{'profanity': 'n1ggas', 'non_profanity': 'Black individuals'}\n",
      "{'profanity': 'fuckboy', 'non_profanity': 'troublesome individual'}\n",
      "{'profanity': 'jerk-offs', 'non_profanity': 'individuals who engage in self-pleasure'}\n",
      "{'profanity': 'mother fucking', 'non_profanity': 'informal term for emphasis'}\n",
      "{'profanity': 'jackass', 'non_profanity': 'bothersome person'}\n",
      "{'profanity': 'shitte', 'non_profanity': 'informal term for feces'}\n",
      "{'profanity': 'phukhead', 'non_profanity': 'foolish individual'}\n",
      "{'profanity': 'whoars', 'non_profanity': 'derogatory term for women perceived as promiscuous'}\n",
      "{'profanity': 'assfukah', 'non_profanity': 'troublesome individual'}\n",
      "{'profanity': 'shiesterfuck', 'non_profanity': 'bothersome individual'}\n",
      "{'profanity': 'pillow-biter', 'non_profanity': 'offensive term for a homosexual individual'}\n",
      "{'profanity': 'fuckshit', 'non_profanity': 'nonsense or inappropriate behavior'}\n",
      "{'profanity': 'f@cker bunny', 'non_profanity': 'playful term for a troublesome individual'}\n",
      "{'profanity': 'ph@ggots', 'non_profanity': 'offensive term for a person'}\n",
      "{'profanity': 'knobendy', 'non_profanity': 'bothersome individual'}\n",
      "{'profanity': 'nigguhz', 'non_profanity': 'informal term for Black individuals'}\n",
      "{'profanity': 'anilingus', 'non_profanity': 'oral stimulation of the rear'}\n",
      "{'profanity': 'jerk off', 'non_profanity': 'engage in self-pleasure'}\n",
      "{'profanity': 'double dick', 'non_profanity': 'humorous reference to having two male genitalia'}\n",
      "{'profanity': 'creampie', 'non_profanity': 'messy sexual act'}\n",
      "{'profanity': 'scumfuck', 'non_profanity': 'informal term for a bothersome individual'}\n",
      "{'profanity': 'shitsful', 'non_profanity': 'informal term for something unpleasant'}\n",
      "{'profanity': 'nigg@', 'non_profanity': 'informal term for Black individuals'}\n",
      "{'profanity': 'dipshit', 'non_profanity': 'foolish person'}\n",
      "{'profanity': 'phuckings', 'non_profanity': 'informal term for emphasis'}\n",
      "{'profanity': 'cawk', 'non_profanity': 'male genitalia'}\n",
      "{'profanity': 'k1k3', 'non_profanity': 'offensive term for a Jewish person'}\n",
      "{'profanity': 'butthole boy', 'non_profanity': 'playful term (context-dependent)'}\n",
      "{'profanity': 'spanking', 'non_profanity': 'informal term for a disciplinary action'}\n",
      "{'profanity': 'nigasses', 'non_profanity': 'informal term for Black individuals'}\n",
      "{'profanity': 'nobbyhead', 'non_profanity': 'foolish individual'}\n",
      "{'profanity': 'cocsuck', 'non_profanity': 'disrespectful term for oral activity'}\n",
      "{'profanity': 'meat curtains', 'non_profanity': 'informal term for female anatomy'}\n",
      "{'profanity': 'shitblimps', 'non_profanity': 'informal term for troublesome individuals'}\n",
      "{'profanity': 'mothafucked', 'non_profanity': 'confused or chaotic'}\n",
      "{'profanity': 'c00nies', 'non_profanity': 'derogatory term for individuals'}\n",
      "{'profanity': '@ssfvcker', 'non_profanity': 'disrespectful person'}\n",
      "{'profanity': 'shitheadfuckface', 'non_profanity': 'bothersome individual'}\n",
      "{'profanity': 'fuckface', 'non_profanity': 'foolish individual'}\n",
      "{'profanity': 'cuntlickers', 'non_profanity': 'bothersome individuals'}\n",
      "{'profanity': 'fux0r', 'non_profanity': 'informal term for emphasis'}\n",
      "{'profanity': 'dick nibbler', 'non_profanity': 'bothersome individual'}\n",
      "{'profanity': 's/h/i/t', 'non_profanity': 'informal term for feces'}\n",
      "{'profanity': 'anal pirate', 'non_profanity': 'derogatory term for an individual'}\n",
      "{'profanity': 'shitfuckmotherfucker', 'non_profanity': 'bothersome individual'}\n",
      "{'profanity': 'bi + ch', 'non_profanity': 'informal term for a woman (often derogatory)'}\n",
      "{'profanity': '0ral sex', 'non_profanity': 'oral intimacy'}\n",
      "{'profanity': 'mothafuckeds', 'non_profanity': 'confused or chaotic'}\n",
      "{'profanity': 'fucked up', 'non_profanity': 'made a mistake'}\n",
      "{'profanity': 'ass-bandit', 'non_profanity': 'troublesome individual'}\n",
      "{'profanity': 'puussy', 'non_profanity': 'informal term for female genitalia'}\n",
      "{'profanity': 'throater', 'non_profanity': 'informal term for someone who engages in oral activity'}\n",
      "{'profanity': 'motherfxck', 'non_profanity': 'informal term for emphasis'}\n",
      "{'profanity': 'lady-boy', 'non_profanity': 'flamboyant individual'}\n",
      "{'profanity': 'sheet', 'non_profanity': 'sheet of material'}\n",
      "{'profanity': 'mothafuckazzes', 'non_profanity': 'bothersome individuals'}\n",
      "{'profanity': 'knobender', 'non_profanity': 'bothersome individual'}\n",
      "{'profanity': 'dick-gobbler', 'non_profanity': 'troublesome individual'}\n",
      "{'profanity': 'higga', 'non_profanity': 'derogatory term for a person'}\n",
      "{'profanity': 'm0foes', 'non_profanity': 'bothersome individuals'}\n",
      "{'profanity': 'apeshit', 'non_profanity': 'out of control'}\n",
      "{'profanity': 'penishead', 'non_profanity': 'informal term for male genitalia'}\n",
      "{'profanity': 'm0ng0l0id', 'non_profanity': 'offensive term for an individual (not recommended)'}\n",
      "{'profanity': 'mothafuckas', 'non_profanity': 'bothersome individuals'}\n",
      "{'profanity': 'horse shit', 'non_profanity': 'nonsense or foolishness'}\n",
      "{'profanity': 'transvestite', 'non_profanity': 'outdated term for a person who cross-dresses'}\n",
      "{'profanity': 'n1ggah', 'non_profanity': 'informal term for a Black individual'}\n",
      "{'profanity': 'nicka', 'non_profanity': 'informal term for a Black person'}\n",
      "{'profanity': 'fag asses', 'non_profanity': 'derogatory term for individuals (not recommended)'}\n",
      "{'profanity': 'phukker', 'non_profanity': 'bothersome individual'}\n",
      "{'profanity': 'skank', 'non_profanity': 'informal term for a promiscuous woman'}\n",
      "{'profanity': 'wophead', 'non_profanity': 'offensive term for a person of Italian descent'}\n",
      "{'profanity': 'fuck faces', 'non_profanity': 'bothersome individuals'}\n",
      "{'profanity': 'gay fucker', 'non_profanity': 'bothersome individual'}\n",
      "{'profanity': 'fuck off', 'non_profanity': 'go away'}\n",
      "{'profanity': 'girlieboy', 'non_profanity': 'informal term for a boy with feminine traits'}\n",
      "{'profanity': 'sumbitch', 'non_profanity': 'bothersome individual'}\n",
      "{'profanity': 'dumb@ss', 'non_profanity': 'silly person'}\n",
      "{'profanity': 'fudgepackershitter', 'non_profanity': 'troublesome individual'}\n",
      "{'profanity': 'tossing salad', 'non_profanity': 'informal term for a sexual act'}\n",
      "{'profanity': 'suck my d', 'non_profanity': 'informal term for oral activity'}\n",
      "{'profanity': 'pigfucking', 'non_profanity': 'informal term for inappropriate behavior'}\n",
      "{'profanity': 'homos', 'non_profanity': 'informal term for homosexual individuals'}\n",
      "{'profanity': 'nuckas', 'non_profanity': 'informal term for individuals'}\n",
      "{'profanity': 'fuccers', 'non_profanity': 'bothersome individuals'}\n",
      "{'profanity': 'motherfukkings', 'non_profanity': 'informal term for emphasis'}\n",
      "{'profanity': 'dild0', 'non_profanity': 'adult toy'}\n",
      "{'profanity': 'cocksuccas', 'non_profanity': 'bothersome individuals'}\n",
      "{'profanity': 'mofoshit', 'non_profanity': 'inappropriate behavior'}\n",
      "{'profanity': 'phucker', 'non_profanity': 'bothersome individual'}\n",
      "{'profanity': 'dick head', 'non_profanity': 'foolish individual'}\n",
      "{'profanity': 'bitchhole', 'non_profanity': 'unpleasant behavior'}\n",
      "{'profanity': 'cuntasaurus rex', 'non_profanity': 'humorous term for an unpleasant individual'}\n",
      "{'profanity': 'knobhead', 'non_profanity': 'foolish individual'}\n",
      "{'profanity': 'hooters', 'non_profanity': 'informal term for breasts'}\n",
      "{'profanity': 'piss shit', 'non_profanity': 'informal term for inappropriate behavior'}\n",
      "{'profanity': 'muff', 'non_profanity': 'informal term for female anatomy'}\n",
      "{'profanity': 'fucked', 'non_profanity': 'confused or chaotic'}\n",
      "{'profanity': 'slanty', 'non_profanity': 'informal term for a person perceived as different'}\n",
      "{'profanity': 'd1ldo', 'non_profanity': 'adult toy'}\n",
      "{'profanity': 'pusslicker', 'non_profanity': 'informal term for someone engaging in oral activity'}\n",
      "{'profanity': 'animal fucker', 'non_profanity': 'individual with inappropriate interests'}\n",
      "{'profanity': 'dickhead', 'non_profanity': 'foolish individual'}\n",
      "{'profanity': 'cotton picker', 'non_profanity': 'offensive term for a laborer'}\n",
      "{'profanity': 'gayness', 'non_profanity': 'quality of being flamboyant'}\n",
      "{'profanity': 'dirty sanchez', 'non_profanity': 'inappropriate reference to a sexual act'}\n",
      "{'profanity': 'klan', 'non_profanity': 'informal term for a hate group'}\n",
      "{'profanity': 'sons of bitches', 'non_profanity': 'bothersome individuals'}\n",
      "{'profanity': 'motha fucka', 'non_profanity': 'bothersome individual'}\n",
      "{'profanity': 'nigga', 'non_profanity': 'informal term for a Black person'}\n",
      "{'profanity': 'c0cksucked', 'non_profanity': 'informal term for oral stimulation'}\n",
      "{'profanity': 'shi+y', 'non_profanity': 'informal term for something unpleasant'}\n",
      "{'profanity': 'bull shit', 'non_profanity': 'nonsense'}\n",
      "{'profanity': 'fuckhead', 'non_profanity': 'bothersome individual'}\n",
      "{'profanity': 'biatch', 'non_profanity': 'informal term for a woman (often derogatory)'}\n",
      "{'profanity': 'niggers', 'non_profanity': 'informal term for Black individuals'}\n",
      "{'profanity': 'knob', 'non_profanity': 'informal term for a penis'}\n",
      "{'profanity': 'muffindivin', 'non_profanity': 'informal term for engaging in sexual activity'}\n",
      "{'profanity': 'blowjob', 'non_profanity': 'testicles'}\n",
      "{'profanity': 'sh! +', 'non_profanity': 'informal term for an exclamation of frustration'}\n",
      "{'profanity': 'c*nty', 'non_profanity': 'unpleasant behavior'}\n",
      "{'profanity': 'pussless', 'non_profanity': 'lacking female genitalia'}\n",
      "{'profanity': 'knobead', 'non_profanity': 'bothersome individual'}\n",
      "{'profanity': 'pedo', 'non_profanity': 'individual who exploits children'}\n",
      "{'profanity': 'muthafeckers', 'non_profanity': 'bothersome individuals'}\n",
      "{'profanity': 'motha fucker', 'non_profanity': 'bothersome individual'}\n",
      "{'profanity': 'fccuker', 'non_profanity': 'bothersome individual'}\n",
      "{'profanity': 's.o.b.', 'non_profanity': 'informal term for a troublesome individual'}\n",
      "{'profanity': 'slutty', 'non_profanity': 'informal term for someone perceived as promiscuous'}\n",
      "{'profanity': 'goddamnit', 'non_profanity': 'expression of frustration'}\n",
      "{'profanity': 'sl@nteye', 'non_profanity': 'offensive term for a person of Asian descent'}\n",
      "{'profanity': 'nigg@hs', 'non_profanity': 'informal term for Black individuals'}\n",
      "{'profanity': 'motherfckin', 'non_profanity': 'informal term for emphasis'}\n",
      "{'profanity': 'mofuckkas', 'non_profanity': 'bothersome individuals'}\n",
      "{'profanity': 'dipshite', 'non_profanity': 'nonsense or foolishness'}\n",
      "{'profanity': 'nigah', 'non_profanity': 'informal term for Black individuals'}\n",
      "{'profanity': 'assmuncher', 'non_profanity': 'difficult person'}\n",
      "{'profanity': 'hoar', 'non_profanity': 'derogatory term for a promiscuous woman'}\n",
      "{'profanity': 'pedobears', 'non_profanity': 'informal reference to a character associated with inappropriate behavior'}\n",
      "{'profanity': 'cock', 'non_profanity': 'male genitalia'}\n",
      "{'profanity': 'suck my cock', 'non_profanity': 'informal term for oral activity'}\n",
      "{'profanity': 'beaner', 'non_profanity': 'derogatory term for Hispanic individuals (not recommended)'}\n",
      "{'profanity': 'ass bandit', 'non_profanity': 'troublemaker'}\n",
      "{'profanity': 'bitcher', 'non_profanity': 'someone who complains'}\n",
      "{'profanity': 'bollocks', 'non_profanity': 'informal term for incorrectness'}\n",
      "{'profanity': 'pole sucker', 'non_profanity': 'informal term for someone engaging in oral activity'}\n",
      "{'profanity': 'jackasses', 'non_profanity': 'bothersome individuals'}\n",
      "{'profanity': 'bbc', 'non_profanity': 'large penis (informal term)'}\n",
      "{'profanity': 'fuckmachine', 'non_profanity': 'bothersome device or individual'}\n",
      "{'profanity': 'packingfudge', 'non_profanity': 'informal term for engaging in sexual activity'}\n",
      "{'profanity': 'sh1s', 'non_profanity': 'informal term for feces'}\n",
      "{'profanity': 'higger', 'non_profanity': 'derogatory term for a person'}\n",
      "{'profanity': 'nobheads', 'non_profanity': 'foolish individuals'}\n",
      "{'profanity': 'shittyful', 'non_profanity': 'informal term for something unpleasant'}\n",
      "{'profanity': 'puta', 'non_profanity': 'offensive term for a woman'}\n",
      "{'profanity': 'pussy cat', 'non_profanity': 'affectionate term for a cat'}\n",
      "{'profanity': 'bitchfuck', 'non_profanity': 'inappropriate act'}\n",
      "{'profanity': 'knobgobbler', 'non_profanity': 'bothersome individual'}\n",
      "{'profanity': 'dumbarrassed', 'non_profanity': 'embarrassed individual'}\n",
      "{'profanity': 'm0therfucking', 'non_profanity': 'informal term for emphasis'}\n",
      "{'profanity': 'dune coon', 'non_profanity': 'offensive term for a person (not recommended)'}\n",
      "{'profanity': 'peter', 'non_profanity': 'informal term for male genitalia'}\n",
      "{'profanity': 'ass muncher', 'non_profanity': 'bothersome person'}\n",
      "{'profanity': 'nigg4hs', 'non_profanity': 'informal term for Black individuals'}\n",
      "{'profanity': 'piss off fuckhead', 'non_profanity': 'expression of frustration'}\n",
      "{'profanity': 'fudgefucker', 'non_profanity': 'bothersome individual'}\n",
      "{'profanity': 'phuq', 'non_profanity': 'informal term for an inappropriate action'}\n",
      "{'profanity': 'pussie', 'non_profanity': 'informal term for female genitalia'}\n",
      "{'profanity': 'Tranny', 'non_profanity': 'offensive term for a transgender individual'}\n",
      "{'profanity': 'nickk3r', 'non_profanity': 'informal term for a Black person'}\n",
      "{'profanity': 'k!k3', 'non_profanity': 'offensive term for a Jewish person'}\n",
      "{'profanity': 'fothermuckers', 'non_profanity': 'troublesome individuals'}\n",
      "{'profanity': 'r3tard', 'non_profanity': 'offensive term for a person with disabilities'}\n",
      "{'profanity': 'l@dyb0i', 'non_profanity': 'flamboyant individual'}\n",
      "{'profanity': 'fcking', 'non_profanity': 'informal term for emphasis'}\n",
      "{'profanity': 'shet', 'non_profanity': 'informal term for feces'}\n",
      "{'profanity': 'dumb bastard', 'non_profanity': 'foolish person'}\n",
      "{'profanity': 'closet fuckhead', 'non_profanity': 'troublesome individual'}\n",
      "{'profanity': 'motherfuck', 'non_profanity': 'bothersome individual'}\n",
      "{'profanity': 'nob jokeys', 'non_profanity': 'bothersome individuals'}\n",
      "{'profanity': 'f0cker', 'non_profanity': 'bothersome individual'}\n",
      "{'profanity': 'trousersnake', 'non_profanity': 'informal term for male genitalia'}\n",
      "{'profanity': 'motherfacking', 'non_profanity': 'informal term for emphasis'}\n",
      "{'profanity': 'gin jockey', 'non_profanity': 'derogatory term for a person'}\n",
      "{'profanity': 'clusterfucked', 'non_profanity': 'confused or disorganized'}\n",
      "{'profanity': 'd1ckheads', 'non_profanity': 'foolish individuals'}\n",
      "{'profanity': 'knobed', 'non_profanity': 'bothersome individual'}\n",
      "{'profanity': 'fuckfaces', 'non_profanity': 'foolish individuals'}\n",
      "{'profanity': 'jizz', 'non_profanity': 'bodily fluid'}\n",
      "{'profanity': 'cockmunch', 'non_profanity': 'informal term for a sexual act'}\n",
      "{'profanity': 'gay bitch', 'non_profanity': 'bothersome person'}\n",
      "{'profanity': 'j3rk', 'non_profanity': 'foolish person'}\n",
      "{'profanity': 'analingus', 'non_profanity': 'oral stimulation'}\n",
      "{'profanity': 'jigga', 'non_profanity': 'informal term for a Black person'}\n",
      "{'profanity': 'm0therfucker', 'non_profanity': 'bothersome individual'}\n",
      "{'profanity': 'jim crow', 'non_profanity': 'informal term for a Black person'}\n",
      "{'profanity': 'meat-sword', 'non_profanity': 'informal term for male genitalia'}\n",
      "{'profanity': 'b1tch35', 'non_profanity': 'annoying individuals'}\n",
      "{'profanity': 'wank', 'non_profanity': 'informal term for engaging in masturbation'}\n",
      "{'profanity': 'nignog', 'non_profanity': 'offensive term for a Black individual'}\n",
      "{'profanity': 'cocklicker', 'non_profanity': 'disrespectful term for oral activity'}\n",
      "{'profanity': 'shittyfuckface', 'non_profanity': 'bothersome individual'}\n",
      "{'profanity': 'packingfudgefucking', 'non_profanity': 'informal term for engaging in sexual activity'}\n",
      "{'profanity': 'slut', 'non_profanity': 'derogatory term for a promiscuous woman'}\n",
      "{'profanity': 'cooties', 'non_profanity': 'imaginary germs or bugs (often used by children)'}\n",
      "{'profanity': 'motherfuckings', 'non_profanity': 'informal term for emphasis'}\n",
      "{'profanity': 'niggass', 'non_profanity': 'informal term for a Black individual'}\n",
      "{'profanity': 'd1ckz', 'non_profanity': 'male genitalia (informal)'}\n",
      "{'profanity': 'knobjocky', 'non_profanity': 'bothersome individual'}\n",
      "{'profanity': 'nobhead', 'non_profanity': 'foolish individual'}\n",
      "{'profanity': 'fucktard', 'non_profanity': 'offensive term for a person (not recommended)'}\n",
      "{'profanity': 'gay ass', 'non_profanity': 'flamboyant individual'}\n",
      "{'profanity': 'flamer', 'non_profanity': 'derogatory term for a person (not recommended)'}\n",
      "{'profanity': 'm0thafucking', 'non_profanity': 'informal term for emphasis'}\n",
      "{'profanity': 'jackoff', 'non_profanity': 'engage in self-pleasure'}\n",
      "{'profanity': 'wankers', 'non_profanity': 'informal term for bothersome individuals'}\n",
      "{'profanity': 'bum-driller', 'non_profanity': 'inappropriate behavior'}\n",
      "{'profanity': 'motherfuckins', 'non_profanity': 'bothersome individuals'}\n",
      "{'profanity': 'nigg3rs', 'non_profanity': 'Black individuals'}\n",
      "{'profanity': 'penisfvcker', 'non_profanity': 'informal term for someone engaging in inappropriate behavior'}\n",
      "{'profanity': 'g@y b1tch', 'non_profanity': 'derogatory term for a person (not recommended)'}\n",
      "{'profanity': 'ape shite', 'non_profanity': 'foolish behavior'}\n",
      "{'profanity': 'pissoff', 'non_profanity': 'informal term for dismissing someone'}\n",
      "{'profanity': 'jigaboos', 'non_profanity': 'offensive term for Black individuals'}\n",
      "{'profanity': '3jakulating', 'non_profanity': 'releasing'}\n",
      "{'profanity': 'face fuck', 'non_profanity': 'inappropriate sexual act'}\n",
      "{'profanity': 'slanteyes', 'non_profanity': 'offensive term for a person of Asian descent'}\n",
      "{'profanity': 'mother effer', 'non_profanity': 'bothersome individual'}\n",
      "{'profanity': 'fooker', 'non_profanity': 'bothersome individual'}\n",
      "{'profanity': 'carpetmunchers', 'non_profanity': 'offensive term for individuals'}\n",
      "{'profanity': 'shiddick', 'non_profanity': 'informal term for a bothersome individual'}\n",
      "{'profanity': 'mecha fag', 'non_profanity': 'derogatory term for a person (not recommended)'}\n",
      "{'profanity': 'pedophl', 'non_profanity': 'informal term for someone who exploits children'}\n",
      "{'profanity': 'knobjokeys', 'non_profanity': 'bothersome individuals'}\n",
      "{'profanity': 'shitfuckhead', 'non_profanity': 'foolish individual'}\n",
      "{'profanity': 'phukup', 'non_profanity': 'informal term for a troublesome situation'}\n",
      "{'profanity': \"f'ed\", 'non_profanity': 'informal term for being intoxicated or altered'}\n",
      "{'profanity': 'butt-fucker', 'non_profanity': 'troublesome individual'}\n",
      "{'profanity': 'fck you', 'non_profanity': 'expression of anger or frustration'}\n",
      "{'profanity': 'fcks', 'non_profanity': 'bothersome individuals'}\n",
      "{'profanity': 'fucknuckle', 'non_profanity': 'bothersome individual'}\n",
      "{'profanity': 'coonie', 'non_profanity': 'informal term for a person'}\n",
      "{'profanity': 'kiddy touch', 'non_profanity': 'inappropriate term for someone who engages in inappropriate actions with children'}\n",
      "{'profanity': 'tadger', 'non_profanity': 'informal term for someone annoying'}\n",
      "{'profanity': 'fvcker', 'non_profanity': 'bothersome individual'}\n",
      "{'profanity': 'b1otch', 'non_profanity': 'unpleasant individual'}\n",
      "{'profanity': 'she-male', 'non_profanity': 'informal term for a transgender woman'}\n",
      "{'profanity': 'fucka', 'non_profanity': 'bothersome individual'}\n",
      "{'profanity': 'fukin', 'non_profanity': 'informal term for emphasis'}\n",
      "{'profanity': 'c*nt', 'non_profanity': 'offensive term for a woman'}\n",
      "{'profanity': 'wang wrangler', 'non_profanity': 'informal term for someone who is overly concerned with male genitalia'}\n",
      "{'profanity': 'sausage jockey', 'non_profanity': 'informal term for someone engaging in sexual activity'}\n",
      "{'profanity': 'cock sucker', 'non_profanity': 'bothersome individual'}\n",
      "{'profanity': 'cocksuckas', 'non_profanity': 'bothersome individuals'}\n",
      "{'profanity': 'shut the fuck up', 'non_profanity': 'expression of frustration'}\n",
      "{'profanity': 'fukwhore', 'non_profanity': 'offensive term for a promiscuous person'}\n",
      "{'profanity': 'assfukka', 'non_profanity': 'irritating person'}\n",
      "{'profanity': 'hoe', 'non_profanity': 'informal term for a woman'}\n",
      "{'profanity': 'mothafcked', 'non_profanity': 'confused or chaotic'}\n",
      "{'profanity': 'forked', 'non_profanity': 'confused or chaotic'}\n",
      "{'profanity': 'shitey', 'non_profanity': 'bothersome individual'}\n",
      "{'profanity': 'suck', 'non_profanity': 'informal term for oral activity'}\n",
      "{'profanity': 'shitdick', 'non_profanity': 'bothersome individual'}\n",
      "{'profanity': 's.o.b.s', 'non_profanity': 'informal term for troublesome individuals'}\n",
      "{'profanity': 'phukshit', 'non_profanity': 'inappropriate behavior'}\n",
      "{'profanity': 'mothafuckins', 'non_profanity': 'informal term for emphasis'}\n",
      "{'profanity': 'nympho', 'non_profanity': 'individual with high sexual desire'}\n",
      "{'profanity': 'fuccing', 'non_profanity': 'informal term for emphasis'}\n",
      "{'profanity': 'ballbag', 'non_profanity': 'testicles'}\n",
      "{'profanity': 'fuc', 'non_profanity': 'informal term for emphasis'}\n",
      "{'profanity': 'nigre', 'non_profanity': 'offensive term for a Black person'}\n",
      "{'profanity': 'mfukk', 'non_profanity': 'bothersome individual'}\n",
      "{'profanity': 'pigshit', 'non_profanity': 'nonsense or inappropriate behavior'}\n",
      "{'profanity': 'phuccer', 'non_profanity': 'bothersome individual'}\n",
      "{'profanity': 'cooter shooting', 'non_profanity': 'informal term for a sexual act'}\n",
      "{'profanity': 'motherfukka', 'non_profanity': 'bothersome individual'}\n",
      "{'profanity': 'go to hell', 'non_profanity': 'expression of anger or dismissal'}\n",
      "{'profanity': 'm@derfuck', 'non_profanity': 'bothersome individuals'}\n",
      "{'profanity': 'cuntness', 'non_profanity': 'unpleasant behavior'}\n",
      "{'profanity': 'faggots', 'non_profanity': 'bothersome individuals'}\n",
      "{'profanity': 'bitchez', 'non_profanity': 'troublesome individuals'}\n",
      "{'profanity': 'asshat', 'non_profanity': 'foolish person'}\n",
      "{'profanity': 'ass fecker', 'non_profanity': 'annoying person'}\n",
      "{'profanity': 'cunts', 'non_profanity': 'offensive term for individuals'}\n",
      "{'profanity': 'pussy lick', 'non_profanity': 'informal term for engaging in sexual activity'}\n",
      "{'profanity': 'motherfcked', 'non_profanity': 'confused or chaotic'}\n",
      "{'profanity': 'chocha', 'non_profanity': 'informal term for female anatomy'}\n",
      "{'profanity': 'arsehole', 'non_profanity': 'unpleasant person'}\n",
      "{'profanity': 'towelshithead', 'non_profanity': 'offensive term for a bothersome individual'}\n",
      "{'profanity': 'markasses', 'non_profanity': 'troublesome individuals'}\n",
      "{'profanity': 'full of shit', 'non_profanity': 'untruthful or misleading'}\n",
      "{'profanity': 'douche bag', 'non_profanity': 'bothersome individual'}\n",
      "{'profanity': 'phags', 'non_profanity': 'offensive term for individuals (not recommended)'}\n",
      "{'profanity': 'cockeater', 'non_profanity': 'disrespectful term for oral activity'}\n",
      "{'profanity': 'fucks', 'non_profanity': 'bothersome individuals'}\n",
      "{'profanity': 'feck arse', 'non_profanity': 'bothersome individual'}\n",
      "{'profanity': 'twatzilla', 'non_profanity': 'informal term for someone perceived as flamboyant'}\n",
      "{'profanity': 'phukked', 'non_profanity': 'confused or chaotic'}\n",
      "{'profanity': 'motherfvcking', 'non_profanity': 'informal term for emphasis'}\n",
      "{'profanity': 'bwc', 'non_profanity': 'large genitalia (informal term)'}\n",
      "{'profanity': '4r5es', 'non_profanity': 'pressures'}\n",
      "{'profanity': 'g0ddamnit', 'non_profanity': 'expression of frustration'}\n",
      "{'profanity': 'dicksucker', 'non_profanity': 'othersome individual'}\n",
      "{'profanity': 'fking', 'non_profanity': 'informal term for emphasis'}\n",
      "{'profanity': 'shitty', 'non_profanity': 'informal term for something of poor quality'}\n",
      "{'profanity': 'shittings', 'non_profanity': 'informal term for unpleasant situations'}\n",
      "{'profanity': 'dicks', 'non_profanity': 'male genitalia (plural)'}\n",
      "{'profanity': 'twat', 'non_profanity': 'informal term for female genitalia'}\n",
      "{'profanity': 'knickers', 'non_profanity': 'informal term for underwear'}\n",
      "{'profanity': 'arse-bandit', 'non_profanity': 'derogatory term for an individual'}\n",
      "{'profanity': 'pu55y', 'non_profanity': 'informal term for female genitalia'}\n",
      "{'profanity': 'caaak', 'non_profanity': 'informal term for a person'}\n",
      "{'profanity': 'negroes', 'non_profanity': 'Black individuals'}\n",
      "{'profanity': 'shitdikk', 'non_profanity': 'bothersome individual'}\n",
      "{'profanity': 'fukk', 'non_profanity': 'informal term for sexual activity'}\n",
      "{'profanity': 'sand nigger', 'non_profanity': 'offensive term for a Black person'}\n",
      "{'profanity': 'muhfucking', 'non_profanity': 'bothersome individual'}\n",
      "{'profanity': 'nobjockies', 'non_profanity': 'bothersome individuals'}\n",
      "{'profanity': 'shittastic', 'non_profanity': 'informal term for something excellent in a sarcastic way'}\n",
      "{'profanity': 'bitchslap', 'non_profanity': 'playful slap'}\n",
      "{'profanity': '5h1t', 'non_profanity': 'waste'}\n",
      "{'profanity': 'fcka', 'non_profanity': 'bothersome individual'}\n",
      "{'profanity': 'son of a bitch', 'non_profanity': 'informal term for a bothersome individual'}\n",
      "{'profanity': 'stupid hoe', 'non_profanity': 'foolish individuals'}\n",
      "{'profanity': 'phucks', 'non_profanity': 'bothersome individuals'}\n",
      "{'profanity': 'klitoris', 'non_profanity': 'anatomical term for female genitalia'}\n",
      "{'profanity': 'm0therfuckeds', 'non_profanity': 'bothersome individuals'}\n",
      "{'profanity': 'penisfuccer', 'non_profanity': 'informal term for someone engaging in inappropriate behavior'}\n",
      "{'profanity': 'china-virus', 'non_profanity': 'derogatory term for a virus'}\n",
      "{'profanity': 'f@k', 'non_profanity': 'inappropriate term for sexual activity'}\n",
      "{'profanity': 'pigfuckers', 'non_profanity': 'bothersome individuals'}\n",
      "{'profanity': 'b17ch', 'non_profanity': 'difficult person'}\n",
      "{'profanity': 'shitass', 'non_profanity': 'bothersome individual'}\n",
      "{'profanity': 'shit3', 'non_profanity': 'informal term for feces'}\n",
      "{'profanity': 'bullshi', 'non_profanity': 'nonsense'}\n",
      "{'profanity': 'sh1te', 'non_profanity': 'informal term for feces'}\n",
      "{'profanity': 'faggot son-of-a-bitch', 'non_profanity': 'unpleasant individual'}\n",
      "{'profanity': 'c00n', 'non_profanity': 'offensive term for a person'}\n",
      "{'profanity': 'bung hole', 'non_profanity': 'rear opening'}\n",
      "{'profanity': 'trashbitch', 'non_profanity': 'bothersome individual'}\n",
      "{'profanity': 'assface', 'non_profanity': 'foolish person'}\n",
      "{'profanity': 'sh1tty', 'non_profanity': 'informal term for something unpleasant'}\n",
      "{'profanity': 'dog fucking', 'non_profanity': 'engaging in inappropriate behavior'}\n",
      "{'profanity': '5kank', 'non_profanity': 'troublesome individual'}\n",
      "{'profanity': 'jizz eater', 'non_profanity': 'bothersome individual'}\n",
      "{'profanity': 'sh3mal3', 'non_profanity': 'informal term for a transgender woman'}\n",
      "{'profanity': 'b to the inch', 'non_profanity': 'inappropriate measurement'}\n",
      "{'profanity': 'bell end', 'non_profanity': 'foolish individual'}\n",
      "{'profanity': 'dickjockies', 'non_profanity': 'troublesome individuals'}\n",
      "{'profanity': 'motherfecker', 'non_profanity': 'bothersome individual'}\n",
      "{'profanity': 'motherfvcker', 'non_profanity': 'bothersome individual'}\n",
      "{'profanity': '@ssfucker', 'non_profanity': 'offensive individual'}\n",
      "{'profanity': 'crow', 'non_profanity': 'a person who complains'}\n",
      "{'profanity': 'dikhead', 'non_profanity': 'foolish individual'}\n",
      "{'profanity': 'mutha fucker', 'non_profanity': 'bothersome individual'}\n",
      "{'profanity': 'wanks', 'non_profanity': 'informal term for engaging in masturbation'}\n",
      "{'profanity': 'k..!ke', 'non_profanity': 'offensive term for a Jewish person'}\n",
      "{'profanity': 'paki', 'non_profanity': 'offensive term for a person of Pakistani descent'}\n",
      "{'profanity': 'puzzy', 'non_profanity': 'informal term for female genitalia'}\n",
      "{'profanity': 'whore', 'non_profanity': 'derogatory term for a promiscuous woman'}\n",
      "{'profanity': 'f@gshit', 'non_profanity': 'disrespectful term for behavior (not recommended)'}\n",
      "{'profanity': '@sshole', 'non_profanity': 'jerk'}\n",
      "{'profanity': 'twats', 'non_profanity': 'informal term for bothersome individuals'}\n",
      "{'profanity': 'motherfvcked', 'non_profanity': 'confused or chaotic'}\n",
      "{'profanity': 'n1ckker', 'non_profanity': 'offensive term for a person'}\n",
      "{'profanity': 'assfucker', 'non_profanity': 'annoying individual'}\n",
      "{'profanity': 'cunt lips', 'non_profanity': 'informal term for female anatomy'}\n",
      "{'profanity': 'slag', 'non_profanity': 'derogatory term for a woman'}\n",
      "{'profanity': 'motherfucks', 'non_profanity': 'bothersome individuals'}\n",
      "{'profanity': 'fuggings', 'non_profanity': 'informal term for emphasis'}\n",
      "{'profanity': 'shitty mofoes', 'non_profanity': 'bothersome individuals'}\n"
     ]
    }
   ],
   "source": [
    "for ex in train_dataset['train']:\n",
    "    print(ex)"
   ]
  },
  {
   "cell_type": "code",
   "execution_count": 15,
   "metadata": {},
   "outputs": [
    {
     "data": {
      "application/vnd.jupyter.widget-view+json": {
       "model_id": "718513b0b9ff4b8785f9b13fbbe113be",
       "version_major": 2,
       "version_minor": 0
      },
      "text/plain": [
       "Map:   0%|          | 0/1278 [00:00<?, ? examples/s]"
      ]
     },
     "metadata": {},
     "output_type": "display_data"
    },
    {
     "name": "stdout",
     "output_type": "stream",
     "text": [
      "[30355, 15, 45, 7108, 152, 485, 12, 529, 18, 1409, 12351, 485, 10, 3, 89, 632, 3383, 7, 1] [13965, 5529, 1742, 1]\n"
     ]
    },
    {
     "name": "stderr",
     "output_type": "stream",
     "text": [
      "/Library/Frameworks/Python.framework/Versions/3.12/lib/python3.12/site-packages/transformers/tokenization_utils_base.py:4144: UserWarning: `as_target_tokenizer` is deprecated and will be removed in v5 of Transformers. You can tokenize your labels by using the argument `text_target` of the regular `__call__` method (either in the same call as your input texts if you use the same keyword arguments, or in a separate call.\n",
      "  warnings.warn(\n"
     ]
    },
    {
     "data": {
      "application/vnd.jupyter.widget-view+json": {
       "model_id": "8e3266e5450746c7a14def0f5f80b666",
       "version_major": 2,
       "version_minor": 0
      },
      "text/plain": [
       "Map:   0%|          | 0/320 [00:00<?, ? examples/s]"
      ]
     },
     "metadata": {},
     "output_type": "display_data"
    }
   ],
   "source": [
    "tokenized_train_dataset = train_dataset['train'].map(preprocess_function,\n",
    "            batch_size =10000,\n",
    "            batched=True,\n",
    "            fn_kwargs={\n",
    "                'tokenizer': tokenizer,\n",
    "                'input_length': 512,\n",
    "            },\n",
    "            remove_columns= ['profanity', 'non_profanity'],\n",
    "            writer_batch_size = 128)\n",
    "print(tokenized_train_dataset['input_ids'][0],\n",
    "      tokenized_train_dataset['labels'][0])\n",
    "\n",
    "tokenized_test_dataset = train_dataset['test'].map(preprocess_function,\n",
    "            batch_size =10000,\n",
    "            batched=True,\n",
    "            fn_kwargs={\n",
    "                'tokenizer': tokenizer,\n",
    "                'input_length': 512,\n",
    "            },\n",
    "            remove_columns= ['profanity', 'non_profanity'],\n",
    "            writer_batch_size = 128)\n"
   ]
  },
  {
   "cell_type": "code",
   "execution_count": 16,
   "metadata": {},
   "outputs": [],
   "source": [
    "bleu_metric = evaluate.load(\"bleu\")\n",
    "rouge_metric = evaluate.load(\"rouge\")\n",
    "\n",
    "\n",
    "def compute_metrics(eval_preds):\n",
    "    preds, labels = eval_preds\n",
    "\n",
    "    # Decode labels, replacing -100 with the pad token\n",
    "    labels = np.where(labels != -100, labels, tokenizer.pad_token_id)\n",
    "    decoded_preds = tokenizer.batch_decode(preds, skip_special_tokens=True)\n",
    "    decoded_labels = tokenizer.batch_decode(labels, skip_special_tokens=True)\n",
    "    print(decoded_labels)\n",
    "    # Strip unnecessary whitespaces\n",
    "    decoded_preds = [pred.strip() for pred in decoded_preds]\n",
    "    decoded_labels = [[label.strip()] for label in decoded_labels]  # BLEU expects a list of references for each prediction\n",
    "\n",
    "    # Compute BLEU score\n",
    "    result = bleu_metric.compute(predictions=decoded_preds, references=decoded_labels)\n",
    "    rouge_result = rouge_metric.compute(predictions=decoded_preds, references=decoded_labels)\n",
    "\n",
    "    return {\n",
    "    \"bleu\": result[\"bleu\"],\n",
    "    \"rouge1\": rouge_result[\"rouge1\"],\n",
    "    \"rouge2\": rouge_result[\"rouge2\"],\n",
    "    \"rougeL\": rouge_result[\"rougeL\"],\n",
    "    }"
   ]
  },
  {
   "cell_type": "code",
   "execution_count": 17,
   "metadata": {},
   "outputs": [
    {
     "name": "stderr",
     "output_type": "stream",
     "text": [
      "max_steps is given, it will override any value given in num_train_epochs\n"
     ]
    },
    {
     "data": {
      "application/vnd.jupyter.widget-view+json": {
       "model_id": "dcecf765f6bd4e6481d1e131bdba1ccc",
       "version_major": 2,
       "version_minor": 0
      },
      "text/plain": [
       "  0%|          | 0/200 [00:00<?, ?it/s]"
      ]
     },
     "metadata": {},
     "output_type": "display_data"
    },
    {
     "name": "stdout",
     "output_type": "stream",
     "text": [
      "{'loss': 6.7254, 'grad_norm': 4.353481292724609, 'learning_rate': 4.75e-05, 'epoch': 2.0}\n"
     ]
    },
    {
     "data": {
      "application/vnd.jupyter.widget-view+json": {
       "model_id": "c4ca87a278c9468792ea317c158b8f8f",
       "version_major": 2,
       "version_minor": 0
      },
      "text/plain": [
       "  0%|          | 0/10 [00:00<?, ?it/s]"
      ]
     },
     "metadata": {},
     "output_type": "display_data"
    },
    {
     "name": "stdout",
     "output_type": "stream",
     "text": [
      "['informal term for bodily fluid', 'individuals who engage in self-pleasure', 'rude person', 'troublesome individual', 'informal term for a sexual position', 'informal term for an individual', 'rude individual', 'bothersome individual', 'offensive term for a violent act', 'humorous phrase for engaging in sexual activity', 'foolish individual', 'informal term for a Black individuals', 'bothersome individual', 'informal term for a Black person', 'male genitalia', 'informal term for being intoxicated or altered', 'bothersome individuals', 'foolish individual', 'humorous situation involving the toilet', 'Black individual', 'confused or chaotic', 'informal term for a boy with feminine traits', 'derogatory term for individuals', 'foolish individuals', 'informal term for male genitalia', 'punishment (historical context)', 'derogatory term for a woman', 'flamboyant individual', 'bothersome individual', 'derogatory term for a sexually active person', 'informal term for someone who is irritating', 'informal term for inappropriate behavior', 'inappropriate term for someone who engages in inappropriate actions with children', 'offensive term for an individual', 'bothersome individuals', 'bothersome individual', 'someone engaging in indulgent behavior (often drinking)', 'informal term for a foolish person', 'bothersome individual', 'bothersome individual', 'engage in self-pleasure', 'informal term for a promiscuous woman', 'expression of frustration', 'informal term for emphasis', 'troublesome individual', 'informal term for individuals', 'informal term for individuals', 'bothersome individual', 'informal term for someone engaging in inappropriate behavior', 'bothersome individuals', 'informal term for sexual activity', 'informal term for a person who attracts attention', 'bothersome individual', 'troublesome individuals', 'bothersome individual', 'inappropriate term for sexual activity', 'informal term for a foolish individual', 'informal term for emphasis', 'disrespectful term for oral activity', 'bothersome individual', 'bothersome individual', 'informal term for someone engaging in inappropriate behavior', 'informal term for female genitalia', 'bothersome individual', 'foolish individuals', 'inappropriate act', 'bothersome individual', 'chaotic situation', 'bothersome individual', 'informal term for a view of someone’s underwear', 'offensive term for a person (not recommended)', 'bothersome individual', 'offensive term for a person of Latin American descent', 'offensive term for a person of Latin American descent', 'offensive term for a person (not recommended)', 'bodily fluid', 'informal term for a person engaging in sexual activity', 'informal term for a sexual position', 'informal term for emphasis', 'informal term for a Black person', 'informal term for annoyance', 'derogatory term for a person', 'foolish individuals', 'informal term for a woman (often derogatory)', 'informal term for a flamboyant individual', 'bothersome individual', 'bothersome behavior', 'informal term for emphasis', 'bothersome individuals', 'adult toy', 'expression of frustration', 'troublesome individuals', 'foolish individuals', 'informal term for emphasis', 'extremely angry', 'individual who engages in sexual activity', 'troublesome individual', 'informal term for male genitalia', 'derogatory term for a woman', 'informal term for a Black individual', 'confused or chaotic', 'informal term for someone who acts obnoxiously', 'bothersome individuals', 'engaging in sexual activity', 'informal term for emphasis', 'silly term for an individual', 'offensive term for someone with disabilities', 'bothersome individuals', 'rude act', 'nonsense or foolishness', 'foolish person', 'silly person', 'informal term for male genitalia', 'derogatory term for a promiscuous woman', 'offensive term for a Japanese person', 'offensive term for a person of Asian descent', 'troublesome individuals', 'bothersome individual', 'expression of frustration', 'informal term for something of poor quality', 'derogatory term for a woman', 'foolish individual', 'bothersome individual', 'bothersome individual', 'informal term for inappropriate behavior', 'informal term for a Black woman', 'informal term for Black individual', 'informal term for male genitalia', 'bothersome individuals', 'troublesome person', 'foolish individual', 'alternative lifestyle practice', 'offensive term for a person (not recommended)', 'inappropriate term for an individual', 'adult toy', 'bothersome individual', 'informal term for a bothersome individual', 'informal term for female genitalia', 'engage in self-pleasure', 'foolish individuals', 'male genitalia (plural)', 'bothersome individual', 'offensive term for individuals', 'bothersome individual', 'informal term for testicles', 'informal term for something unpleasant', 'informal term used among friends', 'confused or chaotic', 'expression of frustration', 'offensive term for Black individuals', 'informal term for a scam artist', 'bothersome individuals', 'bothersome individual', 'male genitalia', 'informal term for an individual', 'offensive term for a person who engages in violence', 'inappropriate behavior', 'bothersome individual', 'bothersome individuals', 'informal variation of an inappropriate term', 'offensive term for a person (not recommended)', 'informal term for foolish individuals', 'bothersome individuals', 'informal term for emphasis', 'individual performing oral activity', 'bothersome individuals', 'disrespectful term for individuals', 'troublesome individuals', 'informal term for engaging in sexual activity', 'bothersome individual', 'resembling a difficult person', 'bothersome individual', 'humorous or awkward situation', 'sexual position', 'informal term for emphasis', 'confused or chaotic', 'foolish person', 'informal term for having been overwhelmed', 'informal term for emphasis', 'inappropriate behavior', 'offensive term for a person', 'foolish person', 'informal term for male genitalia', 'bothersome individuals', 'foolish behavior', 'male genitalia (plural)', 'informal term for masturbation', 'bothersome individual', 'bothersome individuals', 'troublesome individual', 'offensive term for a person', 'troublemakers', 'rear opening', 'offensive term for Black individuals', 'foolish individual', 'bothersome individual', 'bothersome individuals', 'bothersome individual', 'offensive term related to theft', 'informal term for a bothersome situation', 'troublesome individuals', 'bothersome individual', 'offensive term for a Black person', 'informal term for a Black person', 'bothersome individuals', 'bothersome individuals', 'foolish pranksters', 'foolish individual', 'troublesome individuals', 'informal term for emphasis', 'bothersome individuals', 'disrespectful term for oral activity', 'informal term for emphasis', 'offensive term for a moneylender', 'bothersome individual', 'informal term for individuals', 'informal term for something unpleasant', 'bothersome individual', 'informal term for an offensive reference', 'mistake or error', 'breasts', 'annoying individual', 'expression of personal experience', 'bothersome individual', 'offensive term for a person of Asian descent', 'bothersome individuals', 'informal term for skin', 'jerk', 'individual associated with a hate group', 'bothersome individual', 'mutual satisfaction', 'informal term for emphasis', 'complaining', 'derogatory term for a person', 'bodily fluid', 'informal term for engaging in masturbation', 'troublesome individual', 'expression of annoyance', 'troublesome individual', 'bothersome individuals', 'enthusiastic participant in oral activity', 'foolish person', 'informal term for frustration', 'derogatory term for women perceived as promiscuous', 'informal term for individuals engaging in inappropriate behavior', 'humorous reference to male bodily fluids', 'engaging in oral activity', 'informal term for engaging in masturbation', 'offensive term for Black individuals', 'offensive person', 'informal term for a woman', 'informal term for a Black individual', 'informal term for self-pleasure', 'troublesome people', 'informal term for Black individuals', 'informal term for feces', 'disrespectful term for individuals', 'bothersome individual', 'playful term for an individual', 'foolish or nonsensical', 'informal term for emphasis', 'offensive term for a person', 'released bodily fluid', 'informal term for male genitalia', 'informal term for a Black individual', 'bothersome individual', 'informal term for male genitalia', 'lacking undesirable qualities', 'bothersome individual', 'male genitalia', 'deceptive person', 'bothersome individual', 'playful term for a messy situation', 'playful term for a troublesome individual', 'unpleasant or spiteful', 'inappropriate behavior', 'bothersome individual', 'bothersome individuals', 'foolish individuals', 'to touch or poke', 'informal term for adult film actors', 'inappropriate term for self-pleasure', 'troublesome individual', 'excrement', 'offensive term for a Jewish person', 'informal term for a troublesome person', 'bothersome individual', 'inappropriate term for a person', 'bothersome individuals', 'offensive term for an Italian person (not recommended)', 'disrespectful term for a parent', 'foolish person', 'irritating individual', 'informal term for an exclamation of frustration', 'annoying or unpleasant behavior', 'annoying person', 'informal term for sexual activity (context-dependent)', 'bothersome individual', 'offensive term for a person', 'rear', 'informal term for female genitalia', 'bothersome individuals', 'informal term for oral activity', 'foolish individual', 'bothersome individual', 'engaging in a derogatory act', 'expression of frustration', 'informal term for a person', 'informal term for male genitalia', 'offensive term for a person (not recommended)', 'troublesome individual', 'bothersome individual', 'informal term for feces', 'inappropriate reference to anatomy', 'informal term for individuals who exploit children', 'disruptive behavior', 'bothersome individual', 'informal term for a troublesome individual', 'bothersome individuals', 'bothersome individuals']\n",
      "{'eval_loss': 4.871746063232422, 'eval_bleu': 0.0, 'eval_rouge1': 0.2765246212121213, 'eval_rouge2': 0.22499751984126976, 'eval_rougeL': 0.2771888528138528, 'eval_runtime': 5.8161, 'eval_samples_per_second': 55.02, 'eval_steps_per_second': 1.719, 'epoch': 2.0}\n",
      "{'loss': 4.5074, 'grad_norm': 2.8222479820251465, 'learning_rate': 4.5e-05, 'epoch': 4.0}\n"
     ]
    },
    {
     "data": {
      "application/vnd.jupyter.widget-view+json": {
       "model_id": "4b3d165195344388bf5cc1ee9c643d59",
       "version_major": 2,
       "version_minor": 0
      },
      "text/plain": [
       "  0%|          | 0/10 [00:00<?, ?it/s]"
      ]
     },
     "metadata": {},
     "output_type": "display_data"
    },
    {
     "name": "stdout",
     "output_type": "stream",
     "text": [
      "['informal term for bodily fluid', 'individuals who engage in self-pleasure', 'rude person', 'troublesome individual', 'informal term for a sexual position', 'informal term for an individual', 'rude individual', 'bothersome individual', 'offensive term for a violent act', 'humorous phrase for engaging in sexual activity', 'foolish individual', 'informal term for a Black individuals', 'bothersome individual', 'informal term for a Black person', 'male genitalia', 'informal term for being intoxicated or altered', 'bothersome individuals', 'foolish individual', 'humorous situation involving the toilet', 'Black individual', 'confused or chaotic', 'informal term for a boy with feminine traits', 'derogatory term for individuals', 'foolish individuals', 'informal term for male genitalia', 'punishment (historical context)', 'derogatory term for a woman', 'flamboyant individual', 'bothersome individual', 'derogatory term for a sexually active person', 'informal term for someone who is irritating', 'informal term for inappropriate behavior', 'inappropriate term for someone who engages in inappropriate actions with children', 'offensive term for an individual', 'bothersome individuals', 'bothersome individual', 'someone engaging in indulgent behavior (often drinking)', 'informal term for a foolish person', 'bothersome individual', 'bothersome individual', 'engage in self-pleasure', 'informal term for a promiscuous woman', 'expression of frustration', 'informal term for emphasis', 'troublesome individual', 'informal term for individuals', 'informal term for individuals', 'bothersome individual', 'informal term for someone engaging in inappropriate behavior', 'bothersome individuals', 'informal term for sexual activity', 'informal term for a person who attracts attention', 'bothersome individual', 'troublesome individuals', 'bothersome individual', 'inappropriate term for sexual activity', 'informal term for a foolish individual', 'informal term for emphasis', 'disrespectful term for oral activity', 'bothersome individual', 'bothersome individual', 'informal term for someone engaging in inappropriate behavior', 'informal term for female genitalia', 'bothersome individual', 'foolish individuals', 'inappropriate act', 'bothersome individual', 'chaotic situation', 'bothersome individual', 'informal term for a view of someone’s underwear', 'offensive term for a person (not recommended)', 'bothersome individual', 'offensive term for a person of Latin American descent', 'offensive term for a person of Latin American descent', 'offensive term for a person (not recommended)', 'bodily fluid', 'informal term for a person engaging in sexual activity', 'informal term for a sexual position', 'informal term for emphasis', 'informal term for a Black person', 'informal term for annoyance', 'derogatory term for a person', 'foolish individuals', 'informal term for a woman (often derogatory)', 'informal term for a flamboyant individual', 'bothersome individual', 'bothersome behavior', 'informal term for emphasis', 'bothersome individuals', 'adult toy', 'expression of frustration', 'troublesome individuals', 'foolish individuals', 'informal term for emphasis', 'extremely angry', 'individual who engages in sexual activity', 'troublesome individual', 'informal term for male genitalia', 'derogatory term for a woman', 'informal term for a Black individual', 'confused or chaotic', 'informal term for someone who acts obnoxiously', 'bothersome individuals', 'engaging in sexual activity', 'informal term for emphasis', 'silly term for an individual', 'offensive term for someone with disabilities', 'bothersome individuals', 'rude act', 'nonsense or foolishness', 'foolish person', 'silly person', 'informal term for male genitalia', 'derogatory term for a promiscuous woman', 'offensive term for a Japanese person', 'offensive term for a person of Asian descent', 'troublesome individuals', 'bothersome individual', 'expression of frustration', 'informal term for something of poor quality', 'derogatory term for a woman', 'foolish individual', 'bothersome individual', 'bothersome individual', 'informal term for inappropriate behavior', 'informal term for a Black woman', 'informal term for Black individual', 'informal term for male genitalia', 'bothersome individuals', 'troublesome person', 'foolish individual', 'alternative lifestyle practice', 'offensive term for a person (not recommended)', 'inappropriate term for an individual', 'adult toy', 'bothersome individual', 'informal term for a bothersome individual', 'informal term for female genitalia', 'engage in self-pleasure', 'foolish individuals', 'male genitalia (plural)', 'bothersome individual', 'offensive term for individuals', 'bothersome individual', 'informal term for testicles', 'informal term for something unpleasant', 'informal term used among friends', 'confused or chaotic', 'expression of frustration', 'offensive term for Black individuals', 'informal term for a scam artist', 'bothersome individuals', 'bothersome individual', 'male genitalia', 'informal term for an individual', 'offensive term for a person who engages in violence', 'inappropriate behavior', 'bothersome individual', 'bothersome individuals', 'informal variation of an inappropriate term', 'offensive term for a person (not recommended)', 'informal term for foolish individuals', 'bothersome individuals', 'informal term for emphasis', 'individual performing oral activity', 'bothersome individuals', 'disrespectful term for individuals', 'troublesome individuals', 'informal term for engaging in sexual activity', 'bothersome individual', 'resembling a difficult person', 'bothersome individual', 'humorous or awkward situation', 'sexual position', 'informal term for emphasis', 'confused or chaotic', 'foolish person', 'informal term for having been overwhelmed', 'informal term for emphasis', 'inappropriate behavior', 'offensive term for a person', 'foolish person', 'informal term for male genitalia', 'bothersome individuals', 'foolish behavior', 'male genitalia (plural)', 'informal term for masturbation', 'bothersome individual', 'bothersome individuals', 'troublesome individual', 'offensive term for a person', 'troublemakers', 'rear opening', 'offensive term for Black individuals', 'foolish individual', 'bothersome individual', 'bothersome individuals', 'bothersome individual', 'offensive term related to theft', 'informal term for a bothersome situation', 'troublesome individuals', 'bothersome individual', 'offensive term for a Black person', 'informal term for a Black person', 'bothersome individuals', 'bothersome individuals', 'foolish pranksters', 'foolish individual', 'troublesome individuals', 'informal term for emphasis', 'bothersome individuals', 'disrespectful term for oral activity', 'informal term for emphasis', 'offensive term for a moneylender', 'bothersome individual', 'informal term for individuals', 'informal term for something unpleasant', 'bothersome individual', 'informal term for an offensive reference', 'mistake or error', 'breasts', 'annoying individual', 'expression of personal experience', 'bothersome individual', 'offensive term for a person of Asian descent', 'bothersome individuals', 'informal term for skin', 'jerk', 'individual associated with a hate group', 'bothersome individual', 'mutual satisfaction', 'informal term for emphasis', 'complaining', 'derogatory term for a person', 'bodily fluid', 'informal term for engaging in masturbation', 'troublesome individual', 'expression of annoyance', 'troublesome individual', 'bothersome individuals', 'enthusiastic participant in oral activity', 'foolish person', 'informal term for frustration', 'derogatory term for women perceived as promiscuous', 'informal term for individuals engaging in inappropriate behavior', 'humorous reference to male bodily fluids', 'engaging in oral activity', 'informal term for engaging in masturbation', 'offensive term for Black individuals', 'offensive person', 'informal term for a woman', 'informal term for a Black individual', 'informal term for self-pleasure', 'troublesome people', 'informal term for Black individuals', 'informal term for feces', 'disrespectful term for individuals', 'bothersome individual', 'playful term for an individual', 'foolish or nonsensical', 'informal term for emphasis', 'offensive term for a person', 'released bodily fluid', 'informal term for male genitalia', 'informal term for a Black individual', 'bothersome individual', 'informal term for male genitalia', 'lacking undesirable qualities', 'bothersome individual', 'male genitalia', 'deceptive person', 'bothersome individual', 'playful term for a messy situation', 'playful term for a troublesome individual', 'unpleasant or spiteful', 'inappropriate behavior', 'bothersome individual', 'bothersome individuals', 'foolish individuals', 'to touch or poke', 'informal term for adult film actors', 'inappropriate term for self-pleasure', 'troublesome individual', 'excrement', 'offensive term for a Jewish person', 'informal term for a troublesome person', 'bothersome individual', 'inappropriate term for a person', 'bothersome individuals', 'offensive term for an Italian person (not recommended)', 'disrespectful term for a parent', 'foolish person', 'irritating individual', 'informal term for an exclamation of frustration', 'annoying or unpleasant behavior', 'annoying person', 'informal term for sexual activity (context-dependent)', 'bothersome individual', 'offensive term for a person', 'rear', 'informal term for female genitalia', 'bothersome individuals', 'informal term for oral activity', 'foolish individual', 'bothersome individual', 'engaging in a derogatory act', 'expression of frustration', 'informal term for a person', 'informal term for male genitalia', 'offensive term for a person (not recommended)', 'troublesome individual', 'bothersome individual', 'informal term for feces', 'inappropriate reference to anatomy', 'informal term for individuals who exploit children', 'disruptive behavior', 'bothersome individual', 'informal term for a troublesome individual', 'bothersome individuals', 'bothersome individuals']\n",
      "{'eval_loss': 3.7088897228240967, 'eval_bleu': 0.17152169101643108, 'eval_rouge1': 0.28192453379953386, 'eval_rouge2': 0.2214501037157286, 'eval_rougeL': 0.28330742174492174, 'eval_runtime': 7.8, 'eval_samples_per_second': 41.026, 'eval_steps_per_second': 1.282, 'epoch': 4.0}\n",
      "{'loss': 3.6006, 'grad_norm': 2.617061138153076, 'learning_rate': 4.25e-05, 'epoch': 6.0}\n"
     ]
    },
    {
     "data": {
      "application/vnd.jupyter.widget-view+json": {
       "model_id": "91493d00080945008e8d0289c3da9201",
       "version_major": 2,
       "version_minor": 0
      },
      "text/plain": [
       "  0%|          | 0/10 [00:00<?, ?it/s]"
      ]
     },
     "metadata": {},
     "output_type": "display_data"
    },
    {
     "name": "stdout",
     "output_type": "stream",
     "text": [
      "['informal term for bodily fluid', 'individuals who engage in self-pleasure', 'rude person', 'troublesome individual', 'informal term for a sexual position', 'informal term for an individual', 'rude individual', 'bothersome individual', 'offensive term for a violent act', 'humorous phrase for engaging in sexual activity', 'foolish individual', 'informal term for a Black individuals', 'bothersome individual', 'informal term for a Black person', 'male genitalia', 'informal term for being intoxicated or altered', 'bothersome individuals', 'foolish individual', 'humorous situation involving the toilet', 'Black individual', 'confused or chaotic', 'informal term for a boy with feminine traits', 'derogatory term for individuals', 'foolish individuals', 'informal term for male genitalia', 'punishment (historical context)', 'derogatory term for a woman', 'flamboyant individual', 'bothersome individual', 'derogatory term for a sexually active person', 'informal term for someone who is irritating', 'informal term for inappropriate behavior', 'inappropriate term for someone who engages in inappropriate actions with children', 'offensive term for an individual', 'bothersome individuals', 'bothersome individual', 'someone engaging in indulgent behavior (often drinking)', 'informal term for a foolish person', 'bothersome individual', 'bothersome individual', 'engage in self-pleasure', 'informal term for a promiscuous woman', 'expression of frustration', 'informal term for emphasis', 'troublesome individual', 'informal term for individuals', 'informal term for individuals', 'bothersome individual', 'informal term for someone engaging in inappropriate behavior', 'bothersome individuals', 'informal term for sexual activity', 'informal term for a person who attracts attention', 'bothersome individual', 'troublesome individuals', 'bothersome individual', 'inappropriate term for sexual activity', 'informal term for a foolish individual', 'informal term for emphasis', 'disrespectful term for oral activity', 'bothersome individual', 'bothersome individual', 'informal term for someone engaging in inappropriate behavior', 'informal term for female genitalia', 'bothersome individual', 'foolish individuals', 'inappropriate act', 'bothersome individual', 'chaotic situation', 'bothersome individual', 'informal term for a view of someone’s underwear', 'offensive term for a person (not recommended)', 'bothersome individual', 'offensive term for a person of Latin American descent', 'offensive term for a person of Latin American descent', 'offensive term for a person (not recommended)', 'bodily fluid', 'informal term for a person engaging in sexual activity', 'informal term for a sexual position', 'informal term for emphasis', 'informal term for a Black person', 'informal term for annoyance', 'derogatory term for a person', 'foolish individuals', 'informal term for a woman (often derogatory)', 'informal term for a flamboyant individual', 'bothersome individual', 'bothersome behavior', 'informal term for emphasis', 'bothersome individuals', 'adult toy', 'expression of frustration', 'troublesome individuals', 'foolish individuals', 'informal term for emphasis', 'extremely angry', 'individual who engages in sexual activity', 'troublesome individual', 'informal term for male genitalia', 'derogatory term for a woman', 'informal term for a Black individual', 'confused or chaotic', 'informal term for someone who acts obnoxiously', 'bothersome individuals', 'engaging in sexual activity', 'informal term for emphasis', 'silly term for an individual', 'offensive term for someone with disabilities', 'bothersome individuals', 'rude act', 'nonsense or foolishness', 'foolish person', 'silly person', 'informal term for male genitalia', 'derogatory term for a promiscuous woman', 'offensive term for a Japanese person', 'offensive term for a person of Asian descent', 'troublesome individuals', 'bothersome individual', 'expression of frustration', 'informal term for something of poor quality', 'derogatory term for a woman', 'foolish individual', 'bothersome individual', 'bothersome individual', 'informal term for inappropriate behavior', 'informal term for a Black woman', 'informal term for Black individual', 'informal term for male genitalia', 'bothersome individuals', 'troublesome person', 'foolish individual', 'alternative lifestyle practice', 'offensive term for a person (not recommended)', 'inappropriate term for an individual', 'adult toy', 'bothersome individual', 'informal term for a bothersome individual', 'informal term for female genitalia', 'engage in self-pleasure', 'foolish individuals', 'male genitalia (plural)', 'bothersome individual', 'offensive term for individuals', 'bothersome individual', 'informal term for testicles', 'informal term for something unpleasant', 'informal term used among friends', 'confused or chaotic', 'expression of frustration', 'offensive term for Black individuals', 'informal term for a scam artist', 'bothersome individuals', 'bothersome individual', 'male genitalia', 'informal term for an individual', 'offensive term for a person who engages in violence', 'inappropriate behavior', 'bothersome individual', 'bothersome individuals', 'informal variation of an inappropriate term', 'offensive term for a person (not recommended)', 'informal term for foolish individuals', 'bothersome individuals', 'informal term for emphasis', 'individual performing oral activity', 'bothersome individuals', 'disrespectful term for individuals', 'troublesome individuals', 'informal term for engaging in sexual activity', 'bothersome individual', 'resembling a difficult person', 'bothersome individual', 'humorous or awkward situation', 'sexual position', 'informal term for emphasis', 'confused or chaotic', 'foolish person', 'informal term for having been overwhelmed', 'informal term for emphasis', 'inappropriate behavior', 'offensive term for a person', 'foolish person', 'informal term for male genitalia', 'bothersome individuals', 'foolish behavior', 'male genitalia (plural)', 'informal term for masturbation', 'bothersome individual', 'bothersome individuals', 'troublesome individual', 'offensive term for a person', 'troublemakers', 'rear opening', 'offensive term for Black individuals', 'foolish individual', 'bothersome individual', 'bothersome individuals', 'bothersome individual', 'offensive term related to theft', 'informal term for a bothersome situation', 'troublesome individuals', 'bothersome individual', 'offensive term for a Black person', 'informal term for a Black person', 'bothersome individuals', 'bothersome individuals', 'foolish pranksters', 'foolish individual', 'troublesome individuals', 'informal term for emphasis', 'bothersome individuals', 'disrespectful term for oral activity', 'informal term for emphasis', 'offensive term for a moneylender', 'bothersome individual', 'informal term for individuals', 'informal term for something unpleasant', 'bothersome individual', 'informal term for an offensive reference', 'mistake or error', 'breasts', 'annoying individual', 'expression of personal experience', 'bothersome individual', 'offensive term for a person of Asian descent', 'bothersome individuals', 'informal term for skin', 'jerk', 'individual associated with a hate group', 'bothersome individual', 'mutual satisfaction', 'informal term for emphasis', 'complaining', 'derogatory term for a person', 'bodily fluid', 'informal term for engaging in masturbation', 'troublesome individual', 'expression of annoyance', 'troublesome individual', 'bothersome individuals', 'enthusiastic participant in oral activity', 'foolish person', 'informal term for frustration', 'derogatory term for women perceived as promiscuous', 'informal term for individuals engaging in inappropriate behavior', 'humorous reference to male bodily fluids', 'engaging in oral activity', 'informal term for engaging in masturbation', 'offensive term for Black individuals', 'offensive person', 'informal term for a woman', 'informal term for a Black individual', 'informal term for self-pleasure', 'troublesome people', 'informal term for Black individuals', 'informal term for feces', 'disrespectful term for individuals', 'bothersome individual', 'playful term for an individual', 'foolish or nonsensical', 'informal term for emphasis', 'offensive term for a person', 'released bodily fluid', 'informal term for male genitalia', 'informal term for a Black individual', 'bothersome individual', 'informal term for male genitalia', 'lacking undesirable qualities', 'bothersome individual', 'male genitalia', 'deceptive person', 'bothersome individual', 'playful term for a messy situation', 'playful term for a troublesome individual', 'unpleasant or spiteful', 'inappropriate behavior', 'bothersome individual', 'bothersome individuals', 'foolish individuals', 'to touch or poke', 'informal term for adult film actors', 'inappropriate term for self-pleasure', 'troublesome individual', 'excrement', 'offensive term for a Jewish person', 'informal term for a troublesome person', 'bothersome individual', 'inappropriate term for a person', 'bothersome individuals', 'offensive term for an Italian person (not recommended)', 'disrespectful term for a parent', 'foolish person', 'irritating individual', 'informal term for an exclamation of frustration', 'annoying or unpleasant behavior', 'annoying person', 'informal term for sexual activity (context-dependent)', 'bothersome individual', 'offensive term for a person', 'rear', 'informal term for female genitalia', 'bothersome individuals', 'informal term for oral activity', 'foolish individual', 'bothersome individual', 'engaging in a derogatory act', 'expression of frustration', 'informal term for a person', 'informal term for male genitalia', 'offensive term for a person (not recommended)', 'troublesome individual', 'bothersome individual', 'informal term for feces', 'inappropriate reference to anatomy', 'informal term for individuals who exploit children', 'disruptive behavior', 'bothersome individual', 'informal term for a troublesome individual', 'bothersome individuals', 'bothersome individuals']\n",
      "{'eval_loss': 2.9495503902435303, 'eval_bleu': 0.19879057430777447, 'eval_rouge1': 0.3227335858585859, 'eval_rouge2': 0.237274531024531, 'eval_rougeL': 0.3228849882756134, 'eval_runtime': 7.4981, 'eval_samples_per_second': 42.677, 'eval_steps_per_second': 1.334, 'epoch': 6.0}\n",
      "{'loss': 2.9328, 'grad_norm': 2.6035566329956055, 'learning_rate': 4e-05, 'epoch': 8.0}\n"
     ]
    },
    {
     "data": {
      "application/vnd.jupyter.widget-view+json": {
       "model_id": "5b35d05d77fd47d698e5a417de640942",
       "version_major": 2,
       "version_minor": 0
      },
      "text/plain": [
       "  0%|          | 0/10 [00:00<?, ?it/s]"
      ]
     },
     "metadata": {},
     "output_type": "display_data"
    },
    {
     "name": "stdout",
     "output_type": "stream",
     "text": [
      "['informal term for bodily fluid', 'individuals who engage in self-pleasure', 'rude person', 'troublesome individual', 'informal term for a sexual position', 'informal term for an individual', 'rude individual', 'bothersome individual', 'offensive term for a violent act', 'humorous phrase for engaging in sexual activity', 'foolish individual', 'informal term for a Black individuals', 'bothersome individual', 'informal term for a Black person', 'male genitalia', 'informal term for being intoxicated or altered', 'bothersome individuals', 'foolish individual', 'humorous situation involving the toilet', 'Black individual', 'confused or chaotic', 'informal term for a boy with feminine traits', 'derogatory term for individuals', 'foolish individuals', 'informal term for male genitalia', 'punishment (historical context)', 'derogatory term for a woman', 'flamboyant individual', 'bothersome individual', 'derogatory term for a sexually active person', 'informal term for someone who is irritating', 'informal term for inappropriate behavior', 'inappropriate term for someone who engages in inappropriate actions with children', 'offensive term for an individual', 'bothersome individuals', 'bothersome individual', 'someone engaging in indulgent behavior (often drinking)', 'informal term for a foolish person', 'bothersome individual', 'bothersome individual', 'engage in self-pleasure', 'informal term for a promiscuous woman', 'expression of frustration', 'informal term for emphasis', 'troublesome individual', 'informal term for individuals', 'informal term for individuals', 'bothersome individual', 'informal term for someone engaging in inappropriate behavior', 'bothersome individuals', 'informal term for sexual activity', 'informal term for a person who attracts attention', 'bothersome individual', 'troublesome individuals', 'bothersome individual', 'inappropriate term for sexual activity', 'informal term for a foolish individual', 'informal term for emphasis', 'disrespectful term for oral activity', 'bothersome individual', 'bothersome individual', 'informal term for someone engaging in inappropriate behavior', 'informal term for female genitalia', 'bothersome individual', 'foolish individuals', 'inappropriate act', 'bothersome individual', 'chaotic situation', 'bothersome individual', 'informal term for a view of someone’s underwear', 'offensive term for a person (not recommended)', 'bothersome individual', 'offensive term for a person of Latin American descent', 'offensive term for a person of Latin American descent', 'offensive term for a person (not recommended)', 'bodily fluid', 'informal term for a person engaging in sexual activity', 'informal term for a sexual position', 'informal term for emphasis', 'informal term for a Black person', 'informal term for annoyance', 'derogatory term for a person', 'foolish individuals', 'informal term for a woman (often derogatory)', 'informal term for a flamboyant individual', 'bothersome individual', 'bothersome behavior', 'informal term for emphasis', 'bothersome individuals', 'adult toy', 'expression of frustration', 'troublesome individuals', 'foolish individuals', 'informal term for emphasis', 'extremely angry', 'individual who engages in sexual activity', 'troublesome individual', 'informal term for male genitalia', 'derogatory term for a woman', 'informal term for a Black individual', 'confused or chaotic', 'informal term for someone who acts obnoxiously', 'bothersome individuals', 'engaging in sexual activity', 'informal term for emphasis', 'silly term for an individual', 'offensive term for someone with disabilities', 'bothersome individuals', 'rude act', 'nonsense or foolishness', 'foolish person', 'silly person', 'informal term for male genitalia', 'derogatory term for a promiscuous woman', 'offensive term for a Japanese person', 'offensive term for a person of Asian descent', 'troublesome individuals', 'bothersome individual', 'expression of frustration', 'informal term for something of poor quality', 'derogatory term for a woman', 'foolish individual', 'bothersome individual', 'bothersome individual', 'informal term for inappropriate behavior', 'informal term for a Black woman', 'informal term for Black individual', 'informal term for male genitalia', 'bothersome individuals', 'troublesome person', 'foolish individual', 'alternative lifestyle practice', 'offensive term for a person (not recommended)', 'inappropriate term for an individual', 'adult toy', 'bothersome individual', 'informal term for a bothersome individual', 'informal term for female genitalia', 'engage in self-pleasure', 'foolish individuals', 'male genitalia (plural)', 'bothersome individual', 'offensive term for individuals', 'bothersome individual', 'informal term for testicles', 'informal term for something unpleasant', 'informal term used among friends', 'confused or chaotic', 'expression of frustration', 'offensive term for Black individuals', 'informal term for a scam artist', 'bothersome individuals', 'bothersome individual', 'male genitalia', 'informal term for an individual', 'offensive term for a person who engages in violence', 'inappropriate behavior', 'bothersome individual', 'bothersome individuals', 'informal variation of an inappropriate term', 'offensive term for a person (not recommended)', 'informal term for foolish individuals', 'bothersome individuals', 'informal term for emphasis', 'individual performing oral activity', 'bothersome individuals', 'disrespectful term for individuals', 'troublesome individuals', 'informal term for engaging in sexual activity', 'bothersome individual', 'resembling a difficult person', 'bothersome individual', 'humorous or awkward situation', 'sexual position', 'informal term for emphasis', 'confused or chaotic', 'foolish person', 'informal term for having been overwhelmed', 'informal term for emphasis', 'inappropriate behavior', 'offensive term for a person', 'foolish person', 'informal term for male genitalia', 'bothersome individuals', 'foolish behavior', 'male genitalia (plural)', 'informal term for masturbation', 'bothersome individual', 'bothersome individuals', 'troublesome individual', 'offensive term for a person', 'troublemakers', 'rear opening', 'offensive term for Black individuals', 'foolish individual', 'bothersome individual', 'bothersome individuals', 'bothersome individual', 'offensive term related to theft', 'informal term for a bothersome situation', 'troublesome individuals', 'bothersome individual', 'offensive term for a Black person', 'informal term for a Black person', 'bothersome individuals', 'bothersome individuals', 'foolish pranksters', 'foolish individual', 'troublesome individuals', 'informal term for emphasis', 'bothersome individuals', 'disrespectful term for oral activity', 'informal term for emphasis', 'offensive term for a moneylender', 'bothersome individual', 'informal term for individuals', 'informal term for something unpleasant', 'bothersome individual', 'informal term for an offensive reference', 'mistake or error', 'breasts', 'annoying individual', 'expression of personal experience', 'bothersome individual', 'offensive term for a person of Asian descent', 'bothersome individuals', 'informal term for skin', 'jerk', 'individual associated with a hate group', 'bothersome individual', 'mutual satisfaction', 'informal term for emphasis', 'complaining', 'derogatory term for a person', 'bodily fluid', 'informal term for engaging in masturbation', 'troublesome individual', 'expression of annoyance', 'troublesome individual', 'bothersome individuals', 'enthusiastic participant in oral activity', 'foolish person', 'informal term for frustration', 'derogatory term for women perceived as promiscuous', 'informal term for individuals engaging in inappropriate behavior', 'humorous reference to male bodily fluids', 'engaging in oral activity', 'informal term for engaging in masturbation', 'offensive term for Black individuals', 'offensive person', 'informal term for a woman', 'informal term for a Black individual', 'informal term for self-pleasure', 'troublesome people', 'informal term for Black individuals', 'informal term for feces', 'disrespectful term for individuals', 'bothersome individual', 'playful term for an individual', 'foolish or nonsensical', 'informal term for emphasis', 'offensive term for a person', 'released bodily fluid', 'informal term for male genitalia', 'informal term for a Black individual', 'bothersome individual', 'informal term for male genitalia', 'lacking undesirable qualities', 'bothersome individual', 'male genitalia', 'deceptive person', 'bothersome individual', 'playful term for a messy situation', 'playful term for a troublesome individual', 'unpleasant or spiteful', 'inappropriate behavior', 'bothersome individual', 'bothersome individuals', 'foolish individuals', 'to touch or poke', 'informal term for adult film actors', 'inappropriate term for self-pleasure', 'troublesome individual', 'excrement', 'offensive term for a Jewish person', 'informal term for a troublesome person', 'bothersome individual', 'inappropriate term for a person', 'bothersome individuals', 'offensive term for an Italian person (not recommended)', 'disrespectful term for a parent', 'foolish person', 'irritating individual', 'informal term for an exclamation of frustration', 'annoying or unpleasant behavior', 'annoying person', 'informal term for sexual activity (context-dependent)', 'bothersome individual', 'offensive term for a person', 'rear', 'informal term for female genitalia', 'bothersome individuals', 'informal term for oral activity', 'foolish individual', 'bothersome individual', 'engaging in a derogatory act', 'expression of frustration', 'informal term for a person', 'informal term for male genitalia', 'offensive term for a person (not recommended)', 'troublesome individual', 'bothersome individual', 'informal term for feces', 'inappropriate reference to anatomy', 'informal term for individuals who exploit children', 'disruptive behavior', 'bothersome individual', 'informal term for a troublesome individual', 'bothersome individuals', 'bothersome individuals']\n",
      "{'eval_loss': 2.5783519744873047, 'eval_bleu': 0.18321137374591134, 'eval_rouge1': 0.3340504103739398, 'eval_rouge2': 0.25870174096736587, 'eval_rougeL': 0.3336715072101103, 'eval_runtime': 6.7139, 'eval_samples_per_second': 47.663, 'eval_steps_per_second': 1.489, 'epoch': 8.0}\n",
      "{'loss': 2.502, 'grad_norm': 2.321011781692505, 'learning_rate': 3.7500000000000003e-05, 'epoch': 10.0}\n"
     ]
    },
    {
     "data": {
      "application/vnd.jupyter.widget-view+json": {
       "model_id": "e70704f47916419dabd4772e81b493f6",
       "version_major": 2,
       "version_minor": 0
      },
      "text/plain": [
       "  0%|          | 0/10 [00:00<?, ?it/s]"
      ]
     },
     "metadata": {},
     "output_type": "display_data"
    },
    {
     "name": "stdout",
     "output_type": "stream",
     "text": [
      "['informal term for bodily fluid', 'individuals who engage in self-pleasure', 'rude person', 'troublesome individual', 'informal term for a sexual position', 'informal term for an individual', 'rude individual', 'bothersome individual', 'offensive term for a violent act', 'humorous phrase for engaging in sexual activity', 'foolish individual', 'informal term for a Black individuals', 'bothersome individual', 'informal term for a Black person', 'male genitalia', 'informal term for being intoxicated or altered', 'bothersome individuals', 'foolish individual', 'humorous situation involving the toilet', 'Black individual', 'confused or chaotic', 'informal term for a boy with feminine traits', 'derogatory term for individuals', 'foolish individuals', 'informal term for male genitalia', 'punishment (historical context)', 'derogatory term for a woman', 'flamboyant individual', 'bothersome individual', 'derogatory term for a sexually active person', 'informal term for someone who is irritating', 'informal term for inappropriate behavior', 'inappropriate term for someone who engages in inappropriate actions with children', 'offensive term for an individual', 'bothersome individuals', 'bothersome individual', 'someone engaging in indulgent behavior (often drinking)', 'informal term for a foolish person', 'bothersome individual', 'bothersome individual', 'engage in self-pleasure', 'informal term for a promiscuous woman', 'expression of frustration', 'informal term for emphasis', 'troublesome individual', 'informal term for individuals', 'informal term for individuals', 'bothersome individual', 'informal term for someone engaging in inappropriate behavior', 'bothersome individuals', 'informal term for sexual activity', 'informal term for a person who attracts attention', 'bothersome individual', 'troublesome individuals', 'bothersome individual', 'inappropriate term for sexual activity', 'informal term for a foolish individual', 'informal term for emphasis', 'disrespectful term for oral activity', 'bothersome individual', 'bothersome individual', 'informal term for someone engaging in inappropriate behavior', 'informal term for female genitalia', 'bothersome individual', 'foolish individuals', 'inappropriate act', 'bothersome individual', 'chaotic situation', 'bothersome individual', 'informal term for a view of someone’s underwear', 'offensive term for a person (not recommended)', 'bothersome individual', 'offensive term for a person of Latin American descent', 'offensive term for a person of Latin American descent', 'offensive term for a person (not recommended)', 'bodily fluid', 'informal term for a person engaging in sexual activity', 'informal term for a sexual position', 'informal term for emphasis', 'informal term for a Black person', 'informal term for annoyance', 'derogatory term for a person', 'foolish individuals', 'informal term for a woman (often derogatory)', 'informal term for a flamboyant individual', 'bothersome individual', 'bothersome behavior', 'informal term for emphasis', 'bothersome individuals', 'adult toy', 'expression of frustration', 'troublesome individuals', 'foolish individuals', 'informal term for emphasis', 'extremely angry', 'individual who engages in sexual activity', 'troublesome individual', 'informal term for male genitalia', 'derogatory term for a woman', 'informal term for a Black individual', 'confused or chaotic', 'informal term for someone who acts obnoxiously', 'bothersome individuals', 'engaging in sexual activity', 'informal term for emphasis', 'silly term for an individual', 'offensive term for someone with disabilities', 'bothersome individuals', 'rude act', 'nonsense or foolishness', 'foolish person', 'silly person', 'informal term for male genitalia', 'derogatory term for a promiscuous woman', 'offensive term for a Japanese person', 'offensive term for a person of Asian descent', 'troublesome individuals', 'bothersome individual', 'expression of frustration', 'informal term for something of poor quality', 'derogatory term for a woman', 'foolish individual', 'bothersome individual', 'bothersome individual', 'informal term for inappropriate behavior', 'informal term for a Black woman', 'informal term for Black individual', 'informal term for male genitalia', 'bothersome individuals', 'troublesome person', 'foolish individual', 'alternative lifestyle practice', 'offensive term for a person (not recommended)', 'inappropriate term for an individual', 'adult toy', 'bothersome individual', 'informal term for a bothersome individual', 'informal term for female genitalia', 'engage in self-pleasure', 'foolish individuals', 'male genitalia (plural)', 'bothersome individual', 'offensive term for individuals', 'bothersome individual', 'informal term for testicles', 'informal term for something unpleasant', 'informal term used among friends', 'confused or chaotic', 'expression of frustration', 'offensive term for Black individuals', 'informal term for a scam artist', 'bothersome individuals', 'bothersome individual', 'male genitalia', 'informal term for an individual', 'offensive term for a person who engages in violence', 'inappropriate behavior', 'bothersome individual', 'bothersome individuals', 'informal variation of an inappropriate term', 'offensive term for a person (not recommended)', 'informal term for foolish individuals', 'bothersome individuals', 'informal term for emphasis', 'individual performing oral activity', 'bothersome individuals', 'disrespectful term for individuals', 'troublesome individuals', 'informal term for engaging in sexual activity', 'bothersome individual', 'resembling a difficult person', 'bothersome individual', 'humorous or awkward situation', 'sexual position', 'informal term for emphasis', 'confused or chaotic', 'foolish person', 'informal term for having been overwhelmed', 'informal term for emphasis', 'inappropriate behavior', 'offensive term for a person', 'foolish person', 'informal term for male genitalia', 'bothersome individuals', 'foolish behavior', 'male genitalia (plural)', 'informal term for masturbation', 'bothersome individual', 'bothersome individuals', 'troublesome individual', 'offensive term for a person', 'troublemakers', 'rear opening', 'offensive term for Black individuals', 'foolish individual', 'bothersome individual', 'bothersome individuals', 'bothersome individual', 'offensive term related to theft', 'informal term for a bothersome situation', 'troublesome individuals', 'bothersome individual', 'offensive term for a Black person', 'informal term for a Black person', 'bothersome individuals', 'bothersome individuals', 'foolish pranksters', 'foolish individual', 'troublesome individuals', 'informal term for emphasis', 'bothersome individuals', 'disrespectful term for oral activity', 'informal term for emphasis', 'offensive term for a moneylender', 'bothersome individual', 'informal term for individuals', 'informal term for something unpleasant', 'bothersome individual', 'informal term for an offensive reference', 'mistake or error', 'breasts', 'annoying individual', 'expression of personal experience', 'bothersome individual', 'offensive term for a person of Asian descent', 'bothersome individuals', 'informal term for skin', 'jerk', 'individual associated with a hate group', 'bothersome individual', 'mutual satisfaction', 'informal term for emphasis', 'complaining', 'derogatory term for a person', 'bodily fluid', 'informal term for engaging in masturbation', 'troublesome individual', 'expression of annoyance', 'troublesome individual', 'bothersome individuals', 'enthusiastic participant in oral activity', 'foolish person', 'informal term for frustration', 'derogatory term for women perceived as promiscuous', 'informal term for individuals engaging in inappropriate behavior', 'humorous reference to male bodily fluids', 'engaging in oral activity', 'informal term for engaging in masturbation', 'offensive term for Black individuals', 'offensive person', 'informal term for a woman', 'informal term for a Black individual', 'informal term for self-pleasure', 'troublesome people', 'informal term for Black individuals', 'informal term for feces', 'disrespectful term for individuals', 'bothersome individual', 'playful term for an individual', 'foolish or nonsensical', 'informal term for emphasis', 'offensive term for a person', 'released bodily fluid', 'informal term for male genitalia', 'informal term for a Black individual', 'bothersome individual', 'informal term for male genitalia', 'lacking undesirable qualities', 'bothersome individual', 'male genitalia', 'deceptive person', 'bothersome individual', 'playful term for a messy situation', 'playful term for a troublesome individual', 'unpleasant or spiteful', 'inappropriate behavior', 'bothersome individual', 'bothersome individuals', 'foolish individuals', 'to touch or poke', 'informal term for adult film actors', 'inappropriate term for self-pleasure', 'troublesome individual', 'excrement', 'offensive term for a Jewish person', 'informal term for a troublesome person', 'bothersome individual', 'inappropriate term for a person', 'bothersome individuals', 'offensive term for an Italian person (not recommended)', 'disrespectful term for a parent', 'foolish person', 'irritating individual', 'informal term for an exclamation of frustration', 'annoying or unpleasant behavior', 'annoying person', 'informal term for sexual activity (context-dependent)', 'bothersome individual', 'offensive term for a person', 'rear', 'informal term for female genitalia', 'bothersome individuals', 'informal term for oral activity', 'foolish individual', 'bothersome individual', 'engaging in a derogatory act', 'expression of frustration', 'informal term for a person', 'informal term for male genitalia', 'offensive term for a person (not recommended)', 'troublesome individual', 'bothersome individual', 'informal term for feces', 'inappropriate reference to anatomy', 'informal term for individuals who exploit children', 'disruptive behavior', 'bothersome individual', 'informal term for a troublesome individual', 'bothersome individuals', 'bothersome individuals']\n",
      "{'eval_loss': 2.314530611038208, 'eval_bleu': 0.1639792088000171, 'eval_rouge1': 0.33120271221833736, 'eval_rouge2': 0.2467299280580531, 'eval_rougeL': 0.32987898386335895, 'eval_runtime': 8.5865, 'eval_samples_per_second': 37.268, 'eval_steps_per_second': 1.165, 'epoch': 10.0}\n",
      "{'loss': 2.2191, 'grad_norm': 2.0800416469573975, 'learning_rate': 3.5e-05, 'epoch': 12.0}\n"
     ]
    },
    {
     "data": {
      "application/vnd.jupyter.widget-view+json": {
       "model_id": "dbf09ca7e7c44f3a85c1f5946ce40b18",
       "version_major": 2,
       "version_minor": 0
      },
      "text/plain": [
       "  0%|          | 0/10 [00:00<?, ?it/s]"
      ]
     },
     "metadata": {},
     "output_type": "display_data"
    },
    {
     "name": "stdout",
     "output_type": "stream",
     "text": [
      "['informal term for bodily fluid', 'individuals who engage in self-pleasure', 'rude person', 'troublesome individual', 'informal term for a sexual position', 'informal term for an individual', 'rude individual', 'bothersome individual', 'offensive term for a violent act', 'humorous phrase for engaging in sexual activity', 'foolish individual', 'informal term for a Black individuals', 'bothersome individual', 'informal term for a Black person', 'male genitalia', 'informal term for being intoxicated or altered', 'bothersome individuals', 'foolish individual', 'humorous situation involving the toilet', 'Black individual', 'confused or chaotic', 'informal term for a boy with feminine traits', 'derogatory term for individuals', 'foolish individuals', 'informal term for male genitalia', 'punishment (historical context)', 'derogatory term for a woman', 'flamboyant individual', 'bothersome individual', 'derogatory term for a sexually active person', 'informal term for someone who is irritating', 'informal term for inappropriate behavior', 'inappropriate term for someone who engages in inappropriate actions with children', 'offensive term for an individual', 'bothersome individuals', 'bothersome individual', 'someone engaging in indulgent behavior (often drinking)', 'informal term for a foolish person', 'bothersome individual', 'bothersome individual', 'engage in self-pleasure', 'informal term for a promiscuous woman', 'expression of frustration', 'informal term for emphasis', 'troublesome individual', 'informal term for individuals', 'informal term for individuals', 'bothersome individual', 'informal term for someone engaging in inappropriate behavior', 'bothersome individuals', 'informal term for sexual activity', 'informal term for a person who attracts attention', 'bothersome individual', 'troublesome individuals', 'bothersome individual', 'inappropriate term for sexual activity', 'informal term for a foolish individual', 'informal term for emphasis', 'disrespectful term for oral activity', 'bothersome individual', 'bothersome individual', 'informal term for someone engaging in inappropriate behavior', 'informal term for female genitalia', 'bothersome individual', 'foolish individuals', 'inappropriate act', 'bothersome individual', 'chaotic situation', 'bothersome individual', 'informal term for a view of someone’s underwear', 'offensive term for a person (not recommended)', 'bothersome individual', 'offensive term for a person of Latin American descent', 'offensive term for a person of Latin American descent', 'offensive term for a person (not recommended)', 'bodily fluid', 'informal term for a person engaging in sexual activity', 'informal term for a sexual position', 'informal term for emphasis', 'informal term for a Black person', 'informal term for annoyance', 'derogatory term for a person', 'foolish individuals', 'informal term for a woman (often derogatory)', 'informal term for a flamboyant individual', 'bothersome individual', 'bothersome behavior', 'informal term for emphasis', 'bothersome individuals', 'adult toy', 'expression of frustration', 'troublesome individuals', 'foolish individuals', 'informal term for emphasis', 'extremely angry', 'individual who engages in sexual activity', 'troublesome individual', 'informal term for male genitalia', 'derogatory term for a woman', 'informal term for a Black individual', 'confused or chaotic', 'informal term for someone who acts obnoxiously', 'bothersome individuals', 'engaging in sexual activity', 'informal term for emphasis', 'silly term for an individual', 'offensive term for someone with disabilities', 'bothersome individuals', 'rude act', 'nonsense or foolishness', 'foolish person', 'silly person', 'informal term for male genitalia', 'derogatory term for a promiscuous woman', 'offensive term for a Japanese person', 'offensive term for a person of Asian descent', 'troublesome individuals', 'bothersome individual', 'expression of frustration', 'informal term for something of poor quality', 'derogatory term for a woman', 'foolish individual', 'bothersome individual', 'bothersome individual', 'informal term for inappropriate behavior', 'informal term for a Black woman', 'informal term for Black individual', 'informal term for male genitalia', 'bothersome individuals', 'troublesome person', 'foolish individual', 'alternative lifestyle practice', 'offensive term for a person (not recommended)', 'inappropriate term for an individual', 'adult toy', 'bothersome individual', 'informal term for a bothersome individual', 'informal term for female genitalia', 'engage in self-pleasure', 'foolish individuals', 'male genitalia (plural)', 'bothersome individual', 'offensive term for individuals', 'bothersome individual', 'informal term for testicles', 'informal term for something unpleasant', 'informal term used among friends', 'confused or chaotic', 'expression of frustration', 'offensive term for Black individuals', 'informal term for a scam artist', 'bothersome individuals', 'bothersome individual', 'male genitalia', 'informal term for an individual', 'offensive term for a person who engages in violence', 'inappropriate behavior', 'bothersome individual', 'bothersome individuals', 'informal variation of an inappropriate term', 'offensive term for a person (not recommended)', 'informal term for foolish individuals', 'bothersome individuals', 'informal term for emphasis', 'individual performing oral activity', 'bothersome individuals', 'disrespectful term for individuals', 'troublesome individuals', 'informal term for engaging in sexual activity', 'bothersome individual', 'resembling a difficult person', 'bothersome individual', 'humorous or awkward situation', 'sexual position', 'informal term for emphasis', 'confused or chaotic', 'foolish person', 'informal term for having been overwhelmed', 'informal term for emphasis', 'inappropriate behavior', 'offensive term for a person', 'foolish person', 'informal term for male genitalia', 'bothersome individuals', 'foolish behavior', 'male genitalia (plural)', 'informal term for masturbation', 'bothersome individual', 'bothersome individuals', 'troublesome individual', 'offensive term for a person', 'troublemakers', 'rear opening', 'offensive term for Black individuals', 'foolish individual', 'bothersome individual', 'bothersome individuals', 'bothersome individual', 'offensive term related to theft', 'informal term for a bothersome situation', 'troublesome individuals', 'bothersome individual', 'offensive term for a Black person', 'informal term for a Black person', 'bothersome individuals', 'bothersome individuals', 'foolish pranksters', 'foolish individual', 'troublesome individuals', 'informal term for emphasis', 'bothersome individuals', 'disrespectful term for oral activity', 'informal term for emphasis', 'offensive term for a moneylender', 'bothersome individual', 'informal term for individuals', 'informal term for something unpleasant', 'bothersome individual', 'informal term for an offensive reference', 'mistake or error', 'breasts', 'annoying individual', 'expression of personal experience', 'bothersome individual', 'offensive term for a person of Asian descent', 'bothersome individuals', 'informal term for skin', 'jerk', 'individual associated with a hate group', 'bothersome individual', 'mutual satisfaction', 'informal term for emphasis', 'complaining', 'derogatory term for a person', 'bodily fluid', 'informal term for engaging in masturbation', 'troublesome individual', 'expression of annoyance', 'troublesome individual', 'bothersome individuals', 'enthusiastic participant in oral activity', 'foolish person', 'informal term for frustration', 'derogatory term for women perceived as promiscuous', 'informal term for individuals engaging in inappropriate behavior', 'humorous reference to male bodily fluids', 'engaging in oral activity', 'informal term for engaging in masturbation', 'offensive term for Black individuals', 'offensive person', 'informal term for a woman', 'informal term for a Black individual', 'informal term for self-pleasure', 'troublesome people', 'informal term for Black individuals', 'informal term for feces', 'disrespectful term for individuals', 'bothersome individual', 'playful term for an individual', 'foolish or nonsensical', 'informal term for emphasis', 'offensive term for a person', 'released bodily fluid', 'informal term for male genitalia', 'informal term for a Black individual', 'bothersome individual', 'informal term for male genitalia', 'lacking undesirable qualities', 'bothersome individual', 'male genitalia', 'deceptive person', 'bothersome individual', 'playful term for a messy situation', 'playful term for a troublesome individual', 'unpleasant or spiteful', 'inappropriate behavior', 'bothersome individual', 'bothersome individuals', 'foolish individuals', 'to touch or poke', 'informal term for adult film actors', 'inappropriate term for self-pleasure', 'troublesome individual', 'excrement', 'offensive term for a Jewish person', 'informal term for a troublesome person', 'bothersome individual', 'inappropriate term for a person', 'bothersome individuals', 'offensive term for an Italian person (not recommended)', 'disrespectful term for a parent', 'foolish person', 'irritating individual', 'informal term for an exclamation of frustration', 'annoying or unpleasant behavior', 'annoying person', 'informal term for sexual activity (context-dependent)', 'bothersome individual', 'offensive term for a person', 'rear', 'informal term for female genitalia', 'bothersome individuals', 'informal term for oral activity', 'foolish individual', 'bothersome individual', 'engaging in a derogatory act', 'expression of frustration', 'informal term for a person', 'informal term for male genitalia', 'offensive term for a person (not recommended)', 'troublesome individual', 'bothersome individual', 'informal term for feces', 'inappropriate reference to anatomy', 'informal term for individuals who exploit children', 'disruptive behavior', 'bothersome individual', 'informal term for a troublesome individual', 'bothersome individuals', 'bothersome individuals']\n",
      "{'eval_loss': 2.170567750930786, 'eval_bleu': 0.19411168329998743, 'eval_rouge1': 0.3441920232545234, 'eval_rouge2': 0.2588678075396824, 'eval_rougeL': 0.3441015841797094, 'eval_runtime': 8.9042, 'eval_samples_per_second': 35.938, 'eval_steps_per_second': 1.123, 'epoch': 12.0}\n",
      "{'loss': 1.9848, 'grad_norm': 1.7963893413543701, 'learning_rate': 3.2500000000000004e-05, 'epoch': 14.0}\n"
     ]
    },
    {
     "data": {
      "application/vnd.jupyter.widget-view+json": {
       "model_id": "a9c469740c4c499193828668a4f3eed5",
       "version_major": 2,
       "version_minor": 0
      },
      "text/plain": [
       "  0%|          | 0/10 [00:00<?, ?it/s]"
      ]
     },
     "metadata": {},
     "output_type": "display_data"
    },
    {
     "name": "stdout",
     "output_type": "stream",
     "text": [
      "['informal term for bodily fluid', 'individuals who engage in self-pleasure', 'rude person', 'troublesome individual', 'informal term for a sexual position', 'informal term for an individual', 'rude individual', 'bothersome individual', 'offensive term for a violent act', 'humorous phrase for engaging in sexual activity', 'foolish individual', 'informal term for a Black individuals', 'bothersome individual', 'informal term for a Black person', 'male genitalia', 'informal term for being intoxicated or altered', 'bothersome individuals', 'foolish individual', 'humorous situation involving the toilet', 'Black individual', 'confused or chaotic', 'informal term for a boy with feminine traits', 'derogatory term for individuals', 'foolish individuals', 'informal term for male genitalia', 'punishment (historical context)', 'derogatory term for a woman', 'flamboyant individual', 'bothersome individual', 'derogatory term for a sexually active person', 'informal term for someone who is irritating', 'informal term for inappropriate behavior', 'inappropriate term for someone who engages in inappropriate actions with children', 'offensive term for an individual', 'bothersome individuals', 'bothersome individual', 'someone engaging in indulgent behavior (often drinking)', 'informal term for a foolish person', 'bothersome individual', 'bothersome individual', 'engage in self-pleasure', 'informal term for a promiscuous woman', 'expression of frustration', 'informal term for emphasis', 'troublesome individual', 'informal term for individuals', 'informal term for individuals', 'bothersome individual', 'informal term for someone engaging in inappropriate behavior', 'bothersome individuals', 'informal term for sexual activity', 'informal term for a person who attracts attention', 'bothersome individual', 'troublesome individuals', 'bothersome individual', 'inappropriate term for sexual activity', 'informal term for a foolish individual', 'informal term for emphasis', 'disrespectful term for oral activity', 'bothersome individual', 'bothersome individual', 'informal term for someone engaging in inappropriate behavior', 'informal term for female genitalia', 'bothersome individual', 'foolish individuals', 'inappropriate act', 'bothersome individual', 'chaotic situation', 'bothersome individual', 'informal term for a view of someone’s underwear', 'offensive term for a person (not recommended)', 'bothersome individual', 'offensive term for a person of Latin American descent', 'offensive term for a person of Latin American descent', 'offensive term for a person (not recommended)', 'bodily fluid', 'informal term for a person engaging in sexual activity', 'informal term for a sexual position', 'informal term for emphasis', 'informal term for a Black person', 'informal term for annoyance', 'derogatory term for a person', 'foolish individuals', 'informal term for a woman (often derogatory)', 'informal term for a flamboyant individual', 'bothersome individual', 'bothersome behavior', 'informal term for emphasis', 'bothersome individuals', 'adult toy', 'expression of frustration', 'troublesome individuals', 'foolish individuals', 'informal term for emphasis', 'extremely angry', 'individual who engages in sexual activity', 'troublesome individual', 'informal term for male genitalia', 'derogatory term for a woman', 'informal term for a Black individual', 'confused or chaotic', 'informal term for someone who acts obnoxiously', 'bothersome individuals', 'engaging in sexual activity', 'informal term for emphasis', 'silly term for an individual', 'offensive term for someone with disabilities', 'bothersome individuals', 'rude act', 'nonsense or foolishness', 'foolish person', 'silly person', 'informal term for male genitalia', 'derogatory term for a promiscuous woman', 'offensive term for a Japanese person', 'offensive term for a person of Asian descent', 'troublesome individuals', 'bothersome individual', 'expression of frustration', 'informal term for something of poor quality', 'derogatory term for a woman', 'foolish individual', 'bothersome individual', 'bothersome individual', 'informal term for inappropriate behavior', 'informal term for a Black woman', 'informal term for Black individual', 'informal term for male genitalia', 'bothersome individuals', 'troublesome person', 'foolish individual', 'alternative lifestyle practice', 'offensive term for a person (not recommended)', 'inappropriate term for an individual', 'adult toy', 'bothersome individual', 'informal term for a bothersome individual', 'informal term for female genitalia', 'engage in self-pleasure', 'foolish individuals', 'male genitalia (plural)', 'bothersome individual', 'offensive term for individuals', 'bothersome individual', 'informal term for testicles', 'informal term for something unpleasant', 'informal term used among friends', 'confused or chaotic', 'expression of frustration', 'offensive term for Black individuals', 'informal term for a scam artist', 'bothersome individuals', 'bothersome individual', 'male genitalia', 'informal term for an individual', 'offensive term for a person who engages in violence', 'inappropriate behavior', 'bothersome individual', 'bothersome individuals', 'informal variation of an inappropriate term', 'offensive term for a person (not recommended)', 'informal term for foolish individuals', 'bothersome individuals', 'informal term for emphasis', 'individual performing oral activity', 'bothersome individuals', 'disrespectful term for individuals', 'troublesome individuals', 'informal term for engaging in sexual activity', 'bothersome individual', 'resembling a difficult person', 'bothersome individual', 'humorous or awkward situation', 'sexual position', 'informal term for emphasis', 'confused or chaotic', 'foolish person', 'informal term for having been overwhelmed', 'informal term for emphasis', 'inappropriate behavior', 'offensive term for a person', 'foolish person', 'informal term for male genitalia', 'bothersome individuals', 'foolish behavior', 'male genitalia (plural)', 'informal term for masturbation', 'bothersome individual', 'bothersome individuals', 'troublesome individual', 'offensive term for a person', 'troublemakers', 'rear opening', 'offensive term for Black individuals', 'foolish individual', 'bothersome individual', 'bothersome individuals', 'bothersome individual', 'offensive term related to theft', 'informal term for a bothersome situation', 'troublesome individuals', 'bothersome individual', 'offensive term for a Black person', 'informal term for a Black person', 'bothersome individuals', 'bothersome individuals', 'foolish pranksters', 'foolish individual', 'troublesome individuals', 'informal term for emphasis', 'bothersome individuals', 'disrespectful term for oral activity', 'informal term for emphasis', 'offensive term for a moneylender', 'bothersome individual', 'informal term for individuals', 'informal term for something unpleasant', 'bothersome individual', 'informal term for an offensive reference', 'mistake or error', 'breasts', 'annoying individual', 'expression of personal experience', 'bothersome individual', 'offensive term for a person of Asian descent', 'bothersome individuals', 'informal term for skin', 'jerk', 'individual associated with a hate group', 'bothersome individual', 'mutual satisfaction', 'informal term for emphasis', 'complaining', 'derogatory term for a person', 'bodily fluid', 'informal term for engaging in masturbation', 'troublesome individual', 'expression of annoyance', 'troublesome individual', 'bothersome individuals', 'enthusiastic participant in oral activity', 'foolish person', 'informal term for frustration', 'derogatory term for women perceived as promiscuous', 'informal term for individuals engaging in inappropriate behavior', 'humorous reference to male bodily fluids', 'engaging in oral activity', 'informal term for engaging in masturbation', 'offensive term for Black individuals', 'offensive person', 'informal term for a woman', 'informal term for a Black individual', 'informal term for self-pleasure', 'troublesome people', 'informal term for Black individuals', 'informal term for feces', 'disrespectful term for individuals', 'bothersome individual', 'playful term for an individual', 'foolish or nonsensical', 'informal term for emphasis', 'offensive term for a person', 'released bodily fluid', 'informal term for male genitalia', 'informal term for a Black individual', 'bothersome individual', 'informal term for male genitalia', 'lacking undesirable qualities', 'bothersome individual', 'male genitalia', 'deceptive person', 'bothersome individual', 'playful term for a messy situation', 'playful term for a troublesome individual', 'unpleasant or spiteful', 'inappropriate behavior', 'bothersome individual', 'bothersome individuals', 'foolish individuals', 'to touch or poke', 'informal term for adult film actors', 'inappropriate term for self-pleasure', 'troublesome individual', 'excrement', 'offensive term for a Jewish person', 'informal term for a troublesome person', 'bothersome individual', 'inappropriate term for a person', 'bothersome individuals', 'offensive term for an Italian person (not recommended)', 'disrespectful term for a parent', 'foolish person', 'irritating individual', 'informal term for an exclamation of frustration', 'annoying or unpleasant behavior', 'annoying person', 'informal term for sexual activity (context-dependent)', 'bothersome individual', 'offensive term for a person', 'rear', 'informal term for female genitalia', 'bothersome individuals', 'informal term for oral activity', 'foolish individual', 'bothersome individual', 'engaging in a derogatory act', 'expression of frustration', 'informal term for a person', 'informal term for male genitalia', 'offensive term for a person (not recommended)', 'troublesome individual', 'bothersome individual', 'informal term for feces', 'inappropriate reference to anatomy', 'informal term for individuals who exploit children', 'disruptive behavior', 'bothersome individual', 'informal term for a troublesome individual', 'bothersome individuals', 'bothersome individuals']\n",
      "{'eval_loss': 2.0635368824005127, 'eval_bleu': 0.20950689392634675, 'eval_rouge1': 0.3521220966533468, 'eval_rouge2': 0.27030765241702737, 'eval_rougeL': 0.35195720945720965, 'eval_runtime': 7.4921, 'eval_samples_per_second': 42.712, 'eval_steps_per_second': 1.335, 'epoch': 14.0}\n",
      "{'loss': 1.8281, 'grad_norm': 1.9181101322174072, 'learning_rate': 3e-05, 'epoch': 16.0}\n"
     ]
    },
    {
     "data": {
      "application/vnd.jupyter.widget-view+json": {
       "model_id": "1ebbfd7d8bfe428ea6e7332c77b8cb60",
       "version_major": 2,
       "version_minor": 0
      },
      "text/plain": [
       "  0%|          | 0/10 [00:00<?, ?it/s]"
      ]
     },
     "metadata": {},
     "output_type": "display_data"
    },
    {
     "name": "stdout",
     "output_type": "stream",
     "text": [
      "['informal term for bodily fluid', 'individuals who engage in self-pleasure', 'rude person', 'troublesome individual', 'informal term for a sexual position', 'informal term for an individual', 'rude individual', 'bothersome individual', 'offensive term for a violent act', 'humorous phrase for engaging in sexual activity', 'foolish individual', 'informal term for a Black individuals', 'bothersome individual', 'informal term for a Black person', 'male genitalia', 'informal term for being intoxicated or altered', 'bothersome individuals', 'foolish individual', 'humorous situation involving the toilet', 'Black individual', 'confused or chaotic', 'informal term for a boy with feminine traits', 'derogatory term for individuals', 'foolish individuals', 'informal term for male genitalia', 'punishment (historical context)', 'derogatory term for a woman', 'flamboyant individual', 'bothersome individual', 'derogatory term for a sexually active person', 'informal term for someone who is irritating', 'informal term for inappropriate behavior', 'inappropriate term for someone who engages in inappropriate actions with children', 'offensive term for an individual', 'bothersome individuals', 'bothersome individual', 'someone engaging in indulgent behavior (often drinking)', 'informal term for a foolish person', 'bothersome individual', 'bothersome individual', 'engage in self-pleasure', 'informal term for a promiscuous woman', 'expression of frustration', 'informal term for emphasis', 'troublesome individual', 'informal term for individuals', 'informal term for individuals', 'bothersome individual', 'informal term for someone engaging in inappropriate behavior', 'bothersome individuals', 'informal term for sexual activity', 'informal term for a person who attracts attention', 'bothersome individual', 'troublesome individuals', 'bothersome individual', 'inappropriate term for sexual activity', 'informal term for a foolish individual', 'informal term for emphasis', 'disrespectful term for oral activity', 'bothersome individual', 'bothersome individual', 'informal term for someone engaging in inappropriate behavior', 'informal term for female genitalia', 'bothersome individual', 'foolish individuals', 'inappropriate act', 'bothersome individual', 'chaotic situation', 'bothersome individual', 'informal term for a view of someone’s underwear', 'offensive term for a person (not recommended)', 'bothersome individual', 'offensive term for a person of Latin American descent', 'offensive term for a person of Latin American descent', 'offensive term for a person (not recommended)', 'bodily fluid', 'informal term for a person engaging in sexual activity', 'informal term for a sexual position', 'informal term for emphasis', 'informal term for a Black person', 'informal term for annoyance', 'derogatory term for a person', 'foolish individuals', 'informal term for a woman (often derogatory)', 'informal term for a flamboyant individual', 'bothersome individual', 'bothersome behavior', 'informal term for emphasis', 'bothersome individuals', 'adult toy', 'expression of frustration', 'troublesome individuals', 'foolish individuals', 'informal term for emphasis', 'extremely angry', 'individual who engages in sexual activity', 'troublesome individual', 'informal term for male genitalia', 'derogatory term for a woman', 'informal term for a Black individual', 'confused or chaotic', 'informal term for someone who acts obnoxiously', 'bothersome individuals', 'engaging in sexual activity', 'informal term for emphasis', 'silly term for an individual', 'offensive term for someone with disabilities', 'bothersome individuals', 'rude act', 'nonsense or foolishness', 'foolish person', 'silly person', 'informal term for male genitalia', 'derogatory term for a promiscuous woman', 'offensive term for a Japanese person', 'offensive term for a person of Asian descent', 'troublesome individuals', 'bothersome individual', 'expression of frustration', 'informal term for something of poor quality', 'derogatory term for a woman', 'foolish individual', 'bothersome individual', 'bothersome individual', 'informal term for inappropriate behavior', 'informal term for a Black woman', 'informal term for Black individual', 'informal term for male genitalia', 'bothersome individuals', 'troublesome person', 'foolish individual', 'alternative lifestyle practice', 'offensive term for a person (not recommended)', 'inappropriate term for an individual', 'adult toy', 'bothersome individual', 'informal term for a bothersome individual', 'informal term for female genitalia', 'engage in self-pleasure', 'foolish individuals', 'male genitalia (plural)', 'bothersome individual', 'offensive term for individuals', 'bothersome individual', 'informal term for testicles', 'informal term for something unpleasant', 'informal term used among friends', 'confused or chaotic', 'expression of frustration', 'offensive term for Black individuals', 'informal term for a scam artist', 'bothersome individuals', 'bothersome individual', 'male genitalia', 'informal term for an individual', 'offensive term for a person who engages in violence', 'inappropriate behavior', 'bothersome individual', 'bothersome individuals', 'informal variation of an inappropriate term', 'offensive term for a person (not recommended)', 'informal term for foolish individuals', 'bothersome individuals', 'informal term for emphasis', 'individual performing oral activity', 'bothersome individuals', 'disrespectful term for individuals', 'troublesome individuals', 'informal term for engaging in sexual activity', 'bothersome individual', 'resembling a difficult person', 'bothersome individual', 'humorous or awkward situation', 'sexual position', 'informal term for emphasis', 'confused or chaotic', 'foolish person', 'informal term for having been overwhelmed', 'informal term for emphasis', 'inappropriate behavior', 'offensive term for a person', 'foolish person', 'informal term for male genitalia', 'bothersome individuals', 'foolish behavior', 'male genitalia (plural)', 'informal term for masturbation', 'bothersome individual', 'bothersome individuals', 'troublesome individual', 'offensive term for a person', 'troublemakers', 'rear opening', 'offensive term for Black individuals', 'foolish individual', 'bothersome individual', 'bothersome individuals', 'bothersome individual', 'offensive term related to theft', 'informal term for a bothersome situation', 'troublesome individuals', 'bothersome individual', 'offensive term for a Black person', 'informal term for a Black person', 'bothersome individuals', 'bothersome individuals', 'foolish pranksters', 'foolish individual', 'troublesome individuals', 'informal term for emphasis', 'bothersome individuals', 'disrespectful term for oral activity', 'informal term for emphasis', 'offensive term for a moneylender', 'bothersome individual', 'informal term for individuals', 'informal term for something unpleasant', 'bothersome individual', 'informal term for an offensive reference', 'mistake or error', 'breasts', 'annoying individual', 'expression of personal experience', 'bothersome individual', 'offensive term for a person of Asian descent', 'bothersome individuals', 'informal term for skin', 'jerk', 'individual associated with a hate group', 'bothersome individual', 'mutual satisfaction', 'informal term for emphasis', 'complaining', 'derogatory term for a person', 'bodily fluid', 'informal term for engaging in masturbation', 'troublesome individual', 'expression of annoyance', 'troublesome individual', 'bothersome individuals', 'enthusiastic participant in oral activity', 'foolish person', 'informal term for frustration', 'derogatory term for women perceived as promiscuous', 'informal term for individuals engaging in inappropriate behavior', 'humorous reference to male bodily fluids', 'engaging in oral activity', 'informal term for engaging in masturbation', 'offensive term for Black individuals', 'offensive person', 'informal term for a woman', 'informal term for a Black individual', 'informal term for self-pleasure', 'troublesome people', 'informal term for Black individuals', 'informal term for feces', 'disrespectful term for individuals', 'bothersome individual', 'playful term for an individual', 'foolish or nonsensical', 'informal term for emphasis', 'offensive term for a person', 'released bodily fluid', 'informal term for male genitalia', 'informal term for a Black individual', 'bothersome individual', 'informal term for male genitalia', 'lacking undesirable qualities', 'bothersome individual', 'male genitalia', 'deceptive person', 'bothersome individual', 'playful term for a messy situation', 'playful term for a troublesome individual', 'unpleasant or spiteful', 'inappropriate behavior', 'bothersome individual', 'bothersome individuals', 'foolish individuals', 'to touch or poke', 'informal term for adult film actors', 'inappropriate term for self-pleasure', 'troublesome individual', 'excrement', 'offensive term for a Jewish person', 'informal term for a troublesome person', 'bothersome individual', 'inappropriate term for a person', 'bothersome individuals', 'offensive term for an Italian person (not recommended)', 'disrespectful term for a parent', 'foolish person', 'irritating individual', 'informal term for an exclamation of frustration', 'annoying or unpleasant behavior', 'annoying person', 'informal term for sexual activity (context-dependent)', 'bothersome individual', 'offensive term for a person', 'rear', 'informal term for female genitalia', 'bothersome individuals', 'informal term for oral activity', 'foolish individual', 'bothersome individual', 'engaging in a derogatory act', 'expression of frustration', 'informal term for a person', 'informal term for male genitalia', 'offensive term for a person (not recommended)', 'troublesome individual', 'bothersome individual', 'informal term for feces', 'inappropriate reference to anatomy', 'informal term for individuals who exploit children', 'disruptive behavior', 'bothersome individual', 'informal term for a troublesome individual', 'bothersome individuals', 'bothersome individuals']\n",
      "{'eval_loss': 1.9867490530014038, 'eval_bleu': 0.20030053060824873, 'eval_rouge1': 0.40630621114996124, 'eval_rouge2': 0.31015487984237977, 'eval_rougeL': 0.4054180368242869, 'eval_runtime': 9.3615, 'eval_samples_per_second': 34.183, 'eval_steps_per_second': 1.068, 'epoch': 16.0}\n",
      "{'loss': 1.6928, 'grad_norm': 2.0032243728637695, 'learning_rate': 2.7500000000000004e-05, 'epoch': 18.0}\n"
     ]
    },
    {
     "data": {
      "application/vnd.jupyter.widget-view+json": {
       "model_id": "863cf83017f74d39be484a610f5fbde1",
       "version_major": 2,
       "version_minor": 0
      },
      "text/plain": [
       "  0%|          | 0/10 [00:00<?, ?it/s]"
      ]
     },
     "metadata": {},
     "output_type": "display_data"
    },
    {
     "name": "stdout",
     "output_type": "stream",
     "text": [
      "['informal term for bodily fluid', 'individuals who engage in self-pleasure', 'rude person', 'troublesome individual', 'informal term for a sexual position', 'informal term for an individual', 'rude individual', 'bothersome individual', 'offensive term for a violent act', 'humorous phrase for engaging in sexual activity', 'foolish individual', 'informal term for a Black individuals', 'bothersome individual', 'informal term for a Black person', 'male genitalia', 'informal term for being intoxicated or altered', 'bothersome individuals', 'foolish individual', 'humorous situation involving the toilet', 'Black individual', 'confused or chaotic', 'informal term for a boy with feminine traits', 'derogatory term for individuals', 'foolish individuals', 'informal term for male genitalia', 'punishment (historical context)', 'derogatory term for a woman', 'flamboyant individual', 'bothersome individual', 'derogatory term for a sexually active person', 'informal term for someone who is irritating', 'informal term for inappropriate behavior', 'inappropriate term for someone who engages in inappropriate actions with children', 'offensive term for an individual', 'bothersome individuals', 'bothersome individual', 'someone engaging in indulgent behavior (often drinking)', 'informal term for a foolish person', 'bothersome individual', 'bothersome individual', 'engage in self-pleasure', 'informal term for a promiscuous woman', 'expression of frustration', 'informal term for emphasis', 'troublesome individual', 'informal term for individuals', 'informal term for individuals', 'bothersome individual', 'informal term for someone engaging in inappropriate behavior', 'bothersome individuals', 'informal term for sexual activity', 'informal term for a person who attracts attention', 'bothersome individual', 'troublesome individuals', 'bothersome individual', 'inappropriate term for sexual activity', 'informal term for a foolish individual', 'informal term for emphasis', 'disrespectful term for oral activity', 'bothersome individual', 'bothersome individual', 'informal term for someone engaging in inappropriate behavior', 'informal term for female genitalia', 'bothersome individual', 'foolish individuals', 'inappropriate act', 'bothersome individual', 'chaotic situation', 'bothersome individual', 'informal term for a view of someone’s underwear', 'offensive term for a person (not recommended)', 'bothersome individual', 'offensive term for a person of Latin American descent', 'offensive term for a person of Latin American descent', 'offensive term for a person (not recommended)', 'bodily fluid', 'informal term for a person engaging in sexual activity', 'informal term for a sexual position', 'informal term for emphasis', 'informal term for a Black person', 'informal term for annoyance', 'derogatory term for a person', 'foolish individuals', 'informal term for a woman (often derogatory)', 'informal term for a flamboyant individual', 'bothersome individual', 'bothersome behavior', 'informal term for emphasis', 'bothersome individuals', 'adult toy', 'expression of frustration', 'troublesome individuals', 'foolish individuals', 'informal term for emphasis', 'extremely angry', 'individual who engages in sexual activity', 'troublesome individual', 'informal term for male genitalia', 'derogatory term for a woman', 'informal term for a Black individual', 'confused or chaotic', 'informal term for someone who acts obnoxiously', 'bothersome individuals', 'engaging in sexual activity', 'informal term for emphasis', 'silly term for an individual', 'offensive term for someone with disabilities', 'bothersome individuals', 'rude act', 'nonsense or foolishness', 'foolish person', 'silly person', 'informal term for male genitalia', 'derogatory term for a promiscuous woman', 'offensive term for a Japanese person', 'offensive term for a person of Asian descent', 'troublesome individuals', 'bothersome individual', 'expression of frustration', 'informal term for something of poor quality', 'derogatory term for a woman', 'foolish individual', 'bothersome individual', 'bothersome individual', 'informal term for inappropriate behavior', 'informal term for a Black woman', 'informal term for Black individual', 'informal term for male genitalia', 'bothersome individuals', 'troublesome person', 'foolish individual', 'alternative lifestyle practice', 'offensive term for a person (not recommended)', 'inappropriate term for an individual', 'adult toy', 'bothersome individual', 'informal term for a bothersome individual', 'informal term for female genitalia', 'engage in self-pleasure', 'foolish individuals', 'male genitalia (plural)', 'bothersome individual', 'offensive term for individuals', 'bothersome individual', 'informal term for testicles', 'informal term for something unpleasant', 'informal term used among friends', 'confused or chaotic', 'expression of frustration', 'offensive term for Black individuals', 'informal term for a scam artist', 'bothersome individuals', 'bothersome individual', 'male genitalia', 'informal term for an individual', 'offensive term for a person who engages in violence', 'inappropriate behavior', 'bothersome individual', 'bothersome individuals', 'informal variation of an inappropriate term', 'offensive term for a person (not recommended)', 'informal term for foolish individuals', 'bothersome individuals', 'informal term for emphasis', 'individual performing oral activity', 'bothersome individuals', 'disrespectful term for individuals', 'troublesome individuals', 'informal term for engaging in sexual activity', 'bothersome individual', 'resembling a difficult person', 'bothersome individual', 'humorous or awkward situation', 'sexual position', 'informal term for emphasis', 'confused or chaotic', 'foolish person', 'informal term for having been overwhelmed', 'informal term for emphasis', 'inappropriate behavior', 'offensive term for a person', 'foolish person', 'informal term for male genitalia', 'bothersome individuals', 'foolish behavior', 'male genitalia (plural)', 'informal term for masturbation', 'bothersome individual', 'bothersome individuals', 'troublesome individual', 'offensive term for a person', 'troublemakers', 'rear opening', 'offensive term for Black individuals', 'foolish individual', 'bothersome individual', 'bothersome individuals', 'bothersome individual', 'offensive term related to theft', 'informal term for a bothersome situation', 'troublesome individuals', 'bothersome individual', 'offensive term for a Black person', 'informal term for a Black person', 'bothersome individuals', 'bothersome individuals', 'foolish pranksters', 'foolish individual', 'troublesome individuals', 'informal term for emphasis', 'bothersome individuals', 'disrespectful term for oral activity', 'informal term for emphasis', 'offensive term for a moneylender', 'bothersome individual', 'informal term for individuals', 'informal term for something unpleasant', 'bothersome individual', 'informal term for an offensive reference', 'mistake or error', 'breasts', 'annoying individual', 'expression of personal experience', 'bothersome individual', 'offensive term for a person of Asian descent', 'bothersome individuals', 'informal term for skin', 'jerk', 'individual associated with a hate group', 'bothersome individual', 'mutual satisfaction', 'informal term for emphasis', 'complaining', 'derogatory term for a person', 'bodily fluid', 'informal term for engaging in masturbation', 'troublesome individual', 'expression of annoyance', 'troublesome individual', 'bothersome individuals', 'enthusiastic participant in oral activity', 'foolish person', 'informal term for frustration', 'derogatory term for women perceived as promiscuous', 'informal term for individuals engaging in inappropriate behavior', 'humorous reference to male bodily fluids', 'engaging in oral activity', 'informal term for engaging in masturbation', 'offensive term for Black individuals', 'offensive person', 'informal term for a woman', 'informal term for a Black individual', 'informal term for self-pleasure', 'troublesome people', 'informal term for Black individuals', 'informal term for feces', 'disrespectful term for individuals', 'bothersome individual', 'playful term for an individual', 'foolish or nonsensical', 'informal term for emphasis', 'offensive term for a person', 'released bodily fluid', 'informal term for male genitalia', 'informal term for a Black individual', 'bothersome individual', 'informal term for male genitalia', 'lacking undesirable qualities', 'bothersome individual', 'male genitalia', 'deceptive person', 'bothersome individual', 'playful term for a messy situation', 'playful term for a troublesome individual', 'unpleasant or spiteful', 'inappropriate behavior', 'bothersome individual', 'bothersome individuals', 'foolish individuals', 'to touch or poke', 'informal term for adult film actors', 'inappropriate term for self-pleasure', 'troublesome individual', 'excrement', 'offensive term for a Jewish person', 'informal term for a troublesome person', 'bothersome individual', 'inappropriate term for a person', 'bothersome individuals', 'offensive term for an Italian person (not recommended)', 'disrespectful term for a parent', 'foolish person', 'irritating individual', 'informal term for an exclamation of frustration', 'annoying or unpleasant behavior', 'annoying person', 'informal term for sexual activity (context-dependent)', 'bothersome individual', 'offensive term for a person', 'rear', 'informal term for female genitalia', 'bothersome individuals', 'informal term for oral activity', 'foolish individual', 'bothersome individual', 'engaging in a derogatory act', 'expression of frustration', 'informal term for a person', 'informal term for male genitalia', 'offensive term for a person (not recommended)', 'troublesome individual', 'bothersome individual', 'informal term for feces', 'inappropriate reference to anatomy', 'informal term for individuals who exploit children', 'disruptive behavior', 'bothersome individual', 'informal term for a troublesome individual', 'bothersome individuals', 'bothersome individuals']\n",
      "{'eval_loss': 1.9478012323379517, 'eval_bleu': 0.22373627842677465, 'eval_rouge1': 0.4095216502247754, 'eval_rouge2': 0.3144477831196581, 'eval_rougeL': 0.4094831383893885, 'eval_runtime': 10.2886, 'eval_samples_per_second': 31.102, 'eval_steps_per_second': 0.972, 'epoch': 18.0}\n",
      "{'loss': 1.5814, 'grad_norm': 2.182417869567871, 'learning_rate': 2.5e-05, 'epoch': 20.0}\n"
     ]
    },
    {
     "data": {
      "application/vnd.jupyter.widget-view+json": {
       "model_id": "5f80e2babe7e4d76b34e867396e868f2",
       "version_major": 2,
       "version_minor": 0
      },
      "text/plain": [
       "  0%|          | 0/10 [00:00<?, ?it/s]"
      ]
     },
     "metadata": {},
     "output_type": "display_data"
    },
    {
     "name": "stdout",
     "output_type": "stream",
     "text": [
      "['informal term for bodily fluid', 'individuals who engage in self-pleasure', 'rude person', 'troublesome individual', 'informal term for a sexual position', 'informal term for an individual', 'rude individual', 'bothersome individual', 'offensive term for a violent act', 'humorous phrase for engaging in sexual activity', 'foolish individual', 'informal term for a Black individuals', 'bothersome individual', 'informal term for a Black person', 'male genitalia', 'informal term for being intoxicated or altered', 'bothersome individuals', 'foolish individual', 'humorous situation involving the toilet', 'Black individual', 'confused or chaotic', 'informal term for a boy with feminine traits', 'derogatory term for individuals', 'foolish individuals', 'informal term for male genitalia', 'punishment (historical context)', 'derogatory term for a woman', 'flamboyant individual', 'bothersome individual', 'derogatory term for a sexually active person', 'informal term for someone who is irritating', 'informal term for inappropriate behavior', 'inappropriate term for someone who engages in inappropriate actions with children', 'offensive term for an individual', 'bothersome individuals', 'bothersome individual', 'someone engaging in indulgent behavior (often drinking)', 'informal term for a foolish person', 'bothersome individual', 'bothersome individual', 'engage in self-pleasure', 'informal term for a promiscuous woman', 'expression of frustration', 'informal term for emphasis', 'troublesome individual', 'informal term for individuals', 'informal term for individuals', 'bothersome individual', 'informal term for someone engaging in inappropriate behavior', 'bothersome individuals', 'informal term for sexual activity', 'informal term for a person who attracts attention', 'bothersome individual', 'troublesome individuals', 'bothersome individual', 'inappropriate term for sexual activity', 'informal term for a foolish individual', 'informal term for emphasis', 'disrespectful term for oral activity', 'bothersome individual', 'bothersome individual', 'informal term for someone engaging in inappropriate behavior', 'informal term for female genitalia', 'bothersome individual', 'foolish individuals', 'inappropriate act', 'bothersome individual', 'chaotic situation', 'bothersome individual', 'informal term for a view of someone’s underwear', 'offensive term for a person (not recommended)', 'bothersome individual', 'offensive term for a person of Latin American descent', 'offensive term for a person of Latin American descent', 'offensive term for a person (not recommended)', 'bodily fluid', 'informal term for a person engaging in sexual activity', 'informal term for a sexual position', 'informal term for emphasis', 'informal term for a Black person', 'informal term for annoyance', 'derogatory term for a person', 'foolish individuals', 'informal term for a woman (often derogatory)', 'informal term for a flamboyant individual', 'bothersome individual', 'bothersome behavior', 'informal term for emphasis', 'bothersome individuals', 'adult toy', 'expression of frustration', 'troublesome individuals', 'foolish individuals', 'informal term for emphasis', 'extremely angry', 'individual who engages in sexual activity', 'troublesome individual', 'informal term for male genitalia', 'derogatory term for a woman', 'informal term for a Black individual', 'confused or chaotic', 'informal term for someone who acts obnoxiously', 'bothersome individuals', 'engaging in sexual activity', 'informal term for emphasis', 'silly term for an individual', 'offensive term for someone with disabilities', 'bothersome individuals', 'rude act', 'nonsense or foolishness', 'foolish person', 'silly person', 'informal term for male genitalia', 'derogatory term for a promiscuous woman', 'offensive term for a Japanese person', 'offensive term for a person of Asian descent', 'troublesome individuals', 'bothersome individual', 'expression of frustration', 'informal term for something of poor quality', 'derogatory term for a woman', 'foolish individual', 'bothersome individual', 'bothersome individual', 'informal term for inappropriate behavior', 'informal term for a Black woman', 'informal term for Black individual', 'informal term for male genitalia', 'bothersome individuals', 'troublesome person', 'foolish individual', 'alternative lifestyle practice', 'offensive term for a person (not recommended)', 'inappropriate term for an individual', 'adult toy', 'bothersome individual', 'informal term for a bothersome individual', 'informal term for female genitalia', 'engage in self-pleasure', 'foolish individuals', 'male genitalia (plural)', 'bothersome individual', 'offensive term for individuals', 'bothersome individual', 'informal term for testicles', 'informal term for something unpleasant', 'informal term used among friends', 'confused or chaotic', 'expression of frustration', 'offensive term for Black individuals', 'informal term for a scam artist', 'bothersome individuals', 'bothersome individual', 'male genitalia', 'informal term for an individual', 'offensive term for a person who engages in violence', 'inappropriate behavior', 'bothersome individual', 'bothersome individuals', 'informal variation of an inappropriate term', 'offensive term for a person (not recommended)', 'informal term for foolish individuals', 'bothersome individuals', 'informal term for emphasis', 'individual performing oral activity', 'bothersome individuals', 'disrespectful term for individuals', 'troublesome individuals', 'informal term for engaging in sexual activity', 'bothersome individual', 'resembling a difficult person', 'bothersome individual', 'humorous or awkward situation', 'sexual position', 'informal term for emphasis', 'confused or chaotic', 'foolish person', 'informal term for having been overwhelmed', 'informal term for emphasis', 'inappropriate behavior', 'offensive term for a person', 'foolish person', 'informal term for male genitalia', 'bothersome individuals', 'foolish behavior', 'male genitalia (plural)', 'informal term for masturbation', 'bothersome individual', 'bothersome individuals', 'troublesome individual', 'offensive term for a person', 'troublemakers', 'rear opening', 'offensive term for Black individuals', 'foolish individual', 'bothersome individual', 'bothersome individuals', 'bothersome individual', 'offensive term related to theft', 'informal term for a bothersome situation', 'troublesome individuals', 'bothersome individual', 'offensive term for a Black person', 'informal term for a Black person', 'bothersome individuals', 'bothersome individuals', 'foolish pranksters', 'foolish individual', 'troublesome individuals', 'informal term for emphasis', 'bothersome individuals', 'disrespectful term for oral activity', 'informal term for emphasis', 'offensive term for a moneylender', 'bothersome individual', 'informal term for individuals', 'informal term for something unpleasant', 'bothersome individual', 'informal term for an offensive reference', 'mistake or error', 'breasts', 'annoying individual', 'expression of personal experience', 'bothersome individual', 'offensive term for a person of Asian descent', 'bothersome individuals', 'informal term for skin', 'jerk', 'individual associated with a hate group', 'bothersome individual', 'mutual satisfaction', 'informal term for emphasis', 'complaining', 'derogatory term for a person', 'bodily fluid', 'informal term for engaging in masturbation', 'troublesome individual', 'expression of annoyance', 'troublesome individual', 'bothersome individuals', 'enthusiastic participant in oral activity', 'foolish person', 'informal term for frustration', 'derogatory term for women perceived as promiscuous', 'informal term for individuals engaging in inappropriate behavior', 'humorous reference to male bodily fluids', 'engaging in oral activity', 'informal term for engaging in masturbation', 'offensive term for Black individuals', 'offensive person', 'informal term for a woman', 'informal term for a Black individual', 'informal term for self-pleasure', 'troublesome people', 'informal term for Black individuals', 'informal term for feces', 'disrespectful term for individuals', 'bothersome individual', 'playful term for an individual', 'foolish or nonsensical', 'informal term for emphasis', 'offensive term for a person', 'released bodily fluid', 'informal term for male genitalia', 'informal term for a Black individual', 'bothersome individual', 'informal term for male genitalia', 'lacking undesirable qualities', 'bothersome individual', 'male genitalia', 'deceptive person', 'bothersome individual', 'playful term for a messy situation', 'playful term for a troublesome individual', 'unpleasant or spiteful', 'inappropriate behavior', 'bothersome individual', 'bothersome individuals', 'foolish individuals', 'to touch or poke', 'informal term for adult film actors', 'inappropriate term for self-pleasure', 'troublesome individual', 'excrement', 'offensive term for a Jewish person', 'informal term for a troublesome person', 'bothersome individual', 'inappropriate term for a person', 'bothersome individuals', 'offensive term for an Italian person (not recommended)', 'disrespectful term for a parent', 'foolish person', 'irritating individual', 'informal term for an exclamation of frustration', 'annoying or unpleasant behavior', 'annoying person', 'informal term for sexual activity (context-dependent)', 'bothersome individual', 'offensive term for a person', 'rear', 'informal term for female genitalia', 'bothersome individuals', 'informal term for oral activity', 'foolish individual', 'bothersome individual', 'engaging in a derogatory act', 'expression of frustration', 'informal term for a person', 'informal term for male genitalia', 'offensive term for a person (not recommended)', 'troublesome individual', 'bothersome individual', 'informal term for feces', 'inappropriate reference to anatomy', 'informal term for individuals who exploit children', 'disruptive behavior', 'bothersome individual', 'informal term for a troublesome individual', 'bothersome individuals', 'bothersome individuals']\n",
      "{'eval_loss': 1.9021151065826416, 'eval_bleu': 0.2563003472315272, 'eval_rouge1': 0.43065925394050397, 'eval_rouge2': 0.3469595508658008, 'eval_rougeL': 0.4324230803918304, 'eval_runtime': 8.5008, 'eval_samples_per_second': 37.644, 'eval_steps_per_second': 1.176, 'epoch': 20.0}\n",
      "{'loss': 1.4882, 'grad_norm': 2.152951240539551, 'learning_rate': 2.25e-05, 'epoch': 22.0}\n"
     ]
    },
    {
     "data": {
      "application/vnd.jupyter.widget-view+json": {
       "model_id": "3637901598e64015aadcc269d0c91892",
       "version_major": 2,
       "version_minor": 0
      },
      "text/plain": [
       "  0%|          | 0/10 [00:00<?, ?it/s]"
      ]
     },
     "metadata": {},
     "output_type": "display_data"
    },
    {
     "name": "stdout",
     "output_type": "stream",
     "text": [
      "['informal term for bodily fluid', 'individuals who engage in self-pleasure', 'rude person', 'troublesome individual', 'informal term for a sexual position', 'informal term for an individual', 'rude individual', 'bothersome individual', 'offensive term for a violent act', 'humorous phrase for engaging in sexual activity', 'foolish individual', 'informal term for a Black individuals', 'bothersome individual', 'informal term for a Black person', 'male genitalia', 'informal term for being intoxicated or altered', 'bothersome individuals', 'foolish individual', 'humorous situation involving the toilet', 'Black individual', 'confused or chaotic', 'informal term for a boy with feminine traits', 'derogatory term for individuals', 'foolish individuals', 'informal term for male genitalia', 'punishment (historical context)', 'derogatory term for a woman', 'flamboyant individual', 'bothersome individual', 'derogatory term for a sexually active person', 'informal term for someone who is irritating', 'informal term for inappropriate behavior', 'inappropriate term for someone who engages in inappropriate actions with children', 'offensive term for an individual', 'bothersome individuals', 'bothersome individual', 'someone engaging in indulgent behavior (often drinking)', 'informal term for a foolish person', 'bothersome individual', 'bothersome individual', 'engage in self-pleasure', 'informal term for a promiscuous woman', 'expression of frustration', 'informal term for emphasis', 'troublesome individual', 'informal term for individuals', 'informal term for individuals', 'bothersome individual', 'informal term for someone engaging in inappropriate behavior', 'bothersome individuals', 'informal term for sexual activity', 'informal term for a person who attracts attention', 'bothersome individual', 'troublesome individuals', 'bothersome individual', 'inappropriate term for sexual activity', 'informal term for a foolish individual', 'informal term for emphasis', 'disrespectful term for oral activity', 'bothersome individual', 'bothersome individual', 'informal term for someone engaging in inappropriate behavior', 'informal term for female genitalia', 'bothersome individual', 'foolish individuals', 'inappropriate act', 'bothersome individual', 'chaotic situation', 'bothersome individual', 'informal term for a view of someone’s underwear', 'offensive term for a person (not recommended)', 'bothersome individual', 'offensive term for a person of Latin American descent', 'offensive term for a person of Latin American descent', 'offensive term for a person (not recommended)', 'bodily fluid', 'informal term for a person engaging in sexual activity', 'informal term for a sexual position', 'informal term for emphasis', 'informal term for a Black person', 'informal term for annoyance', 'derogatory term for a person', 'foolish individuals', 'informal term for a woman (often derogatory)', 'informal term for a flamboyant individual', 'bothersome individual', 'bothersome behavior', 'informal term for emphasis', 'bothersome individuals', 'adult toy', 'expression of frustration', 'troublesome individuals', 'foolish individuals', 'informal term for emphasis', 'extremely angry', 'individual who engages in sexual activity', 'troublesome individual', 'informal term for male genitalia', 'derogatory term for a woman', 'informal term for a Black individual', 'confused or chaotic', 'informal term for someone who acts obnoxiously', 'bothersome individuals', 'engaging in sexual activity', 'informal term for emphasis', 'silly term for an individual', 'offensive term for someone with disabilities', 'bothersome individuals', 'rude act', 'nonsense or foolishness', 'foolish person', 'silly person', 'informal term for male genitalia', 'derogatory term for a promiscuous woman', 'offensive term for a Japanese person', 'offensive term for a person of Asian descent', 'troublesome individuals', 'bothersome individual', 'expression of frustration', 'informal term for something of poor quality', 'derogatory term for a woman', 'foolish individual', 'bothersome individual', 'bothersome individual', 'informal term for inappropriate behavior', 'informal term for a Black woman', 'informal term for Black individual', 'informal term for male genitalia', 'bothersome individuals', 'troublesome person', 'foolish individual', 'alternative lifestyle practice', 'offensive term for a person (not recommended)', 'inappropriate term for an individual', 'adult toy', 'bothersome individual', 'informal term for a bothersome individual', 'informal term for female genitalia', 'engage in self-pleasure', 'foolish individuals', 'male genitalia (plural)', 'bothersome individual', 'offensive term for individuals', 'bothersome individual', 'informal term for testicles', 'informal term for something unpleasant', 'informal term used among friends', 'confused or chaotic', 'expression of frustration', 'offensive term for Black individuals', 'informal term for a scam artist', 'bothersome individuals', 'bothersome individual', 'male genitalia', 'informal term for an individual', 'offensive term for a person who engages in violence', 'inappropriate behavior', 'bothersome individual', 'bothersome individuals', 'informal variation of an inappropriate term', 'offensive term for a person (not recommended)', 'informal term for foolish individuals', 'bothersome individuals', 'informal term for emphasis', 'individual performing oral activity', 'bothersome individuals', 'disrespectful term for individuals', 'troublesome individuals', 'informal term for engaging in sexual activity', 'bothersome individual', 'resembling a difficult person', 'bothersome individual', 'humorous or awkward situation', 'sexual position', 'informal term for emphasis', 'confused or chaotic', 'foolish person', 'informal term for having been overwhelmed', 'informal term for emphasis', 'inappropriate behavior', 'offensive term for a person', 'foolish person', 'informal term for male genitalia', 'bothersome individuals', 'foolish behavior', 'male genitalia (plural)', 'informal term for masturbation', 'bothersome individual', 'bothersome individuals', 'troublesome individual', 'offensive term for a person', 'troublemakers', 'rear opening', 'offensive term for Black individuals', 'foolish individual', 'bothersome individual', 'bothersome individuals', 'bothersome individual', 'offensive term related to theft', 'informal term for a bothersome situation', 'troublesome individuals', 'bothersome individual', 'offensive term for a Black person', 'informal term for a Black person', 'bothersome individuals', 'bothersome individuals', 'foolish pranksters', 'foolish individual', 'troublesome individuals', 'informal term for emphasis', 'bothersome individuals', 'disrespectful term for oral activity', 'informal term for emphasis', 'offensive term for a moneylender', 'bothersome individual', 'informal term for individuals', 'informal term for something unpleasant', 'bothersome individual', 'informal term for an offensive reference', 'mistake or error', 'breasts', 'annoying individual', 'expression of personal experience', 'bothersome individual', 'offensive term for a person of Asian descent', 'bothersome individuals', 'informal term for skin', 'jerk', 'individual associated with a hate group', 'bothersome individual', 'mutual satisfaction', 'informal term for emphasis', 'complaining', 'derogatory term for a person', 'bodily fluid', 'informal term for engaging in masturbation', 'troublesome individual', 'expression of annoyance', 'troublesome individual', 'bothersome individuals', 'enthusiastic participant in oral activity', 'foolish person', 'informal term for frustration', 'derogatory term for women perceived as promiscuous', 'informal term for individuals engaging in inappropriate behavior', 'humorous reference to male bodily fluids', 'engaging in oral activity', 'informal term for engaging in masturbation', 'offensive term for Black individuals', 'offensive person', 'informal term for a woman', 'informal term for a Black individual', 'informal term for self-pleasure', 'troublesome people', 'informal term for Black individuals', 'informal term for feces', 'disrespectful term for individuals', 'bothersome individual', 'playful term for an individual', 'foolish or nonsensical', 'informal term for emphasis', 'offensive term for a person', 'released bodily fluid', 'informal term for male genitalia', 'informal term for a Black individual', 'bothersome individual', 'informal term for male genitalia', 'lacking undesirable qualities', 'bothersome individual', 'male genitalia', 'deceptive person', 'bothersome individual', 'playful term for a messy situation', 'playful term for a troublesome individual', 'unpleasant or spiteful', 'inappropriate behavior', 'bothersome individual', 'bothersome individuals', 'foolish individuals', 'to touch or poke', 'informal term for adult film actors', 'inappropriate term for self-pleasure', 'troublesome individual', 'excrement', 'offensive term for a Jewish person', 'informal term for a troublesome person', 'bothersome individual', 'inappropriate term for a person', 'bothersome individuals', 'offensive term for an Italian person (not recommended)', 'disrespectful term for a parent', 'foolish person', 'irritating individual', 'informal term for an exclamation of frustration', 'annoying or unpleasant behavior', 'annoying person', 'informal term for sexual activity (context-dependent)', 'bothersome individual', 'offensive term for a person', 'rear', 'informal term for female genitalia', 'bothersome individuals', 'informal term for oral activity', 'foolish individual', 'bothersome individual', 'engaging in a derogatory act', 'expression of frustration', 'informal term for a person', 'informal term for male genitalia', 'offensive term for a person (not recommended)', 'troublesome individual', 'bothersome individual', 'informal term for feces', 'inappropriate reference to anatomy', 'informal term for individuals who exploit children', 'disruptive behavior', 'bothersome individual', 'informal term for a troublesome individual', 'bothersome individuals', 'bothersome individuals']\n",
      "{'eval_loss': 1.863075613975525, 'eval_bleu': 0.2517495258664602, 'eval_rouge1': 0.4407330567716596, 'eval_rouge2': 0.3532630997474749, 'eval_rougeL': 0.44074781937833407, 'eval_runtime': 8.0835, 'eval_samples_per_second': 39.587, 'eval_steps_per_second': 1.237, 'epoch': 22.0}\n",
      "{'loss': 1.3944, 'grad_norm': 1.8472445011138916, 'learning_rate': 2e-05, 'epoch': 24.0}\n"
     ]
    },
    {
     "data": {
      "application/vnd.jupyter.widget-view+json": {
       "model_id": "2d5520e8edde4aab8df355b5957fc759",
       "version_major": 2,
       "version_minor": 0
      },
      "text/plain": [
       "  0%|          | 0/10 [00:00<?, ?it/s]"
      ]
     },
     "metadata": {},
     "output_type": "display_data"
    },
    {
     "name": "stdout",
     "output_type": "stream",
     "text": [
      "['informal term for bodily fluid', 'individuals who engage in self-pleasure', 'rude person', 'troublesome individual', 'informal term for a sexual position', 'informal term for an individual', 'rude individual', 'bothersome individual', 'offensive term for a violent act', 'humorous phrase for engaging in sexual activity', 'foolish individual', 'informal term for a Black individuals', 'bothersome individual', 'informal term for a Black person', 'male genitalia', 'informal term for being intoxicated or altered', 'bothersome individuals', 'foolish individual', 'humorous situation involving the toilet', 'Black individual', 'confused or chaotic', 'informal term for a boy with feminine traits', 'derogatory term for individuals', 'foolish individuals', 'informal term for male genitalia', 'punishment (historical context)', 'derogatory term for a woman', 'flamboyant individual', 'bothersome individual', 'derogatory term for a sexually active person', 'informal term for someone who is irritating', 'informal term for inappropriate behavior', 'inappropriate term for someone who engages in inappropriate actions with children', 'offensive term for an individual', 'bothersome individuals', 'bothersome individual', 'someone engaging in indulgent behavior (often drinking)', 'informal term for a foolish person', 'bothersome individual', 'bothersome individual', 'engage in self-pleasure', 'informal term for a promiscuous woman', 'expression of frustration', 'informal term for emphasis', 'troublesome individual', 'informal term for individuals', 'informal term for individuals', 'bothersome individual', 'informal term for someone engaging in inappropriate behavior', 'bothersome individuals', 'informal term for sexual activity', 'informal term for a person who attracts attention', 'bothersome individual', 'troublesome individuals', 'bothersome individual', 'inappropriate term for sexual activity', 'informal term for a foolish individual', 'informal term for emphasis', 'disrespectful term for oral activity', 'bothersome individual', 'bothersome individual', 'informal term for someone engaging in inappropriate behavior', 'informal term for female genitalia', 'bothersome individual', 'foolish individuals', 'inappropriate act', 'bothersome individual', 'chaotic situation', 'bothersome individual', 'informal term for a view of someone’s underwear', 'offensive term for a person (not recommended)', 'bothersome individual', 'offensive term for a person of Latin American descent', 'offensive term for a person of Latin American descent', 'offensive term for a person (not recommended)', 'bodily fluid', 'informal term for a person engaging in sexual activity', 'informal term for a sexual position', 'informal term for emphasis', 'informal term for a Black person', 'informal term for annoyance', 'derogatory term for a person', 'foolish individuals', 'informal term for a woman (often derogatory)', 'informal term for a flamboyant individual', 'bothersome individual', 'bothersome behavior', 'informal term for emphasis', 'bothersome individuals', 'adult toy', 'expression of frustration', 'troublesome individuals', 'foolish individuals', 'informal term for emphasis', 'extremely angry', 'individual who engages in sexual activity', 'troublesome individual', 'informal term for male genitalia', 'derogatory term for a woman', 'informal term for a Black individual', 'confused or chaotic', 'informal term for someone who acts obnoxiously', 'bothersome individuals', 'engaging in sexual activity', 'informal term for emphasis', 'silly term for an individual', 'offensive term for someone with disabilities', 'bothersome individuals', 'rude act', 'nonsense or foolishness', 'foolish person', 'silly person', 'informal term for male genitalia', 'derogatory term for a promiscuous woman', 'offensive term for a Japanese person', 'offensive term for a person of Asian descent', 'troublesome individuals', 'bothersome individual', 'expression of frustration', 'informal term for something of poor quality', 'derogatory term for a woman', 'foolish individual', 'bothersome individual', 'bothersome individual', 'informal term for inappropriate behavior', 'informal term for a Black woman', 'informal term for Black individual', 'informal term for male genitalia', 'bothersome individuals', 'troublesome person', 'foolish individual', 'alternative lifestyle practice', 'offensive term for a person (not recommended)', 'inappropriate term for an individual', 'adult toy', 'bothersome individual', 'informal term for a bothersome individual', 'informal term for female genitalia', 'engage in self-pleasure', 'foolish individuals', 'male genitalia (plural)', 'bothersome individual', 'offensive term for individuals', 'bothersome individual', 'informal term for testicles', 'informal term for something unpleasant', 'informal term used among friends', 'confused or chaotic', 'expression of frustration', 'offensive term for Black individuals', 'informal term for a scam artist', 'bothersome individuals', 'bothersome individual', 'male genitalia', 'informal term for an individual', 'offensive term for a person who engages in violence', 'inappropriate behavior', 'bothersome individual', 'bothersome individuals', 'informal variation of an inappropriate term', 'offensive term for a person (not recommended)', 'informal term for foolish individuals', 'bothersome individuals', 'informal term for emphasis', 'individual performing oral activity', 'bothersome individuals', 'disrespectful term for individuals', 'troublesome individuals', 'informal term for engaging in sexual activity', 'bothersome individual', 'resembling a difficult person', 'bothersome individual', 'humorous or awkward situation', 'sexual position', 'informal term for emphasis', 'confused or chaotic', 'foolish person', 'informal term for having been overwhelmed', 'informal term for emphasis', 'inappropriate behavior', 'offensive term for a person', 'foolish person', 'informal term for male genitalia', 'bothersome individuals', 'foolish behavior', 'male genitalia (plural)', 'informal term for masturbation', 'bothersome individual', 'bothersome individuals', 'troublesome individual', 'offensive term for a person', 'troublemakers', 'rear opening', 'offensive term for Black individuals', 'foolish individual', 'bothersome individual', 'bothersome individuals', 'bothersome individual', 'offensive term related to theft', 'informal term for a bothersome situation', 'troublesome individuals', 'bothersome individual', 'offensive term for a Black person', 'informal term for a Black person', 'bothersome individuals', 'bothersome individuals', 'foolish pranksters', 'foolish individual', 'troublesome individuals', 'informal term for emphasis', 'bothersome individuals', 'disrespectful term for oral activity', 'informal term for emphasis', 'offensive term for a moneylender', 'bothersome individual', 'informal term for individuals', 'informal term for something unpleasant', 'bothersome individual', 'informal term for an offensive reference', 'mistake or error', 'breasts', 'annoying individual', 'expression of personal experience', 'bothersome individual', 'offensive term for a person of Asian descent', 'bothersome individuals', 'informal term for skin', 'jerk', 'individual associated with a hate group', 'bothersome individual', 'mutual satisfaction', 'informal term for emphasis', 'complaining', 'derogatory term for a person', 'bodily fluid', 'informal term for engaging in masturbation', 'troublesome individual', 'expression of annoyance', 'troublesome individual', 'bothersome individuals', 'enthusiastic participant in oral activity', 'foolish person', 'informal term for frustration', 'derogatory term for women perceived as promiscuous', 'informal term for individuals engaging in inappropriate behavior', 'humorous reference to male bodily fluids', 'engaging in oral activity', 'informal term for engaging in masturbation', 'offensive term for Black individuals', 'offensive person', 'informal term for a woman', 'informal term for a Black individual', 'informal term for self-pleasure', 'troublesome people', 'informal term for Black individuals', 'informal term for feces', 'disrespectful term for individuals', 'bothersome individual', 'playful term for an individual', 'foolish or nonsensical', 'informal term for emphasis', 'offensive term for a person', 'released bodily fluid', 'informal term for male genitalia', 'informal term for a Black individual', 'bothersome individual', 'informal term for male genitalia', 'lacking undesirable qualities', 'bothersome individual', 'male genitalia', 'deceptive person', 'bothersome individual', 'playful term for a messy situation', 'playful term for a troublesome individual', 'unpleasant or spiteful', 'inappropriate behavior', 'bothersome individual', 'bothersome individuals', 'foolish individuals', 'to touch or poke', 'informal term for adult film actors', 'inappropriate term for self-pleasure', 'troublesome individual', 'excrement', 'offensive term for a Jewish person', 'informal term for a troublesome person', 'bothersome individual', 'inappropriate term for a person', 'bothersome individuals', 'offensive term for an Italian person (not recommended)', 'disrespectful term for a parent', 'foolish person', 'irritating individual', 'informal term for an exclamation of frustration', 'annoying or unpleasant behavior', 'annoying person', 'informal term for sexual activity (context-dependent)', 'bothersome individual', 'offensive term for a person', 'rear', 'informal term for female genitalia', 'bothersome individuals', 'informal term for oral activity', 'foolish individual', 'bothersome individual', 'engaging in a derogatory act', 'expression of frustration', 'informal term for a person', 'informal term for male genitalia', 'offensive term for a person (not recommended)', 'troublesome individual', 'bothersome individual', 'informal term for feces', 'inappropriate reference to anatomy', 'informal term for individuals who exploit children', 'disruptive behavior', 'bothersome individual', 'informal term for a troublesome individual', 'bothersome individuals', 'bothersome individuals']\n",
      "{'eval_loss': 1.8412163257598877, 'eval_bleu': 0.2527953002288787, 'eval_rouge1': 0.43807526394153234, 'eval_rouge2': 0.3470650096431346, 'eval_rougeL': 0.44016327320555265, 'eval_runtime': 9.896, 'eval_samples_per_second': 32.336, 'eval_steps_per_second': 1.011, 'epoch': 24.0}\n",
      "{'loss': 1.3104, 'grad_norm': 2.090668201446533, 'learning_rate': 1.75e-05, 'epoch': 26.0}\n"
     ]
    },
    {
     "data": {
      "application/vnd.jupyter.widget-view+json": {
       "model_id": "680248d9642e43529c5eb489ed7c8ec8",
       "version_major": 2,
       "version_minor": 0
      },
      "text/plain": [
       "  0%|          | 0/10 [00:00<?, ?it/s]"
      ]
     },
     "metadata": {},
     "output_type": "display_data"
    },
    {
     "name": "stdout",
     "output_type": "stream",
     "text": [
      "['informal term for bodily fluid', 'individuals who engage in self-pleasure', 'rude person', 'troublesome individual', 'informal term for a sexual position', 'informal term for an individual', 'rude individual', 'bothersome individual', 'offensive term for a violent act', 'humorous phrase for engaging in sexual activity', 'foolish individual', 'informal term for a Black individuals', 'bothersome individual', 'informal term for a Black person', 'male genitalia', 'informal term for being intoxicated or altered', 'bothersome individuals', 'foolish individual', 'humorous situation involving the toilet', 'Black individual', 'confused or chaotic', 'informal term for a boy with feminine traits', 'derogatory term for individuals', 'foolish individuals', 'informal term for male genitalia', 'punishment (historical context)', 'derogatory term for a woman', 'flamboyant individual', 'bothersome individual', 'derogatory term for a sexually active person', 'informal term for someone who is irritating', 'informal term for inappropriate behavior', 'inappropriate term for someone who engages in inappropriate actions with children', 'offensive term for an individual', 'bothersome individuals', 'bothersome individual', 'someone engaging in indulgent behavior (often drinking)', 'informal term for a foolish person', 'bothersome individual', 'bothersome individual', 'engage in self-pleasure', 'informal term for a promiscuous woman', 'expression of frustration', 'informal term for emphasis', 'troublesome individual', 'informal term for individuals', 'informal term for individuals', 'bothersome individual', 'informal term for someone engaging in inappropriate behavior', 'bothersome individuals', 'informal term for sexual activity', 'informal term for a person who attracts attention', 'bothersome individual', 'troublesome individuals', 'bothersome individual', 'inappropriate term for sexual activity', 'informal term for a foolish individual', 'informal term for emphasis', 'disrespectful term for oral activity', 'bothersome individual', 'bothersome individual', 'informal term for someone engaging in inappropriate behavior', 'informal term for female genitalia', 'bothersome individual', 'foolish individuals', 'inappropriate act', 'bothersome individual', 'chaotic situation', 'bothersome individual', 'informal term for a view of someone’s underwear', 'offensive term for a person (not recommended)', 'bothersome individual', 'offensive term for a person of Latin American descent', 'offensive term for a person of Latin American descent', 'offensive term for a person (not recommended)', 'bodily fluid', 'informal term for a person engaging in sexual activity', 'informal term for a sexual position', 'informal term for emphasis', 'informal term for a Black person', 'informal term for annoyance', 'derogatory term for a person', 'foolish individuals', 'informal term for a woman (often derogatory)', 'informal term for a flamboyant individual', 'bothersome individual', 'bothersome behavior', 'informal term for emphasis', 'bothersome individuals', 'adult toy', 'expression of frustration', 'troublesome individuals', 'foolish individuals', 'informal term for emphasis', 'extremely angry', 'individual who engages in sexual activity', 'troublesome individual', 'informal term for male genitalia', 'derogatory term for a woman', 'informal term for a Black individual', 'confused or chaotic', 'informal term for someone who acts obnoxiously', 'bothersome individuals', 'engaging in sexual activity', 'informal term for emphasis', 'silly term for an individual', 'offensive term for someone with disabilities', 'bothersome individuals', 'rude act', 'nonsense or foolishness', 'foolish person', 'silly person', 'informal term for male genitalia', 'derogatory term for a promiscuous woman', 'offensive term for a Japanese person', 'offensive term for a person of Asian descent', 'troublesome individuals', 'bothersome individual', 'expression of frustration', 'informal term for something of poor quality', 'derogatory term for a woman', 'foolish individual', 'bothersome individual', 'bothersome individual', 'informal term for inappropriate behavior', 'informal term for a Black woman', 'informal term for Black individual', 'informal term for male genitalia', 'bothersome individuals', 'troublesome person', 'foolish individual', 'alternative lifestyle practice', 'offensive term for a person (not recommended)', 'inappropriate term for an individual', 'adult toy', 'bothersome individual', 'informal term for a bothersome individual', 'informal term for female genitalia', 'engage in self-pleasure', 'foolish individuals', 'male genitalia (plural)', 'bothersome individual', 'offensive term for individuals', 'bothersome individual', 'informal term for testicles', 'informal term for something unpleasant', 'informal term used among friends', 'confused or chaotic', 'expression of frustration', 'offensive term for Black individuals', 'informal term for a scam artist', 'bothersome individuals', 'bothersome individual', 'male genitalia', 'informal term for an individual', 'offensive term for a person who engages in violence', 'inappropriate behavior', 'bothersome individual', 'bothersome individuals', 'informal variation of an inappropriate term', 'offensive term for a person (not recommended)', 'informal term for foolish individuals', 'bothersome individuals', 'informal term for emphasis', 'individual performing oral activity', 'bothersome individuals', 'disrespectful term for individuals', 'troublesome individuals', 'informal term for engaging in sexual activity', 'bothersome individual', 'resembling a difficult person', 'bothersome individual', 'humorous or awkward situation', 'sexual position', 'informal term for emphasis', 'confused or chaotic', 'foolish person', 'informal term for having been overwhelmed', 'informal term for emphasis', 'inappropriate behavior', 'offensive term for a person', 'foolish person', 'informal term for male genitalia', 'bothersome individuals', 'foolish behavior', 'male genitalia (plural)', 'informal term for masturbation', 'bothersome individual', 'bothersome individuals', 'troublesome individual', 'offensive term for a person', 'troublemakers', 'rear opening', 'offensive term for Black individuals', 'foolish individual', 'bothersome individual', 'bothersome individuals', 'bothersome individual', 'offensive term related to theft', 'informal term for a bothersome situation', 'troublesome individuals', 'bothersome individual', 'offensive term for a Black person', 'informal term for a Black person', 'bothersome individuals', 'bothersome individuals', 'foolish pranksters', 'foolish individual', 'troublesome individuals', 'informal term for emphasis', 'bothersome individuals', 'disrespectful term for oral activity', 'informal term for emphasis', 'offensive term for a moneylender', 'bothersome individual', 'informal term for individuals', 'informal term for something unpleasant', 'bothersome individual', 'informal term for an offensive reference', 'mistake or error', 'breasts', 'annoying individual', 'expression of personal experience', 'bothersome individual', 'offensive term for a person of Asian descent', 'bothersome individuals', 'informal term for skin', 'jerk', 'individual associated with a hate group', 'bothersome individual', 'mutual satisfaction', 'informal term for emphasis', 'complaining', 'derogatory term for a person', 'bodily fluid', 'informal term for engaging in masturbation', 'troublesome individual', 'expression of annoyance', 'troublesome individual', 'bothersome individuals', 'enthusiastic participant in oral activity', 'foolish person', 'informal term for frustration', 'derogatory term for women perceived as promiscuous', 'informal term for individuals engaging in inappropriate behavior', 'humorous reference to male bodily fluids', 'engaging in oral activity', 'informal term for engaging in masturbation', 'offensive term for Black individuals', 'offensive person', 'informal term for a woman', 'informal term for a Black individual', 'informal term for self-pleasure', 'troublesome people', 'informal term for Black individuals', 'informal term for feces', 'disrespectful term for individuals', 'bothersome individual', 'playful term for an individual', 'foolish or nonsensical', 'informal term for emphasis', 'offensive term for a person', 'released bodily fluid', 'informal term for male genitalia', 'informal term for a Black individual', 'bothersome individual', 'informal term for male genitalia', 'lacking undesirable qualities', 'bothersome individual', 'male genitalia', 'deceptive person', 'bothersome individual', 'playful term for a messy situation', 'playful term for a troublesome individual', 'unpleasant or spiteful', 'inappropriate behavior', 'bothersome individual', 'bothersome individuals', 'foolish individuals', 'to touch or poke', 'informal term for adult film actors', 'inappropriate term for self-pleasure', 'troublesome individual', 'excrement', 'offensive term for a Jewish person', 'informal term for a troublesome person', 'bothersome individual', 'inappropriate term for a person', 'bothersome individuals', 'offensive term for an Italian person (not recommended)', 'disrespectful term for a parent', 'foolish person', 'irritating individual', 'informal term for an exclamation of frustration', 'annoying or unpleasant behavior', 'annoying person', 'informal term for sexual activity (context-dependent)', 'bothersome individual', 'offensive term for a person', 'rear', 'informal term for female genitalia', 'bothersome individuals', 'informal term for oral activity', 'foolish individual', 'bothersome individual', 'engaging in a derogatory act', 'expression of frustration', 'informal term for a person', 'informal term for male genitalia', 'offensive term for a person (not recommended)', 'troublesome individual', 'bothersome individual', 'informal term for feces', 'inappropriate reference to anatomy', 'informal term for individuals who exploit children', 'disruptive behavior', 'bothersome individual', 'informal term for a troublesome individual', 'bothersome individuals', 'bothersome individuals']\n",
      "{'eval_loss': 1.8379859924316406, 'eval_bleu': 0.28162712021794256, 'eval_rouge1': 0.44627726006632273, 'eval_rouge2': 0.34769368473642365, 'eval_rougeL': 0.44723175034030316, 'eval_runtime': 10.8718, 'eval_samples_per_second': 29.434, 'eval_steps_per_second': 0.92, 'epoch': 26.0}\n",
      "{'loss': 1.2429, 'grad_norm': 2.3092782497406006, 'learning_rate': 1.5e-05, 'epoch': 28.0}\n"
     ]
    },
    {
     "data": {
      "application/vnd.jupyter.widget-view+json": {
       "model_id": "af8e0a35216a4e99bb42db776468fe71",
       "version_major": 2,
       "version_minor": 0
      },
      "text/plain": [
       "  0%|          | 0/10 [00:00<?, ?it/s]"
      ]
     },
     "metadata": {},
     "output_type": "display_data"
    },
    {
     "name": "stdout",
     "output_type": "stream",
     "text": [
      "['informal term for bodily fluid', 'individuals who engage in self-pleasure', 'rude person', 'troublesome individual', 'informal term for a sexual position', 'informal term for an individual', 'rude individual', 'bothersome individual', 'offensive term for a violent act', 'humorous phrase for engaging in sexual activity', 'foolish individual', 'informal term for a Black individuals', 'bothersome individual', 'informal term for a Black person', 'male genitalia', 'informal term for being intoxicated or altered', 'bothersome individuals', 'foolish individual', 'humorous situation involving the toilet', 'Black individual', 'confused or chaotic', 'informal term for a boy with feminine traits', 'derogatory term for individuals', 'foolish individuals', 'informal term for male genitalia', 'punishment (historical context)', 'derogatory term for a woman', 'flamboyant individual', 'bothersome individual', 'derogatory term for a sexually active person', 'informal term for someone who is irritating', 'informal term for inappropriate behavior', 'inappropriate term for someone who engages in inappropriate actions with children', 'offensive term for an individual', 'bothersome individuals', 'bothersome individual', 'someone engaging in indulgent behavior (often drinking)', 'informal term for a foolish person', 'bothersome individual', 'bothersome individual', 'engage in self-pleasure', 'informal term for a promiscuous woman', 'expression of frustration', 'informal term for emphasis', 'troublesome individual', 'informal term for individuals', 'informal term for individuals', 'bothersome individual', 'informal term for someone engaging in inappropriate behavior', 'bothersome individuals', 'informal term for sexual activity', 'informal term for a person who attracts attention', 'bothersome individual', 'troublesome individuals', 'bothersome individual', 'inappropriate term for sexual activity', 'informal term for a foolish individual', 'informal term for emphasis', 'disrespectful term for oral activity', 'bothersome individual', 'bothersome individual', 'informal term for someone engaging in inappropriate behavior', 'informal term for female genitalia', 'bothersome individual', 'foolish individuals', 'inappropriate act', 'bothersome individual', 'chaotic situation', 'bothersome individual', 'informal term for a view of someone’s underwear', 'offensive term for a person (not recommended)', 'bothersome individual', 'offensive term for a person of Latin American descent', 'offensive term for a person of Latin American descent', 'offensive term for a person (not recommended)', 'bodily fluid', 'informal term for a person engaging in sexual activity', 'informal term for a sexual position', 'informal term for emphasis', 'informal term for a Black person', 'informal term for annoyance', 'derogatory term for a person', 'foolish individuals', 'informal term for a woman (often derogatory)', 'informal term for a flamboyant individual', 'bothersome individual', 'bothersome behavior', 'informal term for emphasis', 'bothersome individuals', 'adult toy', 'expression of frustration', 'troublesome individuals', 'foolish individuals', 'informal term for emphasis', 'extremely angry', 'individual who engages in sexual activity', 'troublesome individual', 'informal term for male genitalia', 'derogatory term for a woman', 'informal term for a Black individual', 'confused or chaotic', 'informal term for someone who acts obnoxiously', 'bothersome individuals', 'engaging in sexual activity', 'informal term for emphasis', 'silly term for an individual', 'offensive term for someone with disabilities', 'bothersome individuals', 'rude act', 'nonsense or foolishness', 'foolish person', 'silly person', 'informal term for male genitalia', 'derogatory term for a promiscuous woman', 'offensive term for a Japanese person', 'offensive term for a person of Asian descent', 'troublesome individuals', 'bothersome individual', 'expression of frustration', 'informal term for something of poor quality', 'derogatory term for a woman', 'foolish individual', 'bothersome individual', 'bothersome individual', 'informal term for inappropriate behavior', 'informal term for a Black woman', 'informal term for Black individual', 'informal term for male genitalia', 'bothersome individuals', 'troublesome person', 'foolish individual', 'alternative lifestyle practice', 'offensive term for a person (not recommended)', 'inappropriate term for an individual', 'adult toy', 'bothersome individual', 'informal term for a bothersome individual', 'informal term for female genitalia', 'engage in self-pleasure', 'foolish individuals', 'male genitalia (plural)', 'bothersome individual', 'offensive term for individuals', 'bothersome individual', 'informal term for testicles', 'informal term for something unpleasant', 'informal term used among friends', 'confused or chaotic', 'expression of frustration', 'offensive term for Black individuals', 'informal term for a scam artist', 'bothersome individuals', 'bothersome individual', 'male genitalia', 'informal term for an individual', 'offensive term for a person who engages in violence', 'inappropriate behavior', 'bothersome individual', 'bothersome individuals', 'informal variation of an inappropriate term', 'offensive term for a person (not recommended)', 'informal term for foolish individuals', 'bothersome individuals', 'informal term for emphasis', 'individual performing oral activity', 'bothersome individuals', 'disrespectful term for individuals', 'troublesome individuals', 'informal term for engaging in sexual activity', 'bothersome individual', 'resembling a difficult person', 'bothersome individual', 'humorous or awkward situation', 'sexual position', 'informal term for emphasis', 'confused or chaotic', 'foolish person', 'informal term for having been overwhelmed', 'informal term for emphasis', 'inappropriate behavior', 'offensive term for a person', 'foolish person', 'informal term for male genitalia', 'bothersome individuals', 'foolish behavior', 'male genitalia (plural)', 'informal term for masturbation', 'bothersome individual', 'bothersome individuals', 'troublesome individual', 'offensive term for a person', 'troublemakers', 'rear opening', 'offensive term for Black individuals', 'foolish individual', 'bothersome individual', 'bothersome individuals', 'bothersome individual', 'offensive term related to theft', 'informal term for a bothersome situation', 'troublesome individuals', 'bothersome individual', 'offensive term for a Black person', 'informal term for a Black person', 'bothersome individuals', 'bothersome individuals', 'foolish pranksters', 'foolish individual', 'troublesome individuals', 'informal term for emphasis', 'bothersome individuals', 'disrespectful term for oral activity', 'informal term for emphasis', 'offensive term for a moneylender', 'bothersome individual', 'informal term for individuals', 'informal term for something unpleasant', 'bothersome individual', 'informal term for an offensive reference', 'mistake or error', 'breasts', 'annoying individual', 'expression of personal experience', 'bothersome individual', 'offensive term for a person of Asian descent', 'bothersome individuals', 'informal term for skin', 'jerk', 'individual associated with a hate group', 'bothersome individual', 'mutual satisfaction', 'informal term for emphasis', 'complaining', 'derogatory term for a person', 'bodily fluid', 'informal term for engaging in masturbation', 'troublesome individual', 'expression of annoyance', 'troublesome individual', 'bothersome individuals', 'enthusiastic participant in oral activity', 'foolish person', 'informal term for frustration', 'derogatory term for women perceived as promiscuous', 'informal term for individuals engaging in inappropriate behavior', 'humorous reference to male bodily fluids', 'engaging in oral activity', 'informal term for engaging in masturbation', 'offensive term for Black individuals', 'offensive person', 'informal term for a woman', 'informal term for a Black individual', 'informal term for self-pleasure', 'troublesome people', 'informal term for Black individuals', 'informal term for feces', 'disrespectful term for individuals', 'bothersome individual', 'playful term for an individual', 'foolish or nonsensical', 'informal term for emphasis', 'offensive term for a person', 'released bodily fluid', 'informal term for male genitalia', 'informal term for a Black individual', 'bothersome individual', 'informal term for male genitalia', 'lacking undesirable qualities', 'bothersome individual', 'male genitalia', 'deceptive person', 'bothersome individual', 'playful term for a messy situation', 'playful term for a troublesome individual', 'unpleasant or spiteful', 'inappropriate behavior', 'bothersome individual', 'bothersome individuals', 'foolish individuals', 'to touch or poke', 'informal term for adult film actors', 'inappropriate term for self-pleasure', 'troublesome individual', 'excrement', 'offensive term for a Jewish person', 'informal term for a troublesome person', 'bothersome individual', 'inappropriate term for a person', 'bothersome individuals', 'offensive term for an Italian person (not recommended)', 'disrespectful term for a parent', 'foolish person', 'irritating individual', 'informal term for an exclamation of frustration', 'annoying or unpleasant behavior', 'annoying person', 'informal term for sexual activity (context-dependent)', 'bothersome individual', 'offensive term for a person', 'rear', 'informal term for female genitalia', 'bothersome individuals', 'informal term for oral activity', 'foolish individual', 'bothersome individual', 'engaging in a derogatory act', 'expression of frustration', 'informal term for a person', 'informal term for male genitalia', 'offensive term for a person (not recommended)', 'troublesome individual', 'bothersome individual', 'informal term for feces', 'inappropriate reference to anatomy', 'informal term for individuals who exploit children', 'disruptive behavior', 'bothersome individual', 'informal term for a troublesome individual', 'bothersome individuals', 'bothersome individuals']\n",
      "{'eval_loss': 1.820736289024353, 'eval_bleu': 0.26964144432781983, 'eval_rouge1': 0.4490786608203887, 'eval_rouge2': 0.35401395913114664, 'eval_rougeL': 0.4489176560775825, 'eval_runtime': 11.6683, 'eval_samples_per_second': 27.425, 'eval_steps_per_second': 0.857, 'epoch': 28.0}\n",
      "{'loss': 1.181, 'grad_norm': 2.0399820804595947, 'learning_rate': 1.25e-05, 'epoch': 30.0}\n"
     ]
    },
    {
     "data": {
      "application/vnd.jupyter.widget-view+json": {
       "model_id": "48cc44b1a0264e1bbcd7f9b79f9781e1",
       "version_major": 2,
       "version_minor": 0
      },
      "text/plain": [
       "  0%|          | 0/10 [00:00<?, ?it/s]"
      ]
     },
     "metadata": {},
     "output_type": "display_data"
    },
    {
     "name": "stdout",
     "output_type": "stream",
     "text": [
      "['informal term for bodily fluid', 'individuals who engage in self-pleasure', 'rude person', 'troublesome individual', 'informal term for a sexual position', 'informal term for an individual', 'rude individual', 'bothersome individual', 'offensive term for a violent act', 'humorous phrase for engaging in sexual activity', 'foolish individual', 'informal term for a Black individuals', 'bothersome individual', 'informal term for a Black person', 'male genitalia', 'informal term for being intoxicated or altered', 'bothersome individuals', 'foolish individual', 'humorous situation involving the toilet', 'Black individual', 'confused or chaotic', 'informal term for a boy with feminine traits', 'derogatory term for individuals', 'foolish individuals', 'informal term for male genitalia', 'punishment (historical context)', 'derogatory term for a woman', 'flamboyant individual', 'bothersome individual', 'derogatory term for a sexually active person', 'informal term for someone who is irritating', 'informal term for inappropriate behavior', 'inappropriate term for someone who engages in inappropriate actions with children', 'offensive term for an individual', 'bothersome individuals', 'bothersome individual', 'someone engaging in indulgent behavior (often drinking)', 'informal term for a foolish person', 'bothersome individual', 'bothersome individual', 'engage in self-pleasure', 'informal term for a promiscuous woman', 'expression of frustration', 'informal term for emphasis', 'troublesome individual', 'informal term for individuals', 'informal term for individuals', 'bothersome individual', 'informal term for someone engaging in inappropriate behavior', 'bothersome individuals', 'informal term for sexual activity', 'informal term for a person who attracts attention', 'bothersome individual', 'troublesome individuals', 'bothersome individual', 'inappropriate term for sexual activity', 'informal term for a foolish individual', 'informal term for emphasis', 'disrespectful term for oral activity', 'bothersome individual', 'bothersome individual', 'informal term for someone engaging in inappropriate behavior', 'informal term for female genitalia', 'bothersome individual', 'foolish individuals', 'inappropriate act', 'bothersome individual', 'chaotic situation', 'bothersome individual', 'informal term for a view of someone’s underwear', 'offensive term for a person (not recommended)', 'bothersome individual', 'offensive term for a person of Latin American descent', 'offensive term for a person of Latin American descent', 'offensive term for a person (not recommended)', 'bodily fluid', 'informal term for a person engaging in sexual activity', 'informal term for a sexual position', 'informal term for emphasis', 'informal term for a Black person', 'informal term for annoyance', 'derogatory term for a person', 'foolish individuals', 'informal term for a woman (often derogatory)', 'informal term for a flamboyant individual', 'bothersome individual', 'bothersome behavior', 'informal term for emphasis', 'bothersome individuals', 'adult toy', 'expression of frustration', 'troublesome individuals', 'foolish individuals', 'informal term for emphasis', 'extremely angry', 'individual who engages in sexual activity', 'troublesome individual', 'informal term for male genitalia', 'derogatory term for a woman', 'informal term for a Black individual', 'confused or chaotic', 'informal term for someone who acts obnoxiously', 'bothersome individuals', 'engaging in sexual activity', 'informal term for emphasis', 'silly term for an individual', 'offensive term for someone with disabilities', 'bothersome individuals', 'rude act', 'nonsense or foolishness', 'foolish person', 'silly person', 'informal term for male genitalia', 'derogatory term for a promiscuous woman', 'offensive term for a Japanese person', 'offensive term for a person of Asian descent', 'troublesome individuals', 'bothersome individual', 'expression of frustration', 'informal term for something of poor quality', 'derogatory term for a woman', 'foolish individual', 'bothersome individual', 'bothersome individual', 'informal term for inappropriate behavior', 'informal term for a Black woman', 'informal term for Black individual', 'informal term for male genitalia', 'bothersome individuals', 'troublesome person', 'foolish individual', 'alternative lifestyle practice', 'offensive term for a person (not recommended)', 'inappropriate term for an individual', 'adult toy', 'bothersome individual', 'informal term for a bothersome individual', 'informal term for female genitalia', 'engage in self-pleasure', 'foolish individuals', 'male genitalia (plural)', 'bothersome individual', 'offensive term for individuals', 'bothersome individual', 'informal term for testicles', 'informal term for something unpleasant', 'informal term used among friends', 'confused or chaotic', 'expression of frustration', 'offensive term for Black individuals', 'informal term for a scam artist', 'bothersome individuals', 'bothersome individual', 'male genitalia', 'informal term for an individual', 'offensive term for a person who engages in violence', 'inappropriate behavior', 'bothersome individual', 'bothersome individuals', 'informal variation of an inappropriate term', 'offensive term for a person (not recommended)', 'informal term for foolish individuals', 'bothersome individuals', 'informal term for emphasis', 'individual performing oral activity', 'bothersome individuals', 'disrespectful term for individuals', 'troublesome individuals', 'informal term for engaging in sexual activity', 'bothersome individual', 'resembling a difficult person', 'bothersome individual', 'humorous or awkward situation', 'sexual position', 'informal term for emphasis', 'confused or chaotic', 'foolish person', 'informal term for having been overwhelmed', 'informal term for emphasis', 'inappropriate behavior', 'offensive term for a person', 'foolish person', 'informal term for male genitalia', 'bothersome individuals', 'foolish behavior', 'male genitalia (plural)', 'informal term for masturbation', 'bothersome individual', 'bothersome individuals', 'troublesome individual', 'offensive term for a person', 'troublemakers', 'rear opening', 'offensive term for Black individuals', 'foolish individual', 'bothersome individual', 'bothersome individuals', 'bothersome individual', 'offensive term related to theft', 'informal term for a bothersome situation', 'troublesome individuals', 'bothersome individual', 'offensive term for a Black person', 'informal term for a Black person', 'bothersome individuals', 'bothersome individuals', 'foolish pranksters', 'foolish individual', 'troublesome individuals', 'informal term for emphasis', 'bothersome individuals', 'disrespectful term for oral activity', 'informal term for emphasis', 'offensive term for a moneylender', 'bothersome individual', 'informal term for individuals', 'informal term for something unpleasant', 'bothersome individual', 'informal term for an offensive reference', 'mistake or error', 'breasts', 'annoying individual', 'expression of personal experience', 'bothersome individual', 'offensive term for a person of Asian descent', 'bothersome individuals', 'informal term for skin', 'jerk', 'individual associated with a hate group', 'bothersome individual', 'mutual satisfaction', 'informal term for emphasis', 'complaining', 'derogatory term for a person', 'bodily fluid', 'informal term for engaging in masturbation', 'troublesome individual', 'expression of annoyance', 'troublesome individual', 'bothersome individuals', 'enthusiastic participant in oral activity', 'foolish person', 'informal term for frustration', 'derogatory term for women perceived as promiscuous', 'informal term for individuals engaging in inappropriate behavior', 'humorous reference to male bodily fluids', 'engaging in oral activity', 'informal term for engaging in masturbation', 'offensive term for Black individuals', 'offensive person', 'informal term for a woman', 'informal term for a Black individual', 'informal term for self-pleasure', 'troublesome people', 'informal term for Black individuals', 'informal term for feces', 'disrespectful term for individuals', 'bothersome individual', 'playful term for an individual', 'foolish or nonsensical', 'informal term for emphasis', 'offensive term for a person', 'released bodily fluid', 'informal term for male genitalia', 'informal term for a Black individual', 'bothersome individual', 'informal term for male genitalia', 'lacking undesirable qualities', 'bothersome individual', 'male genitalia', 'deceptive person', 'bothersome individual', 'playful term for a messy situation', 'playful term for a troublesome individual', 'unpleasant or spiteful', 'inappropriate behavior', 'bothersome individual', 'bothersome individuals', 'foolish individuals', 'to touch or poke', 'informal term for adult film actors', 'inappropriate term for self-pleasure', 'troublesome individual', 'excrement', 'offensive term for a Jewish person', 'informal term for a troublesome person', 'bothersome individual', 'inappropriate term for a person', 'bothersome individuals', 'offensive term for an Italian person (not recommended)', 'disrespectful term for a parent', 'foolish person', 'irritating individual', 'informal term for an exclamation of frustration', 'annoying or unpleasant behavior', 'annoying person', 'informal term for sexual activity (context-dependent)', 'bothersome individual', 'offensive term for a person', 'rear', 'informal term for female genitalia', 'bothersome individuals', 'informal term for oral activity', 'foolish individual', 'bothersome individual', 'engaging in a derogatory act', 'expression of frustration', 'informal term for a person', 'informal term for male genitalia', 'offensive term for a person (not recommended)', 'troublesome individual', 'bothersome individual', 'informal term for feces', 'inappropriate reference to anatomy', 'informal term for individuals who exploit children', 'disruptive behavior', 'bothersome individual', 'informal term for a troublesome individual', 'bothersome individuals', 'bothersome individuals']\n",
      "{'eval_loss': 1.8170452117919922, 'eval_bleu': 0.27533708458133144, 'eval_rouge1': 0.440637327337695, 'eval_rouge2': 0.3463570283882784, 'eval_rougeL': 0.44023045173780473, 'eval_runtime': 11.1024, 'eval_samples_per_second': 28.823, 'eval_steps_per_second': 0.901, 'epoch': 30.0}\n",
      "{'loss': 1.1355, 'grad_norm': 2.1028599739074707, 'learning_rate': 1e-05, 'epoch': 32.0}\n"
     ]
    },
    {
     "data": {
      "application/vnd.jupyter.widget-view+json": {
       "model_id": "3075b2194989491299c2a9d37f4e91dd",
       "version_major": 2,
       "version_minor": 0
      },
      "text/plain": [
       "  0%|          | 0/10 [00:00<?, ?it/s]"
      ]
     },
     "metadata": {},
     "output_type": "display_data"
    },
    {
     "name": "stdout",
     "output_type": "stream",
     "text": [
      "['informal term for bodily fluid', 'individuals who engage in self-pleasure', 'rude person', 'troublesome individual', 'informal term for a sexual position', 'informal term for an individual', 'rude individual', 'bothersome individual', 'offensive term for a violent act', 'humorous phrase for engaging in sexual activity', 'foolish individual', 'informal term for a Black individuals', 'bothersome individual', 'informal term for a Black person', 'male genitalia', 'informal term for being intoxicated or altered', 'bothersome individuals', 'foolish individual', 'humorous situation involving the toilet', 'Black individual', 'confused or chaotic', 'informal term for a boy with feminine traits', 'derogatory term for individuals', 'foolish individuals', 'informal term for male genitalia', 'punishment (historical context)', 'derogatory term for a woman', 'flamboyant individual', 'bothersome individual', 'derogatory term for a sexually active person', 'informal term for someone who is irritating', 'informal term for inappropriate behavior', 'inappropriate term for someone who engages in inappropriate actions with children', 'offensive term for an individual', 'bothersome individuals', 'bothersome individual', 'someone engaging in indulgent behavior (often drinking)', 'informal term for a foolish person', 'bothersome individual', 'bothersome individual', 'engage in self-pleasure', 'informal term for a promiscuous woman', 'expression of frustration', 'informal term for emphasis', 'troublesome individual', 'informal term for individuals', 'informal term for individuals', 'bothersome individual', 'informal term for someone engaging in inappropriate behavior', 'bothersome individuals', 'informal term for sexual activity', 'informal term for a person who attracts attention', 'bothersome individual', 'troublesome individuals', 'bothersome individual', 'inappropriate term for sexual activity', 'informal term for a foolish individual', 'informal term for emphasis', 'disrespectful term for oral activity', 'bothersome individual', 'bothersome individual', 'informal term for someone engaging in inappropriate behavior', 'informal term for female genitalia', 'bothersome individual', 'foolish individuals', 'inappropriate act', 'bothersome individual', 'chaotic situation', 'bothersome individual', 'informal term for a view of someone’s underwear', 'offensive term for a person (not recommended)', 'bothersome individual', 'offensive term for a person of Latin American descent', 'offensive term for a person of Latin American descent', 'offensive term for a person (not recommended)', 'bodily fluid', 'informal term for a person engaging in sexual activity', 'informal term for a sexual position', 'informal term for emphasis', 'informal term for a Black person', 'informal term for annoyance', 'derogatory term for a person', 'foolish individuals', 'informal term for a woman (often derogatory)', 'informal term for a flamboyant individual', 'bothersome individual', 'bothersome behavior', 'informal term for emphasis', 'bothersome individuals', 'adult toy', 'expression of frustration', 'troublesome individuals', 'foolish individuals', 'informal term for emphasis', 'extremely angry', 'individual who engages in sexual activity', 'troublesome individual', 'informal term for male genitalia', 'derogatory term for a woman', 'informal term for a Black individual', 'confused or chaotic', 'informal term for someone who acts obnoxiously', 'bothersome individuals', 'engaging in sexual activity', 'informal term for emphasis', 'silly term for an individual', 'offensive term for someone with disabilities', 'bothersome individuals', 'rude act', 'nonsense or foolishness', 'foolish person', 'silly person', 'informal term for male genitalia', 'derogatory term for a promiscuous woman', 'offensive term for a Japanese person', 'offensive term for a person of Asian descent', 'troublesome individuals', 'bothersome individual', 'expression of frustration', 'informal term for something of poor quality', 'derogatory term for a woman', 'foolish individual', 'bothersome individual', 'bothersome individual', 'informal term for inappropriate behavior', 'informal term for a Black woman', 'informal term for Black individual', 'informal term for male genitalia', 'bothersome individuals', 'troublesome person', 'foolish individual', 'alternative lifestyle practice', 'offensive term for a person (not recommended)', 'inappropriate term for an individual', 'adult toy', 'bothersome individual', 'informal term for a bothersome individual', 'informal term for female genitalia', 'engage in self-pleasure', 'foolish individuals', 'male genitalia (plural)', 'bothersome individual', 'offensive term for individuals', 'bothersome individual', 'informal term for testicles', 'informal term for something unpleasant', 'informal term used among friends', 'confused or chaotic', 'expression of frustration', 'offensive term for Black individuals', 'informal term for a scam artist', 'bothersome individuals', 'bothersome individual', 'male genitalia', 'informal term for an individual', 'offensive term for a person who engages in violence', 'inappropriate behavior', 'bothersome individual', 'bothersome individuals', 'informal variation of an inappropriate term', 'offensive term for a person (not recommended)', 'informal term for foolish individuals', 'bothersome individuals', 'informal term for emphasis', 'individual performing oral activity', 'bothersome individuals', 'disrespectful term for individuals', 'troublesome individuals', 'informal term for engaging in sexual activity', 'bothersome individual', 'resembling a difficult person', 'bothersome individual', 'humorous or awkward situation', 'sexual position', 'informal term for emphasis', 'confused or chaotic', 'foolish person', 'informal term for having been overwhelmed', 'informal term for emphasis', 'inappropriate behavior', 'offensive term for a person', 'foolish person', 'informal term for male genitalia', 'bothersome individuals', 'foolish behavior', 'male genitalia (plural)', 'informal term for masturbation', 'bothersome individual', 'bothersome individuals', 'troublesome individual', 'offensive term for a person', 'troublemakers', 'rear opening', 'offensive term for Black individuals', 'foolish individual', 'bothersome individual', 'bothersome individuals', 'bothersome individual', 'offensive term related to theft', 'informal term for a bothersome situation', 'troublesome individuals', 'bothersome individual', 'offensive term for a Black person', 'informal term for a Black person', 'bothersome individuals', 'bothersome individuals', 'foolish pranksters', 'foolish individual', 'troublesome individuals', 'informal term for emphasis', 'bothersome individuals', 'disrespectful term for oral activity', 'informal term for emphasis', 'offensive term for a moneylender', 'bothersome individual', 'informal term for individuals', 'informal term for something unpleasant', 'bothersome individual', 'informal term for an offensive reference', 'mistake or error', 'breasts', 'annoying individual', 'expression of personal experience', 'bothersome individual', 'offensive term for a person of Asian descent', 'bothersome individuals', 'informal term for skin', 'jerk', 'individual associated with a hate group', 'bothersome individual', 'mutual satisfaction', 'informal term for emphasis', 'complaining', 'derogatory term for a person', 'bodily fluid', 'informal term for engaging in masturbation', 'troublesome individual', 'expression of annoyance', 'troublesome individual', 'bothersome individuals', 'enthusiastic participant in oral activity', 'foolish person', 'informal term for frustration', 'derogatory term for women perceived as promiscuous', 'informal term for individuals engaging in inappropriate behavior', 'humorous reference to male bodily fluids', 'engaging in oral activity', 'informal term for engaging in masturbation', 'offensive term for Black individuals', 'offensive person', 'informal term for a woman', 'informal term for a Black individual', 'informal term for self-pleasure', 'troublesome people', 'informal term for Black individuals', 'informal term for feces', 'disrespectful term for individuals', 'bothersome individual', 'playful term for an individual', 'foolish or nonsensical', 'informal term for emphasis', 'offensive term for a person', 'released bodily fluid', 'informal term for male genitalia', 'informal term for a Black individual', 'bothersome individual', 'informal term for male genitalia', 'lacking undesirable qualities', 'bothersome individual', 'male genitalia', 'deceptive person', 'bothersome individual', 'playful term for a messy situation', 'playful term for a troublesome individual', 'unpleasant or spiteful', 'inappropriate behavior', 'bothersome individual', 'bothersome individuals', 'foolish individuals', 'to touch or poke', 'informal term for adult film actors', 'inappropriate term for self-pleasure', 'troublesome individual', 'excrement', 'offensive term for a Jewish person', 'informal term for a troublesome person', 'bothersome individual', 'inappropriate term for a person', 'bothersome individuals', 'offensive term for an Italian person (not recommended)', 'disrespectful term for a parent', 'foolish person', 'irritating individual', 'informal term for an exclamation of frustration', 'annoying or unpleasant behavior', 'annoying person', 'informal term for sexual activity (context-dependent)', 'bothersome individual', 'offensive term for a person', 'rear', 'informal term for female genitalia', 'bothersome individuals', 'informal term for oral activity', 'foolish individual', 'bothersome individual', 'engaging in a derogatory act', 'expression of frustration', 'informal term for a person', 'informal term for male genitalia', 'offensive term for a person (not recommended)', 'troublesome individual', 'bothersome individual', 'informal term for feces', 'inappropriate reference to anatomy', 'informal term for individuals who exploit children', 'disruptive behavior', 'bothersome individual', 'informal term for a troublesome individual', 'bothersome individuals', 'bothersome individuals']\n",
      "{'eval_loss': 1.812178373336792, 'eval_bleu': 0.2864288201150661, 'eval_rouge1': 0.44810006527377855, 'eval_rouge2': 0.3476441690458234, 'eval_rougeL': 0.44856502991601194, 'eval_runtime': 9.6953, 'eval_samples_per_second': 33.006, 'eval_steps_per_second': 1.031, 'epoch': 32.0}\n",
      "{'loss': 1.0993, 'grad_norm': 2.075491428375244, 'learning_rate': 7.5e-06, 'epoch': 34.0}\n"
     ]
    },
    {
     "data": {
      "application/vnd.jupyter.widget-view+json": {
       "model_id": "4672f32e8cc84e75b97b7c9554486f34",
       "version_major": 2,
       "version_minor": 0
      },
      "text/plain": [
       "  0%|          | 0/10 [00:00<?, ?it/s]"
      ]
     },
     "metadata": {},
     "output_type": "display_data"
    },
    {
     "name": "stdout",
     "output_type": "stream",
     "text": [
      "['informal term for bodily fluid', 'individuals who engage in self-pleasure', 'rude person', 'troublesome individual', 'informal term for a sexual position', 'informal term for an individual', 'rude individual', 'bothersome individual', 'offensive term for a violent act', 'humorous phrase for engaging in sexual activity', 'foolish individual', 'informal term for a Black individuals', 'bothersome individual', 'informal term for a Black person', 'male genitalia', 'informal term for being intoxicated or altered', 'bothersome individuals', 'foolish individual', 'humorous situation involving the toilet', 'Black individual', 'confused or chaotic', 'informal term for a boy with feminine traits', 'derogatory term for individuals', 'foolish individuals', 'informal term for male genitalia', 'punishment (historical context)', 'derogatory term for a woman', 'flamboyant individual', 'bothersome individual', 'derogatory term for a sexually active person', 'informal term for someone who is irritating', 'informal term for inappropriate behavior', 'inappropriate term for someone who engages in inappropriate actions with children', 'offensive term for an individual', 'bothersome individuals', 'bothersome individual', 'someone engaging in indulgent behavior (often drinking)', 'informal term for a foolish person', 'bothersome individual', 'bothersome individual', 'engage in self-pleasure', 'informal term for a promiscuous woman', 'expression of frustration', 'informal term for emphasis', 'troublesome individual', 'informal term for individuals', 'informal term for individuals', 'bothersome individual', 'informal term for someone engaging in inappropriate behavior', 'bothersome individuals', 'informal term for sexual activity', 'informal term for a person who attracts attention', 'bothersome individual', 'troublesome individuals', 'bothersome individual', 'inappropriate term for sexual activity', 'informal term for a foolish individual', 'informal term for emphasis', 'disrespectful term for oral activity', 'bothersome individual', 'bothersome individual', 'informal term for someone engaging in inappropriate behavior', 'informal term for female genitalia', 'bothersome individual', 'foolish individuals', 'inappropriate act', 'bothersome individual', 'chaotic situation', 'bothersome individual', 'informal term for a view of someone’s underwear', 'offensive term for a person (not recommended)', 'bothersome individual', 'offensive term for a person of Latin American descent', 'offensive term for a person of Latin American descent', 'offensive term for a person (not recommended)', 'bodily fluid', 'informal term for a person engaging in sexual activity', 'informal term for a sexual position', 'informal term for emphasis', 'informal term for a Black person', 'informal term for annoyance', 'derogatory term for a person', 'foolish individuals', 'informal term for a woman (often derogatory)', 'informal term for a flamboyant individual', 'bothersome individual', 'bothersome behavior', 'informal term for emphasis', 'bothersome individuals', 'adult toy', 'expression of frustration', 'troublesome individuals', 'foolish individuals', 'informal term for emphasis', 'extremely angry', 'individual who engages in sexual activity', 'troublesome individual', 'informal term for male genitalia', 'derogatory term for a woman', 'informal term for a Black individual', 'confused or chaotic', 'informal term for someone who acts obnoxiously', 'bothersome individuals', 'engaging in sexual activity', 'informal term for emphasis', 'silly term for an individual', 'offensive term for someone with disabilities', 'bothersome individuals', 'rude act', 'nonsense or foolishness', 'foolish person', 'silly person', 'informal term for male genitalia', 'derogatory term for a promiscuous woman', 'offensive term for a Japanese person', 'offensive term for a person of Asian descent', 'troublesome individuals', 'bothersome individual', 'expression of frustration', 'informal term for something of poor quality', 'derogatory term for a woman', 'foolish individual', 'bothersome individual', 'bothersome individual', 'informal term for inappropriate behavior', 'informal term for a Black woman', 'informal term for Black individual', 'informal term for male genitalia', 'bothersome individuals', 'troublesome person', 'foolish individual', 'alternative lifestyle practice', 'offensive term for a person (not recommended)', 'inappropriate term for an individual', 'adult toy', 'bothersome individual', 'informal term for a bothersome individual', 'informal term for female genitalia', 'engage in self-pleasure', 'foolish individuals', 'male genitalia (plural)', 'bothersome individual', 'offensive term for individuals', 'bothersome individual', 'informal term for testicles', 'informal term for something unpleasant', 'informal term used among friends', 'confused or chaotic', 'expression of frustration', 'offensive term for Black individuals', 'informal term for a scam artist', 'bothersome individuals', 'bothersome individual', 'male genitalia', 'informal term for an individual', 'offensive term for a person who engages in violence', 'inappropriate behavior', 'bothersome individual', 'bothersome individuals', 'informal variation of an inappropriate term', 'offensive term for a person (not recommended)', 'informal term for foolish individuals', 'bothersome individuals', 'informal term for emphasis', 'individual performing oral activity', 'bothersome individuals', 'disrespectful term for individuals', 'troublesome individuals', 'informal term for engaging in sexual activity', 'bothersome individual', 'resembling a difficult person', 'bothersome individual', 'humorous or awkward situation', 'sexual position', 'informal term for emphasis', 'confused or chaotic', 'foolish person', 'informal term for having been overwhelmed', 'informal term for emphasis', 'inappropriate behavior', 'offensive term for a person', 'foolish person', 'informal term for male genitalia', 'bothersome individuals', 'foolish behavior', 'male genitalia (plural)', 'informal term for masturbation', 'bothersome individual', 'bothersome individuals', 'troublesome individual', 'offensive term for a person', 'troublemakers', 'rear opening', 'offensive term for Black individuals', 'foolish individual', 'bothersome individual', 'bothersome individuals', 'bothersome individual', 'offensive term related to theft', 'informal term for a bothersome situation', 'troublesome individuals', 'bothersome individual', 'offensive term for a Black person', 'informal term for a Black person', 'bothersome individuals', 'bothersome individuals', 'foolish pranksters', 'foolish individual', 'troublesome individuals', 'informal term for emphasis', 'bothersome individuals', 'disrespectful term for oral activity', 'informal term for emphasis', 'offensive term for a moneylender', 'bothersome individual', 'informal term for individuals', 'informal term for something unpleasant', 'bothersome individual', 'informal term for an offensive reference', 'mistake or error', 'breasts', 'annoying individual', 'expression of personal experience', 'bothersome individual', 'offensive term for a person of Asian descent', 'bothersome individuals', 'informal term for skin', 'jerk', 'individual associated with a hate group', 'bothersome individual', 'mutual satisfaction', 'informal term for emphasis', 'complaining', 'derogatory term for a person', 'bodily fluid', 'informal term for engaging in masturbation', 'troublesome individual', 'expression of annoyance', 'troublesome individual', 'bothersome individuals', 'enthusiastic participant in oral activity', 'foolish person', 'informal term for frustration', 'derogatory term for women perceived as promiscuous', 'informal term for individuals engaging in inappropriate behavior', 'humorous reference to male bodily fluids', 'engaging in oral activity', 'informal term for engaging in masturbation', 'offensive term for Black individuals', 'offensive person', 'informal term for a woman', 'informal term for a Black individual', 'informal term for self-pleasure', 'troublesome people', 'informal term for Black individuals', 'informal term for feces', 'disrespectful term for individuals', 'bothersome individual', 'playful term for an individual', 'foolish or nonsensical', 'informal term for emphasis', 'offensive term for a person', 'released bodily fluid', 'informal term for male genitalia', 'informal term for a Black individual', 'bothersome individual', 'informal term for male genitalia', 'lacking undesirable qualities', 'bothersome individual', 'male genitalia', 'deceptive person', 'bothersome individual', 'playful term for a messy situation', 'playful term for a troublesome individual', 'unpleasant or spiteful', 'inappropriate behavior', 'bothersome individual', 'bothersome individuals', 'foolish individuals', 'to touch or poke', 'informal term for adult film actors', 'inappropriate term for self-pleasure', 'troublesome individual', 'excrement', 'offensive term for a Jewish person', 'informal term for a troublesome person', 'bothersome individual', 'inappropriate term for a person', 'bothersome individuals', 'offensive term for an Italian person (not recommended)', 'disrespectful term for a parent', 'foolish person', 'irritating individual', 'informal term for an exclamation of frustration', 'annoying or unpleasant behavior', 'annoying person', 'informal term for sexual activity (context-dependent)', 'bothersome individual', 'offensive term for a person', 'rear', 'informal term for female genitalia', 'bothersome individuals', 'informal term for oral activity', 'foolish individual', 'bothersome individual', 'engaging in a derogatory act', 'expression of frustration', 'informal term for a person', 'informal term for male genitalia', 'offensive term for a person (not recommended)', 'troublesome individual', 'bothersome individual', 'informal term for feces', 'inappropriate reference to anatomy', 'informal term for individuals who exploit children', 'disruptive behavior', 'bothersome individual', 'informal term for a troublesome individual', 'bothersome individuals', 'bothersome individuals']\n",
      "{'eval_loss': 1.8127193450927734, 'eval_bleu': 0.2819856464230002, 'eval_rouge1': 0.44449592661219517, 'eval_rouge2': 0.3500363612082363, 'eval_rougeL': 0.44496302410824473, 'eval_runtime': 12.0645, 'eval_samples_per_second': 26.524, 'eval_steps_per_second': 0.829, 'epoch': 34.0}\n",
      "{'loss': 1.0625, 'grad_norm': 2.100076198577881, 'learning_rate': 5e-06, 'epoch': 36.0}\n"
     ]
    },
    {
     "data": {
      "application/vnd.jupyter.widget-view+json": {
       "model_id": "0fa89daad388446fa669bc156fa4a08e",
       "version_major": 2,
       "version_minor": 0
      },
      "text/plain": [
       "  0%|          | 0/10 [00:00<?, ?it/s]"
      ]
     },
     "metadata": {},
     "output_type": "display_data"
    },
    {
     "name": "stdout",
     "output_type": "stream",
     "text": [
      "['informal term for bodily fluid', 'individuals who engage in self-pleasure', 'rude person', 'troublesome individual', 'informal term for a sexual position', 'informal term for an individual', 'rude individual', 'bothersome individual', 'offensive term for a violent act', 'humorous phrase for engaging in sexual activity', 'foolish individual', 'informal term for a Black individuals', 'bothersome individual', 'informal term for a Black person', 'male genitalia', 'informal term for being intoxicated or altered', 'bothersome individuals', 'foolish individual', 'humorous situation involving the toilet', 'Black individual', 'confused or chaotic', 'informal term for a boy with feminine traits', 'derogatory term for individuals', 'foolish individuals', 'informal term for male genitalia', 'punishment (historical context)', 'derogatory term for a woman', 'flamboyant individual', 'bothersome individual', 'derogatory term for a sexually active person', 'informal term for someone who is irritating', 'informal term for inappropriate behavior', 'inappropriate term for someone who engages in inappropriate actions with children', 'offensive term for an individual', 'bothersome individuals', 'bothersome individual', 'someone engaging in indulgent behavior (often drinking)', 'informal term for a foolish person', 'bothersome individual', 'bothersome individual', 'engage in self-pleasure', 'informal term for a promiscuous woman', 'expression of frustration', 'informal term for emphasis', 'troublesome individual', 'informal term for individuals', 'informal term for individuals', 'bothersome individual', 'informal term for someone engaging in inappropriate behavior', 'bothersome individuals', 'informal term for sexual activity', 'informal term for a person who attracts attention', 'bothersome individual', 'troublesome individuals', 'bothersome individual', 'inappropriate term for sexual activity', 'informal term for a foolish individual', 'informal term for emphasis', 'disrespectful term for oral activity', 'bothersome individual', 'bothersome individual', 'informal term for someone engaging in inappropriate behavior', 'informal term for female genitalia', 'bothersome individual', 'foolish individuals', 'inappropriate act', 'bothersome individual', 'chaotic situation', 'bothersome individual', 'informal term for a view of someone’s underwear', 'offensive term for a person (not recommended)', 'bothersome individual', 'offensive term for a person of Latin American descent', 'offensive term for a person of Latin American descent', 'offensive term for a person (not recommended)', 'bodily fluid', 'informal term for a person engaging in sexual activity', 'informal term for a sexual position', 'informal term for emphasis', 'informal term for a Black person', 'informal term for annoyance', 'derogatory term for a person', 'foolish individuals', 'informal term for a woman (often derogatory)', 'informal term for a flamboyant individual', 'bothersome individual', 'bothersome behavior', 'informal term for emphasis', 'bothersome individuals', 'adult toy', 'expression of frustration', 'troublesome individuals', 'foolish individuals', 'informal term for emphasis', 'extremely angry', 'individual who engages in sexual activity', 'troublesome individual', 'informal term for male genitalia', 'derogatory term for a woman', 'informal term for a Black individual', 'confused or chaotic', 'informal term for someone who acts obnoxiously', 'bothersome individuals', 'engaging in sexual activity', 'informal term for emphasis', 'silly term for an individual', 'offensive term for someone with disabilities', 'bothersome individuals', 'rude act', 'nonsense or foolishness', 'foolish person', 'silly person', 'informal term for male genitalia', 'derogatory term for a promiscuous woman', 'offensive term for a Japanese person', 'offensive term for a person of Asian descent', 'troublesome individuals', 'bothersome individual', 'expression of frustration', 'informal term for something of poor quality', 'derogatory term for a woman', 'foolish individual', 'bothersome individual', 'bothersome individual', 'informal term for inappropriate behavior', 'informal term for a Black woman', 'informal term for Black individual', 'informal term for male genitalia', 'bothersome individuals', 'troublesome person', 'foolish individual', 'alternative lifestyle practice', 'offensive term for a person (not recommended)', 'inappropriate term for an individual', 'adult toy', 'bothersome individual', 'informal term for a bothersome individual', 'informal term for female genitalia', 'engage in self-pleasure', 'foolish individuals', 'male genitalia (plural)', 'bothersome individual', 'offensive term for individuals', 'bothersome individual', 'informal term for testicles', 'informal term for something unpleasant', 'informal term used among friends', 'confused or chaotic', 'expression of frustration', 'offensive term for Black individuals', 'informal term for a scam artist', 'bothersome individuals', 'bothersome individual', 'male genitalia', 'informal term for an individual', 'offensive term for a person who engages in violence', 'inappropriate behavior', 'bothersome individual', 'bothersome individuals', 'informal variation of an inappropriate term', 'offensive term for a person (not recommended)', 'informal term for foolish individuals', 'bothersome individuals', 'informal term for emphasis', 'individual performing oral activity', 'bothersome individuals', 'disrespectful term for individuals', 'troublesome individuals', 'informal term for engaging in sexual activity', 'bothersome individual', 'resembling a difficult person', 'bothersome individual', 'humorous or awkward situation', 'sexual position', 'informal term for emphasis', 'confused or chaotic', 'foolish person', 'informal term for having been overwhelmed', 'informal term for emphasis', 'inappropriate behavior', 'offensive term for a person', 'foolish person', 'informal term for male genitalia', 'bothersome individuals', 'foolish behavior', 'male genitalia (plural)', 'informal term for masturbation', 'bothersome individual', 'bothersome individuals', 'troublesome individual', 'offensive term for a person', 'troublemakers', 'rear opening', 'offensive term for Black individuals', 'foolish individual', 'bothersome individual', 'bothersome individuals', 'bothersome individual', 'offensive term related to theft', 'informal term for a bothersome situation', 'troublesome individuals', 'bothersome individual', 'offensive term for a Black person', 'informal term for a Black person', 'bothersome individuals', 'bothersome individuals', 'foolish pranksters', 'foolish individual', 'troublesome individuals', 'informal term for emphasis', 'bothersome individuals', 'disrespectful term for oral activity', 'informal term for emphasis', 'offensive term for a moneylender', 'bothersome individual', 'informal term for individuals', 'informal term for something unpleasant', 'bothersome individual', 'informal term for an offensive reference', 'mistake or error', 'breasts', 'annoying individual', 'expression of personal experience', 'bothersome individual', 'offensive term for a person of Asian descent', 'bothersome individuals', 'informal term for skin', 'jerk', 'individual associated with a hate group', 'bothersome individual', 'mutual satisfaction', 'informal term for emphasis', 'complaining', 'derogatory term for a person', 'bodily fluid', 'informal term for engaging in masturbation', 'troublesome individual', 'expression of annoyance', 'troublesome individual', 'bothersome individuals', 'enthusiastic participant in oral activity', 'foolish person', 'informal term for frustration', 'derogatory term for women perceived as promiscuous', 'informal term for individuals engaging in inappropriate behavior', 'humorous reference to male bodily fluids', 'engaging in oral activity', 'informal term for engaging in masturbation', 'offensive term for Black individuals', 'offensive person', 'informal term for a woman', 'informal term for a Black individual', 'informal term for self-pleasure', 'troublesome people', 'informal term for Black individuals', 'informal term for feces', 'disrespectful term for individuals', 'bothersome individual', 'playful term for an individual', 'foolish or nonsensical', 'informal term for emphasis', 'offensive term for a person', 'released bodily fluid', 'informal term for male genitalia', 'informal term for a Black individual', 'bothersome individual', 'informal term for male genitalia', 'lacking undesirable qualities', 'bothersome individual', 'male genitalia', 'deceptive person', 'bothersome individual', 'playful term for a messy situation', 'playful term for a troublesome individual', 'unpleasant or spiteful', 'inappropriate behavior', 'bothersome individual', 'bothersome individuals', 'foolish individuals', 'to touch or poke', 'informal term for adult film actors', 'inappropriate term for self-pleasure', 'troublesome individual', 'excrement', 'offensive term for a Jewish person', 'informal term for a troublesome person', 'bothersome individual', 'inappropriate term for a person', 'bothersome individuals', 'offensive term for an Italian person (not recommended)', 'disrespectful term for a parent', 'foolish person', 'irritating individual', 'informal term for an exclamation of frustration', 'annoying or unpleasant behavior', 'annoying person', 'informal term for sexual activity (context-dependent)', 'bothersome individual', 'offensive term for a person', 'rear', 'informal term for female genitalia', 'bothersome individuals', 'informal term for oral activity', 'foolish individual', 'bothersome individual', 'engaging in a derogatory act', 'expression of frustration', 'informal term for a person', 'informal term for male genitalia', 'offensive term for a person (not recommended)', 'troublesome individual', 'bothersome individual', 'informal term for feces', 'inappropriate reference to anatomy', 'informal term for individuals who exploit children', 'disruptive behavior', 'bothersome individual', 'informal term for a troublesome individual', 'bothersome individuals', 'bothersome individuals']\n",
      "{'eval_loss': 1.8140201568603516, 'eval_bleu': 0.2970134901035909, 'eval_rouge1': 0.4447517721759451, 'eval_rouge2': 0.35225939858752353, 'eval_rougeL': 0.4455632640949737, 'eval_runtime': 11.6286, 'eval_samples_per_second': 27.518, 'eval_steps_per_second': 0.86, 'epoch': 36.0}\n",
      "{'loss': 1.0365, 'grad_norm': 2.0393171310424805, 'learning_rate': 2.5e-06, 'epoch': 38.0}\n"
     ]
    },
    {
     "data": {
      "application/vnd.jupyter.widget-view+json": {
       "model_id": "dc4e78b07bf54b6db2b33b33f59886af",
       "version_major": 2,
       "version_minor": 0
      },
      "text/plain": [
       "  0%|          | 0/10 [00:00<?, ?it/s]"
      ]
     },
     "metadata": {},
     "output_type": "display_data"
    },
    {
     "name": "stdout",
     "output_type": "stream",
     "text": [
      "['informal term for bodily fluid', 'individuals who engage in self-pleasure', 'rude person', 'troublesome individual', 'informal term for a sexual position', 'informal term for an individual', 'rude individual', 'bothersome individual', 'offensive term for a violent act', 'humorous phrase for engaging in sexual activity', 'foolish individual', 'informal term for a Black individuals', 'bothersome individual', 'informal term for a Black person', 'male genitalia', 'informal term for being intoxicated or altered', 'bothersome individuals', 'foolish individual', 'humorous situation involving the toilet', 'Black individual', 'confused or chaotic', 'informal term for a boy with feminine traits', 'derogatory term for individuals', 'foolish individuals', 'informal term for male genitalia', 'punishment (historical context)', 'derogatory term for a woman', 'flamboyant individual', 'bothersome individual', 'derogatory term for a sexually active person', 'informal term for someone who is irritating', 'informal term for inappropriate behavior', 'inappropriate term for someone who engages in inappropriate actions with children', 'offensive term for an individual', 'bothersome individuals', 'bothersome individual', 'someone engaging in indulgent behavior (often drinking)', 'informal term for a foolish person', 'bothersome individual', 'bothersome individual', 'engage in self-pleasure', 'informal term for a promiscuous woman', 'expression of frustration', 'informal term for emphasis', 'troublesome individual', 'informal term for individuals', 'informal term for individuals', 'bothersome individual', 'informal term for someone engaging in inappropriate behavior', 'bothersome individuals', 'informal term for sexual activity', 'informal term for a person who attracts attention', 'bothersome individual', 'troublesome individuals', 'bothersome individual', 'inappropriate term for sexual activity', 'informal term for a foolish individual', 'informal term for emphasis', 'disrespectful term for oral activity', 'bothersome individual', 'bothersome individual', 'informal term for someone engaging in inappropriate behavior', 'informal term for female genitalia', 'bothersome individual', 'foolish individuals', 'inappropriate act', 'bothersome individual', 'chaotic situation', 'bothersome individual', 'informal term for a view of someone’s underwear', 'offensive term for a person (not recommended)', 'bothersome individual', 'offensive term for a person of Latin American descent', 'offensive term for a person of Latin American descent', 'offensive term for a person (not recommended)', 'bodily fluid', 'informal term for a person engaging in sexual activity', 'informal term for a sexual position', 'informal term for emphasis', 'informal term for a Black person', 'informal term for annoyance', 'derogatory term for a person', 'foolish individuals', 'informal term for a woman (often derogatory)', 'informal term for a flamboyant individual', 'bothersome individual', 'bothersome behavior', 'informal term for emphasis', 'bothersome individuals', 'adult toy', 'expression of frustration', 'troublesome individuals', 'foolish individuals', 'informal term for emphasis', 'extremely angry', 'individual who engages in sexual activity', 'troublesome individual', 'informal term for male genitalia', 'derogatory term for a woman', 'informal term for a Black individual', 'confused or chaotic', 'informal term for someone who acts obnoxiously', 'bothersome individuals', 'engaging in sexual activity', 'informal term for emphasis', 'silly term for an individual', 'offensive term for someone with disabilities', 'bothersome individuals', 'rude act', 'nonsense or foolishness', 'foolish person', 'silly person', 'informal term for male genitalia', 'derogatory term for a promiscuous woman', 'offensive term for a Japanese person', 'offensive term for a person of Asian descent', 'troublesome individuals', 'bothersome individual', 'expression of frustration', 'informal term for something of poor quality', 'derogatory term for a woman', 'foolish individual', 'bothersome individual', 'bothersome individual', 'informal term for inappropriate behavior', 'informal term for a Black woman', 'informal term for Black individual', 'informal term for male genitalia', 'bothersome individuals', 'troublesome person', 'foolish individual', 'alternative lifestyle practice', 'offensive term for a person (not recommended)', 'inappropriate term for an individual', 'adult toy', 'bothersome individual', 'informal term for a bothersome individual', 'informal term for female genitalia', 'engage in self-pleasure', 'foolish individuals', 'male genitalia (plural)', 'bothersome individual', 'offensive term for individuals', 'bothersome individual', 'informal term for testicles', 'informal term for something unpleasant', 'informal term used among friends', 'confused or chaotic', 'expression of frustration', 'offensive term for Black individuals', 'informal term for a scam artist', 'bothersome individuals', 'bothersome individual', 'male genitalia', 'informal term for an individual', 'offensive term for a person who engages in violence', 'inappropriate behavior', 'bothersome individual', 'bothersome individuals', 'informal variation of an inappropriate term', 'offensive term for a person (not recommended)', 'informal term for foolish individuals', 'bothersome individuals', 'informal term for emphasis', 'individual performing oral activity', 'bothersome individuals', 'disrespectful term for individuals', 'troublesome individuals', 'informal term for engaging in sexual activity', 'bothersome individual', 'resembling a difficult person', 'bothersome individual', 'humorous or awkward situation', 'sexual position', 'informal term for emphasis', 'confused or chaotic', 'foolish person', 'informal term for having been overwhelmed', 'informal term for emphasis', 'inappropriate behavior', 'offensive term for a person', 'foolish person', 'informal term for male genitalia', 'bothersome individuals', 'foolish behavior', 'male genitalia (plural)', 'informal term for masturbation', 'bothersome individual', 'bothersome individuals', 'troublesome individual', 'offensive term for a person', 'troublemakers', 'rear opening', 'offensive term for Black individuals', 'foolish individual', 'bothersome individual', 'bothersome individuals', 'bothersome individual', 'offensive term related to theft', 'informal term for a bothersome situation', 'troublesome individuals', 'bothersome individual', 'offensive term for a Black person', 'informal term for a Black person', 'bothersome individuals', 'bothersome individuals', 'foolish pranksters', 'foolish individual', 'troublesome individuals', 'informal term for emphasis', 'bothersome individuals', 'disrespectful term for oral activity', 'informal term for emphasis', 'offensive term for a moneylender', 'bothersome individual', 'informal term for individuals', 'informal term for something unpleasant', 'bothersome individual', 'informal term for an offensive reference', 'mistake or error', 'breasts', 'annoying individual', 'expression of personal experience', 'bothersome individual', 'offensive term for a person of Asian descent', 'bothersome individuals', 'informal term for skin', 'jerk', 'individual associated with a hate group', 'bothersome individual', 'mutual satisfaction', 'informal term for emphasis', 'complaining', 'derogatory term for a person', 'bodily fluid', 'informal term for engaging in masturbation', 'troublesome individual', 'expression of annoyance', 'troublesome individual', 'bothersome individuals', 'enthusiastic participant in oral activity', 'foolish person', 'informal term for frustration', 'derogatory term for women perceived as promiscuous', 'informal term for individuals engaging in inappropriate behavior', 'humorous reference to male bodily fluids', 'engaging in oral activity', 'informal term for engaging in masturbation', 'offensive term for Black individuals', 'offensive person', 'informal term for a woman', 'informal term for a Black individual', 'informal term for self-pleasure', 'troublesome people', 'informal term for Black individuals', 'informal term for feces', 'disrespectful term for individuals', 'bothersome individual', 'playful term for an individual', 'foolish or nonsensical', 'informal term for emphasis', 'offensive term for a person', 'released bodily fluid', 'informal term for male genitalia', 'informal term for a Black individual', 'bothersome individual', 'informal term for male genitalia', 'lacking undesirable qualities', 'bothersome individual', 'male genitalia', 'deceptive person', 'bothersome individual', 'playful term for a messy situation', 'playful term for a troublesome individual', 'unpleasant or spiteful', 'inappropriate behavior', 'bothersome individual', 'bothersome individuals', 'foolish individuals', 'to touch or poke', 'informal term for adult film actors', 'inappropriate term for self-pleasure', 'troublesome individual', 'excrement', 'offensive term for a Jewish person', 'informal term for a troublesome person', 'bothersome individual', 'inappropriate term for a person', 'bothersome individuals', 'offensive term for an Italian person (not recommended)', 'disrespectful term for a parent', 'foolish person', 'irritating individual', 'informal term for an exclamation of frustration', 'annoying or unpleasant behavior', 'annoying person', 'informal term for sexual activity (context-dependent)', 'bothersome individual', 'offensive term for a person', 'rear', 'informal term for female genitalia', 'bothersome individuals', 'informal term for oral activity', 'foolish individual', 'bothersome individual', 'engaging in a derogatory act', 'expression of frustration', 'informal term for a person', 'informal term for male genitalia', 'offensive term for a person (not recommended)', 'troublesome individual', 'bothersome individual', 'informal term for feces', 'inappropriate reference to anatomy', 'informal term for individuals who exploit children', 'disruptive behavior', 'bothersome individual', 'informal term for a troublesome individual', 'bothersome individuals', 'bothersome individuals']\n",
      "{'eval_loss': 1.816920280456543, 'eval_bleu': 0.30210849298518194, 'eval_rouge1': 0.45125077332797925, 'eval_rouge2': 0.3586194708069708, 'eval_rougeL': 0.4519691794622863, 'eval_runtime': 11.6259, 'eval_samples_per_second': 27.525, 'eval_steps_per_second': 0.86, 'epoch': 38.0}\n",
      "{'loss': 1.0271, 'grad_norm': 2.029320001602173, 'learning_rate': 0.0, 'epoch': 40.0}\n"
     ]
    },
    {
     "data": {
      "application/vnd.jupyter.widget-view+json": {
       "model_id": "fda367e61cff4a2a9e9ceb52686f837a",
       "version_major": 2,
       "version_minor": 0
      },
      "text/plain": [
       "  0%|          | 0/10 [00:00<?, ?it/s]"
      ]
     },
     "metadata": {},
     "output_type": "display_data"
    },
    {
     "name": "stdout",
     "output_type": "stream",
     "text": [
      "['informal term for bodily fluid', 'individuals who engage in self-pleasure', 'rude person', 'troublesome individual', 'informal term for a sexual position', 'informal term for an individual', 'rude individual', 'bothersome individual', 'offensive term for a violent act', 'humorous phrase for engaging in sexual activity', 'foolish individual', 'informal term for a Black individuals', 'bothersome individual', 'informal term for a Black person', 'male genitalia', 'informal term for being intoxicated or altered', 'bothersome individuals', 'foolish individual', 'humorous situation involving the toilet', 'Black individual', 'confused or chaotic', 'informal term for a boy with feminine traits', 'derogatory term for individuals', 'foolish individuals', 'informal term for male genitalia', 'punishment (historical context)', 'derogatory term for a woman', 'flamboyant individual', 'bothersome individual', 'derogatory term for a sexually active person', 'informal term for someone who is irritating', 'informal term for inappropriate behavior', 'inappropriate term for someone who engages in inappropriate actions with children', 'offensive term for an individual', 'bothersome individuals', 'bothersome individual', 'someone engaging in indulgent behavior (often drinking)', 'informal term for a foolish person', 'bothersome individual', 'bothersome individual', 'engage in self-pleasure', 'informal term for a promiscuous woman', 'expression of frustration', 'informal term for emphasis', 'troublesome individual', 'informal term for individuals', 'informal term for individuals', 'bothersome individual', 'informal term for someone engaging in inappropriate behavior', 'bothersome individuals', 'informal term for sexual activity', 'informal term for a person who attracts attention', 'bothersome individual', 'troublesome individuals', 'bothersome individual', 'inappropriate term for sexual activity', 'informal term for a foolish individual', 'informal term for emphasis', 'disrespectful term for oral activity', 'bothersome individual', 'bothersome individual', 'informal term for someone engaging in inappropriate behavior', 'informal term for female genitalia', 'bothersome individual', 'foolish individuals', 'inappropriate act', 'bothersome individual', 'chaotic situation', 'bothersome individual', 'informal term for a view of someone’s underwear', 'offensive term for a person (not recommended)', 'bothersome individual', 'offensive term for a person of Latin American descent', 'offensive term for a person of Latin American descent', 'offensive term for a person (not recommended)', 'bodily fluid', 'informal term for a person engaging in sexual activity', 'informal term for a sexual position', 'informal term for emphasis', 'informal term for a Black person', 'informal term for annoyance', 'derogatory term for a person', 'foolish individuals', 'informal term for a woman (often derogatory)', 'informal term for a flamboyant individual', 'bothersome individual', 'bothersome behavior', 'informal term for emphasis', 'bothersome individuals', 'adult toy', 'expression of frustration', 'troublesome individuals', 'foolish individuals', 'informal term for emphasis', 'extremely angry', 'individual who engages in sexual activity', 'troublesome individual', 'informal term for male genitalia', 'derogatory term for a woman', 'informal term for a Black individual', 'confused or chaotic', 'informal term for someone who acts obnoxiously', 'bothersome individuals', 'engaging in sexual activity', 'informal term for emphasis', 'silly term for an individual', 'offensive term for someone with disabilities', 'bothersome individuals', 'rude act', 'nonsense or foolishness', 'foolish person', 'silly person', 'informal term for male genitalia', 'derogatory term for a promiscuous woman', 'offensive term for a Japanese person', 'offensive term for a person of Asian descent', 'troublesome individuals', 'bothersome individual', 'expression of frustration', 'informal term for something of poor quality', 'derogatory term for a woman', 'foolish individual', 'bothersome individual', 'bothersome individual', 'informal term for inappropriate behavior', 'informal term for a Black woman', 'informal term for Black individual', 'informal term for male genitalia', 'bothersome individuals', 'troublesome person', 'foolish individual', 'alternative lifestyle practice', 'offensive term for a person (not recommended)', 'inappropriate term for an individual', 'adult toy', 'bothersome individual', 'informal term for a bothersome individual', 'informal term for female genitalia', 'engage in self-pleasure', 'foolish individuals', 'male genitalia (plural)', 'bothersome individual', 'offensive term for individuals', 'bothersome individual', 'informal term for testicles', 'informal term for something unpleasant', 'informal term used among friends', 'confused or chaotic', 'expression of frustration', 'offensive term for Black individuals', 'informal term for a scam artist', 'bothersome individuals', 'bothersome individual', 'male genitalia', 'informal term for an individual', 'offensive term for a person who engages in violence', 'inappropriate behavior', 'bothersome individual', 'bothersome individuals', 'informal variation of an inappropriate term', 'offensive term for a person (not recommended)', 'informal term for foolish individuals', 'bothersome individuals', 'informal term for emphasis', 'individual performing oral activity', 'bothersome individuals', 'disrespectful term for individuals', 'troublesome individuals', 'informal term for engaging in sexual activity', 'bothersome individual', 'resembling a difficult person', 'bothersome individual', 'humorous or awkward situation', 'sexual position', 'informal term for emphasis', 'confused or chaotic', 'foolish person', 'informal term for having been overwhelmed', 'informal term for emphasis', 'inappropriate behavior', 'offensive term for a person', 'foolish person', 'informal term for male genitalia', 'bothersome individuals', 'foolish behavior', 'male genitalia (plural)', 'informal term for masturbation', 'bothersome individual', 'bothersome individuals', 'troublesome individual', 'offensive term for a person', 'troublemakers', 'rear opening', 'offensive term for Black individuals', 'foolish individual', 'bothersome individual', 'bothersome individuals', 'bothersome individual', 'offensive term related to theft', 'informal term for a bothersome situation', 'troublesome individuals', 'bothersome individual', 'offensive term for a Black person', 'informal term for a Black person', 'bothersome individuals', 'bothersome individuals', 'foolish pranksters', 'foolish individual', 'troublesome individuals', 'informal term for emphasis', 'bothersome individuals', 'disrespectful term for oral activity', 'informal term for emphasis', 'offensive term for a moneylender', 'bothersome individual', 'informal term for individuals', 'informal term for something unpleasant', 'bothersome individual', 'informal term for an offensive reference', 'mistake or error', 'breasts', 'annoying individual', 'expression of personal experience', 'bothersome individual', 'offensive term for a person of Asian descent', 'bothersome individuals', 'informal term for skin', 'jerk', 'individual associated with a hate group', 'bothersome individual', 'mutual satisfaction', 'informal term for emphasis', 'complaining', 'derogatory term for a person', 'bodily fluid', 'informal term for engaging in masturbation', 'troublesome individual', 'expression of annoyance', 'troublesome individual', 'bothersome individuals', 'enthusiastic participant in oral activity', 'foolish person', 'informal term for frustration', 'derogatory term for women perceived as promiscuous', 'informal term for individuals engaging in inappropriate behavior', 'humorous reference to male bodily fluids', 'engaging in oral activity', 'informal term for engaging in masturbation', 'offensive term for Black individuals', 'offensive person', 'informal term for a woman', 'informal term for a Black individual', 'informal term for self-pleasure', 'troublesome people', 'informal term for Black individuals', 'informal term for feces', 'disrespectful term for individuals', 'bothersome individual', 'playful term for an individual', 'foolish or nonsensical', 'informal term for emphasis', 'offensive term for a person', 'released bodily fluid', 'informal term for male genitalia', 'informal term for a Black individual', 'bothersome individual', 'informal term for male genitalia', 'lacking undesirable qualities', 'bothersome individual', 'male genitalia', 'deceptive person', 'bothersome individual', 'playful term for a messy situation', 'playful term for a troublesome individual', 'unpleasant or spiteful', 'inappropriate behavior', 'bothersome individual', 'bothersome individuals', 'foolish individuals', 'to touch or poke', 'informal term for adult film actors', 'inappropriate term for self-pleasure', 'troublesome individual', 'excrement', 'offensive term for a Jewish person', 'informal term for a troublesome person', 'bothersome individual', 'inappropriate term for a person', 'bothersome individuals', 'offensive term for an Italian person (not recommended)', 'disrespectful term for a parent', 'foolish person', 'irritating individual', 'informal term for an exclamation of frustration', 'annoying or unpleasant behavior', 'annoying person', 'informal term for sexual activity (context-dependent)', 'bothersome individual', 'offensive term for a person', 'rear', 'informal term for female genitalia', 'bothersome individuals', 'informal term for oral activity', 'foolish individual', 'bothersome individual', 'engaging in a derogatory act', 'expression of frustration', 'informal term for a person', 'informal term for male genitalia', 'offensive term for a person (not recommended)', 'troublesome individual', 'bothersome individual', 'informal term for feces', 'inappropriate reference to anatomy', 'informal term for individuals who exploit children', 'disruptive behavior', 'bothersome individual', 'informal term for a troublesome individual', 'bothersome individuals', 'bothersome individuals']\n",
      "{'eval_loss': 1.8072668313980103, 'eval_bleu': 0.30151226695432337, 'eval_rouge1': 0.4547634894211181, 'eval_rouge2': 0.36028728216228234, 'eval_rougeL': 0.45519816299917415, 'eval_runtime': 11.4882, 'eval_samples_per_second': 27.855, 'eval_steps_per_second': 0.87, 'epoch': 40.0}\n"
     ]
    },
    {
     "name": "stderr",
     "output_type": "stream",
     "text": [
      "There were missing keys in the checkpoint model loaded: ['encoder.embed_tokens.weight', 'decoder.embed_tokens.weight', 'lm_head.weight'].\n"
     ]
    },
    {
     "name": "stdout",
     "output_type": "stream",
     "text": [
      "{'train_runtime': 1387.5817, 'train_samples_per_second': 36.899, 'train_steps_per_second': 0.144, 'train_loss': 2.077594141960144, 'epoch': 40.0}\n"
     ]
    },
    {
     "data": {
      "text/plain": [
       "TrainOutput(global_step=200, training_loss=2.077594141960144, metrics={'train_runtime': 1387.5817, 'train_samples_per_second': 36.899, 'train_steps_per_second': 0.144, 'total_flos': 1348979694612480.0, 'train_loss': 2.077594141960144, 'epoch': 40.0})"
      ]
     },
     "execution_count": 17,
     "metadata": {},
     "output_type": "execute_result"
    }
   ],
   "source": [
    "training_args = Seq2SeqTrainingArguments(\n",
    "    output_dir='Users/anthai/Library/CloudStorage/OneDrive-UTS/SPR2024/Advanced NLP/Assignments/Assignment 3/results',\n",
    "    eval_strategy=\"steps\",\n",
    "    eval_steps=10,\n",
    "    per_device_train_batch_size=32,\n",
    "    per_device_eval_batch_size =32,\n",
    "    learning_rate=0.00005,\n",
    "    weight_decay=0.001,\n",
    "    gradient_accumulation_steps=8,\n",
    "    predict_with_generate=True,\n",
    "    logging_dir='Users/anthai/Library/CloudStorage/OneDrive-UTS/SPR2024/Advanced NLP/Assignments/Assignment 3/logs',\n",
    "    logging_steps=10,\n",
    "    max_steps= 200,\n",
    "    save_steps=10,\n",
    "    load_best_model_at_end=True,\n",
    "    greater_is_better=False,\n",
    "    report_to=\"tensorboard\",\n",
    "    generation_max_length= 512,\n",
    ")\n",
    "\n",
    "# Initialize the Trainer with AdaFactor optimizer\n",
    "optimizer = torch.optim.AdamW(\n",
    "    model.parameters(),\n",
    "    lr=0.00005,\n",
    "    betas=(0.9, 0.999),\n",
    "    eps=1e-8,\n",
    "    weight_decay=0.001\n",
    ")\n",
    "\n",
    "trainer = Seq2SeqTrainer(\n",
    "    model=model,\n",
    "    args=training_args,\n",
    "    train_dataset=tokenized_train_dataset,\n",
    "    eval_dataset=tokenized_test_dataset,\n",
    "    optimizers=(optimizer, None),\n",
    "    # Provide optimizer in the tuple format\n",
    "    data_collator=data_collator,\n",
    "    compute_metrics=compute_metrics\n",
    ")\n",
    "\n",
    "# Start training\n",
    "trainer.train()"
   ]
  },
  {
   "cell_type": "code",
   "execution_count": 32,
   "metadata": {},
   "outputs": [
    {
     "name": "stdout",
     "output_type": "stream",
     "text": [
      "profanity sentence: Translate from profanity to non profanity: nigga \n",
      "Non-profanity sentence: ['informal term for Black individuals']\n"
     ]
    }
   ],
   "source": [
    "prefix = 'Translate from profanity to non profanity: '\n",
    "input_text = \"nigga\"\n",
    "prefixed_input_text = prefix + input_text\n",
    "# Tokenize the input text\n",
    "encoding = tokenizer(input_text, max_length=128, truncation=True, padding='max_length', return_tensors='pt')\n",
    "\n",
    "# Get the input tensor\n",
    "input_tensor = encoding['input_ids'].to('cpu')\n",
    "attention_mask = encoding['attention_mask']. to('cpu')# Use the 'input_ids' field for the input tensor\n",
    "model.eval().to('cpu')\n",
    "# Get model output\n",
    "with torch.no_grad():\n",
    "    outputs = model.generate(input_tensor, attention_mask = attention_mask, max_length = 128)\n",
    "# Decoding the model output (assuming outputs are logits)\n",
    "decoded_sentence = tokenizer.batch_decode(outputs, skip_special_tokens=True)\n",
    "print( f\"profanity sentence: {prefixed_input_text}\" , '\\n'\n",
    "    f\"Non-profanity sentence: {decoded_sentence}\")"
   ]
  },
  {
   "cell_type": "code",
   "execution_count": 19,
   "metadata": {},
   "outputs": [
    {
     "name": "stdout",
     "output_type": "stream",
     "text": [
      "BLEU score: 0.285825929650852\n",
      "ROUGE scores: {'rouge1': 0.4489743900911183, 'rouge2': 0.3499548021423022, 'rougeL': 0.4458872255195785, 'rougeLsum': 0.44696960719019563}\n"
     ]
    }
   ],
   "source": [
    "import torch\n",
    "from transformers import AutoTokenizer, AutoModelForSeq2SeqLM\n",
    "import evaluate\n",
    "\n",
    "# Initialize metrics\n",
    "bleu_metric = evaluate.load(\"bleu\")\n",
    "rouge_metric = evaluate.load(\"rouge\")\n",
    "\n",
    "\n",
    "# Prepare data lists\n",
    "predictions = []\n",
    "references = []\n",
    "\n",
    "def translate_sentence(sentence, max_length=128):\n",
    "    prefix = 'Translate from profanity to non profanity: '\n",
    "    prefixed_input_text = prefix + sentence\n",
    "    \n",
    "    # Tokenize the input text\n",
    "    encoding = tokenizer(prefixed_input_text, max_length=max_length, truncation=True, padding='max_length', return_tensors='pt')\n",
    "    input_tensor = encoding['input_ids'].to('cpu')\n",
    "    attention_mask = encoding['attention_mask'].to('cpu')\n",
    "    \n",
    "    model.eval()\n",
    "    # Generate translation\n",
    "    with torch.no_grad():\n",
    "        outputs = model.generate(input_tensor, attention_mask=attention_mask, max_length=max_length, pad_token_id=tokenizer.eos_token_id)\n",
    "    \n",
    "    # Decode the generated tokens\n",
    "    decoded_sentence = tokenizer.decode(outputs[0], skip_special_tokens=True)\n",
    "    return decoded_sentence\n",
    "\n",
    "# Evaluate on test set\n",
    "for example in train_dataset['test']:\n",
    "    source_sentence = example['profanity']  # replace with source language\n",
    "    reference_sentence = example['non_profanity']  # replace with target language\n",
    "    \n",
    "    predicted_sentence = translate_sentence(source_sentence)\n",
    "    predictions.append(predicted_sentence)\n",
    "    references.append([reference_sentence])  # Wrap in list for BLEU compatibility\n",
    "\n",
    "# Calculate BLEU\n",
    "result = bleu_metric.compute(predictions=predictions, references=references)\n",
    "print(\"BLEU score:\", result['bleu'])\n",
    "\n",
    "# Calculate ROUGE\n",
    "rouge = rouge_metric.compute(predictions=predictions, references=[ref[0] for ref in references])\n",
    "print(\"ROUGE scores:\", rouge)\n"
   ]
  },
  {
   "cell_type": "code",
   "execution_count": 20,
   "metadata": {},
   "outputs": [
    {
     "data": {
      "text/plain": [
       "Embedding(32101, 768)"
      ]
     },
     "execution_count": 20,
     "metadata": {},
     "output_type": "execute_result"
    }
   ],
   "source": [
    "\n",
    "from transformers import GPT2Tokenizer, GPT2LMHeadModel \n",
    "gpt_tokenizer = GPT2Tokenizer.from_pretrained('gpt2')\n",
    "gpt_model = GPT2LMHeadModel.from_pretrained('gpt2')\n",
    "gpt_tokenizer.pad_token = gpt_tokenizer.eos_token\n",
    "separator_token = \"<|translate|>\"\n",
    "tokenizer.add_tokens([separator_token])\n",
    "model.resize_token_embeddings(len(tokenizer))"
   ]
  },
  {
   "cell_type": "code",
   "execution_count": 21,
   "metadata": {},
   "outputs": [],
   "source": [
    "def gpt_preprocess_function(examples, tokenizer, input_length=128):\n",
    "    # Access 'profanity' and 'non_profanity' as lists\n",
    "    inputs = [text for text in examples['profanity']]\n",
    "    targets = examples['non_profanity']\n",
    "    translation = [f\"{input} {separator_token} {target}\" for input, target in zip(inputs, targets)]\n",
    "    # Tokenize inputs and targets\n",
    "    model_inputs = tokenizer(translation, max_length=128, truncation=True, padding=\"max_length\")\n",
    "    model_inputs[\"labels\"] = model_inputs[\"input_ids\"].copy()  # Copy inputs to labels for language modeling\n",
    "    return model_inputs"
   ]
  },
  {
   "cell_type": "code",
   "execution_count": 22,
   "metadata": {},
   "outputs": [],
   "source": [
    "\n",
    "\n",
    "bleu_metric = evaluate.load(\"bleu\")\n",
    "rouge_metric = evaluate.load(\"rouge\")\n",
    "\n",
    "\n",
    "def gpt_compute_metrics(eval_preds):\n",
    "    preds, labels = eval_preds\n",
    "\n",
    "\n",
    "    # Replace -100 in labels with pad_token_id for decoding\n",
    "    labels = np.where(labels != -100, labels, gpt_tokenizer.pad_token_id)\n",
    "\n",
    "    # Decode predictions and labels\n",
    "    decoded_preds = gpt_tokenizer.batch_decode(preds, skip_special_tokens=True)\n",
    "    decoded_labels = gpt_tokenizer.batch_decode(labels, skip_special_tokens=True)\n",
    "\n",
    "    # Ensure each label is a list of one reference for BLEU\n",
    "    decoded_labels = [label.strip() for label in decoded_labels]\n",
    "\n",
    "    # Strip whitespace from decoded predictions\n",
    "    decoded_preds = [pred.strip() for pred in decoded_preds]\n",
    "    # Compute BLEU score\n",
    "    result = bleu_metric.compute(predictions=decoded_preds, references=decoded_labels)\n",
    "    rouge_result = rouge_metric.compute(predictions=decoded_preds, references=decoded_labels)\n",
    "\n",
    "    return {\n",
    "    \"bleu\": result[\"bleu\"],\n",
    "    \"rouge1\": rouge_result[\"rouge1\"],\n",
    "    \"rouge2\": rouge_result[\"rouge2\"],\n",
    "    \"rougeL\": rouge_result[\"rougeL\"],\n",
    "    }"
   ]
  },
  {
   "cell_type": "code",
   "execution_count": 23,
   "metadata": {},
   "outputs": [
    {
     "data": {
      "application/vnd.jupyter.widget-view+json": {
       "model_id": "f29d908ffdae4f74827c31345ca1246f",
       "version_major": 2,
       "version_minor": 0
      },
      "text/plain": [
       "Map:   0%|          | 0/1278 [00:00<?, ? examples/s]"
      ]
     },
     "metadata": {},
     "output_type": "display_data"
    },
    {
     "data": {
      "application/vnd.jupyter.widget-view+json": {
       "model_id": "840128c169e34e26a2076f1758437912",
       "version_major": 2,
       "version_minor": 0
      },
      "text/plain": [
       "Map:   0%|          | 0/320 [00:00<?, ? examples/s]"
      ]
     },
     "metadata": {},
     "output_type": "display_data"
    }
   ],
   "source": [
    "tokenized_gpt_train_dataset = train_dataset['train'].map(gpt_preprocess_function,\n",
    "            batch_size =10000,\n",
    "            batched=True,\n",
    "            fn_kwargs={\n",
    "                'tokenizer': gpt_tokenizer,\n",
    "                'input_length': 128,\n",
    "            },\n",
    "            remove_columns= ['profanity', 'non_profanity'],\n",
    "            writer_batch_size = 128)\n",
    "tokenized_gpt_test_dataset = train_dataset['test'].map(gpt_preprocess_function,\n",
    "            batch_size =10000,\n",
    "            batched=True,\n",
    "            fn_kwargs={\n",
    "                'tokenizer': gpt_tokenizer,\n",
    "                'input_length': 128,\n",
    "            },\n",
    "            remove_columns= ['profanity', 'non_profanity'],\n",
    "            writer_batch_size = 128)\n"
   ]
  },
  {
   "cell_type": "code",
   "execution_count": 24,
   "metadata": {},
   "outputs": [
    {
     "name": "stderr",
     "output_type": "stream",
     "text": [
      "max_steps is given, it will override any value given in num_train_epochs\n"
     ]
    },
    {
     "data": {
      "application/vnd.jupyter.widget-view+json": {
       "model_id": "9489cbf4ebad48c38a4ad0c6c1921117",
       "version_major": 2,
       "version_minor": 0
      },
      "text/plain": [
       "  0%|          | 0/200 [00:00<?, ?it/s]"
      ]
     },
     "metadata": {},
     "output_type": "display_data"
    },
    {
     "name": "stdout",
     "output_type": "stream",
     "text": [
      "{'loss': 3.5989, 'grad_norm': 7.136495113372803, 'learning_rate': 4.75e-05, 'epoch': 2.0}\n"
     ]
    },
    {
     "data": {
      "application/vnd.jupyter.widget-view+json": {
       "model_id": "7d5987ddf0b24f0c901636fa27b979f2",
       "version_major": 2,
       "version_minor": 0
      },
      "text/plain": [
       "  0%|          | 0/10 [00:00<?, ?it/s]"
      ]
     },
     "metadata": {},
     "output_type": "display_data"
    },
    {
     "name": "stdout",
     "output_type": "stream",
     "text": [
      "{'eval_loss': 2.108588695526123, 'eval_runtime': 5.5487, 'eval_samples_per_second': 57.672, 'eval_steps_per_second': 1.802, 'epoch': 2.0}\n",
      "{'loss': 1.9882, 'grad_norm': 5.222328186035156, 'learning_rate': 4.5e-05, 'epoch': 4.0}\n"
     ]
    },
    {
     "data": {
      "application/vnd.jupyter.widget-view+json": {
       "model_id": "03e1a037b77345bf90a1c6de69257e77",
       "version_major": 2,
       "version_minor": 0
      },
      "text/plain": [
       "  0%|          | 0/10 [00:00<?, ?it/s]"
      ]
     },
     "metadata": {},
     "output_type": "display_data"
    },
    {
     "name": "stdout",
     "output_type": "stream",
     "text": [
      "{'eval_loss': 1.7756900787353516, 'eval_runtime': 5.6218, 'eval_samples_per_second': 56.921, 'eval_steps_per_second': 1.779, 'epoch': 4.0}\n",
      "{'loss': 1.6804, 'grad_norm': 3.449796199798584, 'learning_rate': 4.25e-05, 'epoch': 6.0}\n"
     ]
    },
    {
     "data": {
      "application/vnd.jupyter.widget-view+json": {
       "model_id": "7241a85efbdc420a978dec615fe8949b",
       "version_major": 2,
       "version_minor": 0
      },
      "text/plain": [
       "  0%|          | 0/10 [00:00<?, ?it/s]"
      ]
     },
     "metadata": {},
     "output_type": "display_data"
    },
    {
     "name": "stdout",
     "output_type": "stream",
     "text": [
      "{'eval_loss': 1.6166467666625977, 'eval_runtime': 5.4985, 'eval_samples_per_second': 58.198, 'eval_steps_per_second': 1.819, 'epoch': 6.0}\n",
      "{'loss': 1.4921, 'grad_norm': 3.134739875793457, 'learning_rate': 4e-05, 'epoch': 8.0}\n"
     ]
    },
    {
     "data": {
      "application/vnd.jupyter.widget-view+json": {
       "model_id": "d9eb705e897e45c2879e7056785b0844",
       "version_major": 2,
       "version_minor": 0
      },
      "text/plain": [
       "  0%|          | 0/10 [00:00<?, ?it/s]"
      ]
     },
     "metadata": {},
     "output_type": "display_data"
    },
    {
     "name": "stdout",
     "output_type": "stream",
     "text": [
      "{'eval_loss': 1.5180598497390747, 'eval_runtime': 5.5438, 'eval_samples_per_second': 57.722, 'eval_steps_per_second': 1.804, 'epoch': 8.0}\n",
      "{'loss': 1.3668, 'grad_norm': 3.504802942276001, 'learning_rate': 3.7500000000000003e-05, 'epoch': 10.0}\n"
     ]
    },
    {
     "data": {
      "application/vnd.jupyter.widget-view+json": {
       "model_id": "952e0537c40e466b86c541a028c42e4a",
       "version_major": 2,
       "version_minor": 0
      },
      "text/plain": [
       "  0%|          | 0/10 [00:00<?, ?it/s]"
      ]
     },
     "metadata": {},
     "output_type": "display_data"
    },
    {
     "name": "stdout",
     "output_type": "stream",
     "text": [
      "{'eval_loss': 1.462376594543457, 'eval_runtime': 5.5231, 'eval_samples_per_second': 57.938, 'eval_steps_per_second': 1.811, 'epoch': 10.0}\n",
      "{'loss': 1.2796, 'grad_norm': 3.1429784297943115, 'learning_rate': 3.5e-05, 'epoch': 12.0}\n"
     ]
    },
    {
     "data": {
      "application/vnd.jupyter.widget-view+json": {
       "model_id": "7170d883a1db4fc5af208ca496d28023",
       "version_major": 2,
       "version_minor": 0
      },
      "text/plain": [
       "  0%|          | 0/10 [00:00<?, ?it/s]"
      ]
     },
     "metadata": {},
     "output_type": "display_data"
    },
    {
     "name": "stdout",
     "output_type": "stream",
     "text": [
      "{'eval_loss': 1.4223439693450928, 'eval_runtime': 5.5692, 'eval_samples_per_second': 57.459, 'eval_steps_per_second': 1.796, 'epoch': 12.0}\n",
      "{'loss': 1.1961, 'grad_norm': 3.0848982334136963, 'learning_rate': 3.2500000000000004e-05, 'epoch': 14.0}\n"
     ]
    },
    {
     "data": {
      "application/vnd.jupyter.widget-view+json": {
       "model_id": "6003fed0975148ae86ea7d15c9818281",
       "version_major": 2,
       "version_minor": 0
      },
      "text/plain": [
       "  0%|          | 0/10 [00:00<?, ?it/s]"
      ]
     },
     "metadata": {},
     "output_type": "display_data"
    },
    {
     "name": "stdout",
     "output_type": "stream",
     "text": [
      "{'eval_loss': 1.397424340248108, 'eval_runtime': 5.4785, 'eval_samples_per_second': 58.41, 'eval_steps_per_second': 1.825, 'epoch': 14.0}\n",
      "{'loss': 1.1264, 'grad_norm': 3.2065956592559814, 'learning_rate': 3e-05, 'epoch': 16.0}\n"
     ]
    },
    {
     "data": {
      "application/vnd.jupyter.widget-view+json": {
       "model_id": "b64bfcee9811483fbc9159ec06ecb73c",
       "version_major": 2,
       "version_minor": 0
      },
      "text/plain": [
       "  0%|          | 0/10 [00:00<?, ?it/s]"
      ]
     },
     "metadata": {},
     "output_type": "display_data"
    },
    {
     "name": "stdout",
     "output_type": "stream",
     "text": [
      "{'eval_loss': 1.3807834386825562, 'eval_runtime': 5.5913, 'eval_samples_per_second': 57.232, 'eval_steps_per_second': 1.789, 'epoch': 16.0}\n",
      "{'loss': 1.085, 'grad_norm': 4.277224540710449, 'learning_rate': 2.7500000000000004e-05, 'epoch': 18.0}\n"
     ]
    },
    {
     "data": {
      "application/vnd.jupyter.widget-view+json": {
       "model_id": "b813ada2285e44f4a333ebda6e7af2f9",
       "version_major": 2,
       "version_minor": 0
      },
      "text/plain": [
       "  0%|          | 0/10 [00:00<?, ?it/s]"
      ]
     },
     "metadata": {},
     "output_type": "display_data"
    },
    {
     "name": "stdout",
     "output_type": "stream",
     "text": [
      "{'eval_loss': 1.3712090253829956, 'eval_runtime': 5.5849, 'eval_samples_per_second': 57.298, 'eval_steps_per_second': 1.791, 'epoch': 18.0}\n",
      "{'loss': 1.0335, 'grad_norm': 2.9435415267944336, 'learning_rate': 2.5e-05, 'epoch': 20.0}\n"
     ]
    },
    {
     "data": {
      "application/vnd.jupyter.widget-view+json": {
       "model_id": "91ed577aa319469d87e5e65da159f356",
       "version_major": 2,
       "version_minor": 0
      },
      "text/plain": [
       "  0%|          | 0/10 [00:00<?, ?it/s]"
      ]
     },
     "metadata": {},
     "output_type": "display_data"
    },
    {
     "name": "stdout",
     "output_type": "stream",
     "text": [
      "{'eval_loss': 1.3625977039337158, 'eval_runtime': 5.4935, 'eval_samples_per_second': 58.25, 'eval_steps_per_second': 1.82, 'epoch': 20.0}\n",
      "{'loss': 0.9894, 'grad_norm': 2.8632659912109375, 'learning_rate': 2.25e-05, 'epoch': 22.0}\n"
     ]
    },
    {
     "data": {
      "application/vnd.jupyter.widget-view+json": {
       "model_id": "51fe6d7fc50141f3b261ac3af9e0dde8",
       "version_major": 2,
       "version_minor": 0
      },
      "text/plain": [
       "  0%|          | 0/10 [00:00<?, ?it/s]"
      ]
     },
     "metadata": {},
     "output_type": "display_data"
    },
    {
     "name": "stdout",
     "output_type": "stream",
     "text": [
      "{'eval_loss': 1.355841875076294, 'eval_runtime': 5.5113, 'eval_samples_per_second': 58.062, 'eval_steps_per_second': 1.814, 'epoch': 22.0}\n",
      "{'loss': 0.9539, 'grad_norm': 3.068986415863037, 'learning_rate': 2e-05, 'epoch': 24.0}\n"
     ]
    },
    {
     "data": {
      "application/vnd.jupyter.widget-view+json": {
       "model_id": "78865eabae9c4110b5932f2b03df239a",
       "version_major": 2,
       "version_minor": 0
      },
      "text/plain": [
       "  0%|          | 0/10 [00:00<?, ?it/s]"
      ]
     },
     "metadata": {},
     "output_type": "display_data"
    },
    {
     "name": "stdout",
     "output_type": "stream",
     "text": [
      "{'eval_loss': 1.3560172319412231, 'eval_runtime': 5.5363, 'eval_samples_per_second': 57.8, 'eval_steps_per_second': 1.806, 'epoch': 24.0}\n",
      "{'loss': 0.9299, 'grad_norm': 3.0194973945617676, 'learning_rate': 1.75e-05, 'epoch': 26.0}\n"
     ]
    },
    {
     "data": {
      "application/vnd.jupyter.widget-view+json": {
       "model_id": "e20e469be22440bcbe98041b39829ab7",
       "version_major": 2,
       "version_minor": 0
      },
      "text/plain": [
       "  0%|          | 0/10 [00:00<?, ?it/s]"
      ]
     },
     "metadata": {},
     "output_type": "display_data"
    },
    {
     "name": "stdout",
     "output_type": "stream",
     "text": [
      "{'eval_loss': 1.356813669204712, 'eval_runtime': 5.5077, 'eval_samples_per_second': 58.1, 'eval_steps_per_second': 1.816, 'epoch': 26.0}\n",
      "{'loss': 0.903, 'grad_norm': 2.7766149044036865, 'learning_rate': 1.5e-05, 'epoch': 28.0}\n"
     ]
    },
    {
     "data": {
      "application/vnd.jupyter.widget-view+json": {
       "model_id": "f41fd7e0556b43d7a48009a033e51bfb",
       "version_major": 2,
       "version_minor": 0
      },
      "text/plain": [
       "  0%|          | 0/10 [00:00<?, ?it/s]"
      ]
     },
     "metadata": {},
     "output_type": "display_data"
    },
    {
     "name": "stdout",
     "output_type": "stream",
     "text": [
      "{'eval_loss': 1.3575448989868164, 'eval_runtime': 5.5211, 'eval_samples_per_second': 57.96, 'eval_steps_per_second': 1.811, 'epoch': 28.0}\n",
      "{'loss': 0.8839, 'grad_norm': 3.090280055999756, 'learning_rate': 1.25e-05, 'epoch': 30.0}\n"
     ]
    },
    {
     "data": {
      "application/vnd.jupyter.widget-view+json": {
       "model_id": "e564d9d9b08c404bb67c8ed20249e5d9",
       "version_major": 2,
       "version_minor": 0
      },
      "text/plain": [
       "  0%|          | 0/10 [00:00<?, ?it/s]"
      ]
     },
     "metadata": {},
     "output_type": "display_data"
    },
    {
     "name": "stdout",
     "output_type": "stream",
     "text": [
      "{'eval_loss': 1.3600956201553345, 'eval_runtime': 5.5423, 'eval_samples_per_second': 57.737, 'eval_steps_per_second': 1.804, 'epoch': 30.0}\n",
      "{'loss': 0.8621, 'grad_norm': 2.9484426975250244, 'learning_rate': 1e-05, 'epoch': 32.0}\n"
     ]
    },
    {
     "data": {
      "application/vnd.jupyter.widget-view+json": {
       "model_id": "bcad23da89114f53a83661b07d73f158",
       "version_major": 2,
       "version_minor": 0
      },
      "text/plain": [
       "  0%|          | 0/10 [00:00<?, ?it/s]"
      ]
     },
     "metadata": {},
     "output_type": "display_data"
    },
    {
     "name": "stdout",
     "output_type": "stream",
     "text": [
      "{'eval_loss': 1.3574953079223633, 'eval_runtime': 5.4803, 'eval_samples_per_second': 58.391, 'eval_steps_per_second': 1.825, 'epoch': 32.0}\n",
      "{'loss': 0.8532, 'grad_norm': 2.4967153072357178, 'learning_rate': 7.5e-06, 'epoch': 34.0}\n"
     ]
    },
    {
     "data": {
      "application/vnd.jupyter.widget-view+json": {
       "model_id": "9d2882fb97474f759e241d92b250ab74",
       "version_major": 2,
       "version_minor": 0
      },
      "text/plain": [
       "  0%|          | 0/10 [00:00<?, ?it/s]"
      ]
     },
     "metadata": {},
     "output_type": "display_data"
    },
    {
     "name": "stdout",
     "output_type": "stream",
     "text": [
      "{'eval_loss': 1.3555437326431274, 'eval_runtime': 5.5268, 'eval_samples_per_second': 57.9, 'eval_steps_per_second': 1.809, 'epoch': 34.0}\n",
      "{'loss': 0.8507, 'grad_norm': 3.3690590858459473, 'learning_rate': 5e-06, 'epoch': 36.0}\n"
     ]
    },
    {
     "data": {
      "application/vnd.jupyter.widget-view+json": {
       "model_id": "32dde7e22f574ee9bd38fd52c7380ac4",
       "version_major": 2,
       "version_minor": 0
      },
      "text/plain": [
       "  0%|          | 0/10 [00:00<?, ?it/s]"
      ]
     },
     "metadata": {},
     "output_type": "display_data"
    },
    {
     "name": "stdout",
     "output_type": "stream",
     "text": [
      "{'eval_loss': 1.3569778203964233, 'eval_runtime': 5.5229, 'eval_samples_per_second': 57.941, 'eval_steps_per_second': 1.811, 'epoch': 36.0}\n",
      "{'loss': 0.837, 'grad_norm': 2.5620856285095215, 'learning_rate': 2.5e-06, 'epoch': 38.0}\n"
     ]
    },
    {
     "data": {
      "application/vnd.jupyter.widget-view+json": {
       "model_id": "7efcde88de4945af8171fe1d6ecbc6d1",
       "version_major": 2,
       "version_minor": 0
      },
      "text/plain": [
       "  0%|          | 0/10 [00:00<?, ?it/s]"
      ]
     },
     "metadata": {},
     "output_type": "display_data"
    },
    {
     "name": "stdout",
     "output_type": "stream",
     "text": [
      "{'eval_loss': 1.3571916818618774, 'eval_runtime': 5.5078, 'eval_samples_per_second': 58.1, 'eval_steps_per_second': 1.816, 'epoch': 38.0}\n",
      "{'loss': 0.8325, 'grad_norm': 2.328972578048706, 'learning_rate': 0.0, 'epoch': 40.0}\n"
     ]
    },
    {
     "data": {
      "application/vnd.jupyter.widget-view+json": {
       "model_id": "426cbe61d8e648778fcced77c1138a81",
       "version_major": 2,
       "version_minor": 0
      },
      "text/plain": [
       "  0%|          | 0/10 [00:00<?, ?it/s]"
      ]
     },
     "metadata": {},
     "output_type": "display_data"
    },
    {
     "name": "stdout",
     "output_type": "stream",
     "text": [
      "{'eval_loss': 1.3575884103775024, 'eval_runtime': 5.587, 'eval_samples_per_second': 57.276, 'eval_steps_per_second': 1.79, 'epoch': 40.0}\n"
     ]
    },
    {
     "name": "stderr",
     "output_type": "stream",
     "text": [
      "There were missing keys in the checkpoint model loaded: ['lm_head.weight'].\n"
     ]
    },
    {
     "name": "stdout",
     "output_type": "stream",
     "text": [
      "{'train_runtime': 3304.9122, 'train_samples_per_second': 15.492, 'train_steps_per_second': 0.061, 'train_loss': 1.2371238231658936, 'epoch': 40.0}\n"
     ]
    },
    {
     "data": {
      "text/plain": [
       "TrainOutput(global_step=200, training_loss=1.2371238231658936, metrics={'train_runtime': 3304.9122, 'train_samples_per_second': 15.492, 'train_steps_per_second': 0.061, 'total_flos': 3339312168960000.0, 'train_loss': 1.2371238231658936, 'epoch': 40.0})"
      ]
     },
     "execution_count": 24,
     "metadata": {},
     "output_type": "execute_result"
    }
   ],
   "source": [
    "gpt_training_args = TrainingArguments(\n",
    "    output_dir='Users/anthai/Library/CloudStorage/OneDrive-UTS/SPR2024/Advanced NLP/Assignments/Assignment 3/gpt_results',\n",
    "    eval_strategy=\"steps\",\n",
    "    eval_steps=10,\n",
    "    per_device_train_batch_size=32,\n",
    "    per_device_eval_batch_size =32,\n",
    "    learning_rate=0.00005,\n",
    "    weight_decay=0.001,\n",
    "    gradient_accumulation_steps=8,\n",
    "\n",
    "    logging_dir='Users/anthai/Library/CloudStorage/OneDrive-UTS/SPR2024/Advanced NLP/Assignments/Assignment 3/gpt_logs',\n",
    "    logging_steps=10,\n",
    "    max_steps= 200,\n",
    "    save_steps=10,\n",
    "    load_best_model_at_end=True,\n",
    "    greater_is_better=False,\n",
    "    report_to=\"tensorboard\",\n",
    "\n",
    ")\n",
    "\n",
    "# Initialize the Trainer with AdaFactor optimizer\n",
    "gpt_optimizer = torch.optim.AdamW(\n",
    "    gpt_model.parameters(),\n",
    "    lr=0.00005,\n",
    "    betas=(0.9, 0.999),\n",
    "    eps=1e-8,\n",
    "    weight_decay=0.01\n",
    ")\n",
    "\n",
    "gpt_trainer = Trainer(\n",
    "    model=gpt_model,\n",
    "    args=gpt_training_args,\n",
    "    train_dataset=tokenized_gpt_train_dataset,\n",
    "    eval_dataset=tokenized_gpt_test_dataset,\n",
    "    optimizers=(gpt_optimizer, None),\n",
    "    # Provide optimizer in the tuple format\n",
    "    data_collator=DataCollatorForLanguageModeling(tokenizer=gpt_tokenizer, mlm=False),\n",
    "    #compute_metrics=gpt_compute_metrics\n",
    ")\n",
    "\n",
    "# Start training\n",
    "gpt_trainer.train()"
   ]
  },
  {
   "cell_type": "code",
   "execution_count": 28,
   "metadata": {},
   "outputs": [
    {
     "name": "stdout",
     "output_type": "stream",
     "text": [
      "Source: you mothafucka\n",
      "Translation: bothersome individual (not recommended) who exploits\n"
     ]
    }
   ],
   "source": [
    "import torch\n",
    "\n",
    "# Prefix and input text\n",
    "pad_token_id = tokenizer.eos_token_id \n",
    "input_text = \"you mothafucka\"\n",
    "def translate_sentence(sentence, max_length=128):\n",
    "    # Prepare the input sequence with the separator token\n",
    "    input_text = f\"{sentence} {separator_token}\"\n",
    "    inputs = gpt_tokenizer(input_text, return_tensors=\"pt\")\n",
    "    attention_mask = inputs[\"attention_mask\"]\n",
    "    # Generate the output sequence\n",
    "    outputs = gpt_model.to('cpu').generate(\n",
    "        inputs[\"input_ids\"],\n",
    "        attention_mask = inputs[\"attention_mask\"],\n",
    "        pad_token_id = pad_token_id,\n",
    "        no_repeat_ngram_size=2,\n",
    "        temperature = 0.8,\n",
    "    )\n",
    "\n",
    "    # Decode the generated tokens to get the translated text\n",
    "    translation = gpt_tokenizer.decode(outputs[0], skip_special_tokens=True)\n",
    "    \n",
    "    # Extract only the target text, removing the source and separator\n",
    "    translated_text = translation.split(separator_token)[-1].strip()\n",
    "    return translated_text\n",
    "\n",
    "# Test the translation function\n",
    "translated_text = translate_sentence(input_text)\n",
    "print(\"Source:\", input_text)\n",
    "print(\"Translation:\", translated_text)"
   ]
  },
  {
   "cell_type": "code",
   "execution_count": 27,
   "metadata": {},
   "outputs": [
    {
     "name": "stdout",
     "output_type": "stream",
     "text": [
      "BLEU score: 0.10528400688146479\n",
      "ROUGE scores: {'rouge1': 0.33736451310718474, 'rouge2': 0.22351533398178627, 'rougeL': 0.3324618942530856, 'rougeLsum': 0.33244531277921896}\n"
     ]
    }
   ],
   "source": [
    "import evaluate\n",
    "\n",
    "bleu_metric = evaluate.load(\"bleu\")\n",
    "rouge_metric = evaluate.load(\"rouge\")\n",
    "predictions = []\n",
    "references = []\n",
    "\n",
    "for example in train_dataset['test']:\n",
    "    source_sentence = example['profanity']  # replace with source language\n",
    "    reference_sentence = example['non_profanity']  # replace with target language\n",
    "    predicted_sentence = translate_sentence(source_sentence)\n",
    "    \n",
    "    predictions.append(predicted_sentence)\n",
    "    references.append([reference_sentence])  # Wrap in list for BLEU compatibility\n",
    "\n",
    "# Calculate BLEU\n",
    "result = bleu_metric.compute(predictions=predictions, references=references)\n",
    "\n",
    "print(\"BLEU score:\", result['bleu'])\n",
    "\n",
    "# Calculate ROUGE\n",
    "\n",
    "rouge = rouge_metric.compute(predictions=predictions, references=[ref[0] for ref in references])\n",
    "print(\"ROUGE scores:\", rouge)"
   ]
  }
 ],
 "metadata": {
  "kernelspec": {
   "display_name": "Python 3",
   "language": "python",
   "name": "python3"
  },
  "language_info": {
   "codemirror_mode": {
    "name": "ipython",
    "version": 3
   },
   "file_extension": ".py",
   "mimetype": "text/x-python",
   "name": "python",
   "nbconvert_exporter": "python",
   "pygments_lexer": "ipython3",
   "version": "3.12.4"
  }
 },
 "nbformat": 4,
 "nbformat_minor": 2
}
